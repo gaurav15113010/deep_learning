{
  "nbformat": 4,
  "nbformat_minor": 0,
  "metadata": {
    "colab": {
      "provenance": []
    },
    "kernelspec": {
      "name": "python3",
      "display_name": "Python 3"
    },
    "language_info": {
      "name": "python"
    }
  },
  "cells": [
    {
      "cell_type": "markdown",
      "source": [
        "# **POS Tagging**"
      ],
      "metadata": {
        "id": "61SOjSjEm0Rp"
      }
    },
    {
      "cell_type": "code",
      "execution_count": 29,
      "metadata": {
        "id": "gPuRINvEiNDK"
      },
      "outputs": [],
      "source": [
        "import spacy"
      ]
    },
    {
      "cell_type": "code",
      "source": [
        "nlp  = spacy.load(\"en_core_web_sm\")   #english core web sm, its predefined pipeline, POS and other tasks are integrated"
      ],
      "metadata": {
        "id": "pog_Wg79iXPs"
      },
      "execution_count": 30,
      "outputs": []
    },
    {
      "cell_type": "code",
      "source": [
        "text = \"Bill gates founded Microsoft.\""
      ],
      "metadata": {
        "id": "7YRdPmALiqgN"
      },
      "execution_count": 31,
      "outputs": []
    },
    {
      "cell_type": "code",
      "source": [
        "doc = nlp(text) # this prepares our data in the required format to be passed in the pipleine"
      ],
      "metadata": {
        "id": "2P_OuUQ2k3NB"
      },
      "execution_count": 32,
      "outputs": []
    },
    {
      "cell_type": "code",
      "source": [
        "doc[0].pos_"
      ],
      "metadata": {
        "colab": {
          "base_uri": "https://localhost:8080/",
          "height": 35
        },
        "id": "NuW9AxYwk58b",
        "outputId": "7b4ae11c-b6d4-40ab-951c-92ef8c58d503"
      },
      "execution_count": 33,
      "outputs": [
        {
          "output_type": "execute_result",
          "data": {
            "text/plain": [
              "'PROPN'"
            ],
            "application/vnd.google.colaboratory.intrinsic+json": {
              "type": "string"
            }
          },
          "metadata": {},
          "execution_count": 33
        }
      ]
    },
    {
      "cell_type": "code",
      "source": [
        "spacy.explain('PROPN') # there are more than 8 POS available in in this pipeline. around 27"
      ],
      "metadata": {
        "colab": {
          "base_uri": "https://localhost:8080/",
          "height": 35
        },
        "id": "x7z_XkqHlQzH",
        "outputId": "9c74c68a-f962-486c-ec2f-6778b3cfc205"
      },
      "execution_count": 34,
      "outputs": [
        {
          "output_type": "execute_result",
          "data": {
            "text/plain": [
              "'proper noun'"
            ],
            "application/vnd.google.colaboratory.intrinsic+json": {
              "type": "string"
            }
          },
          "metadata": {},
          "execution_count": 34
        }
      ]
    },
    {
      "cell_type": "code",
      "source": [
        "# to see all the POS in our sentence\n",
        "for token in doc:\n",
        "    print(token, '=>',token.pos_, '=>',spacy.explain(token.pos_))"
      ],
      "metadata": {
        "colab": {
          "base_uri": "https://localhost:8080/"
        },
        "id": "ViP7OOc0lcnS",
        "outputId": "f1d8d996-fff0-4e98-e523-5bdc576b80a1"
      },
      "execution_count": 35,
      "outputs": [
        {
          "output_type": "stream",
          "name": "stdout",
          "text": [
            "Bill => PROPN => proper noun\n",
            "gates => NOUN => noun\n",
            "founded => VERB => verb\n",
            "Microsoft => PROPN => proper noun\n",
            ". => PUNCT => punctuation\n"
          ]
        }
      ]
    },
    {
      "cell_type": "code",
      "source": [
        "# to see all the types of POS\n",
        "nlp.get_pipe(\"tagger\").labels"
      ],
      "metadata": {
        "colab": {
          "base_uri": "https://localhost:8080/"
        },
        "id": "-8ClRB1IleJW",
        "outputId": "22414a61-8e68-4c2f-bf11-0a128b1c69b4"
      },
      "execution_count": 36,
      "outputs": [
        {
          "output_type": "execute_result",
          "data": {
            "text/plain": [
              "('$',\n",
              " \"''\",\n",
              " ',',\n",
              " '-LRB-',\n",
              " '-RRB-',\n",
              " '.',\n",
              " ':',\n",
              " 'ADD',\n",
              " 'AFX',\n",
              " 'CC',\n",
              " 'CD',\n",
              " 'DT',\n",
              " 'EX',\n",
              " 'FW',\n",
              " 'HYPH',\n",
              " 'IN',\n",
              " 'JJ',\n",
              " 'JJR',\n",
              " 'JJS',\n",
              " 'LS',\n",
              " 'MD',\n",
              " 'NFP',\n",
              " 'NN',\n",
              " 'NNP',\n",
              " 'NNPS',\n",
              " 'NNS',\n",
              " 'PDT',\n",
              " 'POS',\n",
              " 'PRP',\n",
              " 'PRP$',\n",
              " 'RB',\n",
              " 'RBR',\n",
              " 'RBS',\n",
              " 'RP',\n",
              " 'SYM',\n",
              " 'TO',\n",
              " 'UH',\n",
              " 'VB',\n",
              " 'VBD',\n",
              " 'VBG',\n",
              " 'VBN',\n",
              " 'VBP',\n",
              " 'VBZ',\n",
              " 'WDT',\n",
              " 'WP',\n",
              " 'WP$',\n",
              " 'WRB',\n",
              " 'XX',\n",
              " '_SP',\n",
              " '``')"
            ]
          },
          "metadata": {},
          "execution_count": 36
        }
      ]
    },
    {
      "cell_type": "code",
      "source": [
        "type(nlp.get_pipe(\"tagger\").labels) # applying for loop in tuple"
      ],
      "metadata": {
        "colab": {
          "base_uri": "https://localhost:8080/"
        },
        "id": "PxH-NBMAmH1t",
        "outputId": "0da9e097-b7ff-4494-c470-1c7bdcb856a7"
      },
      "execution_count": 37,
      "outputs": [
        {
          "output_type": "execute_result",
          "data": {
            "text/plain": [
              "tuple"
            ]
          },
          "metadata": {},
          "execution_count": 37
        }
      ]
    },
    {
      "cell_type": "code",
      "source": [
        "# to know what are all these POS tags\n",
        "for tag in nlp.get_pipe(\"tagger\").labels:\n",
        "    print(tag, '=>',spacy.explain(tag))"
      ],
      "metadata": {
        "colab": {
          "base_uri": "https://localhost:8080/"
        },
        "id": "g9VJA9eol7yO",
        "outputId": "d03aef9f-23d8-4ab9-a03d-c7241ecc74e1"
      },
      "execution_count": 38,
      "outputs": [
        {
          "output_type": "stream",
          "name": "stdout",
          "text": [
            "$ => symbol, currency\n",
            "'' => closing quotation mark\n",
            ", => punctuation mark, comma\n",
            "-LRB- => left round bracket\n",
            "-RRB- => right round bracket\n",
            ". => punctuation mark, sentence closer\n",
            ": => punctuation mark, colon or ellipsis\n",
            "ADD => email\n",
            "AFX => affix\n",
            "CC => conjunction, coordinating\n",
            "CD => cardinal number\n",
            "DT => determiner\n",
            "EX => existential there\n",
            "FW => foreign word\n",
            "HYPH => punctuation mark, hyphen\n",
            "IN => conjunction, subordinating or preposition\n",
            "JJ => adjective (English), other noun-modifier (Chinese)\n",
            "JJR => adjective, comparative\n",
            "JJS => adjective, superlative\n",
            "LS => list item marker\n",
            "MD => verb, modal auxiliary\n",
            "NFP => superfluous punctuation\n",
            "NN => noun, singular or mass\n",
            "NNP => noun, proper singular\n",
            "NNPS => noun, proper plural\n",
            "NNS => noun, plural\n",
            "PDT => predeterminer\n",
            "POS => possessive ending\n",
            "PRP => pronoun, personal\n",
            "PRP$ => pronoun, possessive\n",
            "RB => adverb\n",
            "RBR => adverb, comparative\n",
            "RBS => adverb, superlative\n",
            "RP => adverb, particle\n",
            "SYM => symbol\n",
            "TO => infinitival \"to\"\n",
            "UH => interjection\n",
            "VB => verb, base form\n",
            "VBD => verb, past tense\n",
            "VBG => verb, gerund or present participle\n",
            "VBN => verb, past participle\n",
            "VBP => verb, non-3rd person singular present\n",
            "VBZ => verb, 3rd person singular present\n",
            "WDT => wh-determiner\n",
            "WP => wh-pronoun, personal\n",
            "WP$ => wh-pronoun, possessive\n",
            "WRB => wh-adverb\n",
            "XX => unknown\n",
            "_SP => whitespace\n",
            "`` => opening quotation mark\n"
          ]
        }
      ]
    },
    {
      "cell_type": "code",
      "source": [
        "text = \"$1 billion is the price for something\"\n",
        "doc = nlp(text)\n",
        "for token in doc:\n",
        "    print(token, '=>',token.pos_, '=>',spacy.explain(token.pos_))"
      ],
      "metadata": {
        "colab": {
          "base_uri": "https://localhost:8080/"
        },
        "id": "3cx1Ad0omWiH",
        "outputId": "2574a87a-a679-4b04-842c-2d4d98b5f3b7"
      },
      "execution_count": 39,
      "outputs": [
        {
          "output_type": "stream",
          "name": "stdout",
          "text": [
            "$ => SYM => symbol\n",
            "1 => NUM => numeral\n",
            "billion => NUM => numeral\n",
            "is => AUX => auxiliary\n",
            "the => DET => determiner\n",
            "price => NOUN => noun\n",
            "for => ADP => adposition\n",
            "something => PRON => pronoun\n"
          ]
        }
      ]
    },
    {
      "cell_type": "code",
      "source": [
        "#evaluation metrics\n",
        "'''since its an token classification task, clasification metrics are used\n",
        "  accuracy, precision, recall , confusion metrics,f1'''"
      ],
      "metadata": {
        "colab": {
          "base_uri": "https://localhost:8080/",
          "height": 35
        },
        "id": "kxMW4VbEnBp4",
        "outputId": "69a0d150-72bb-4f3a-f8a8-7cd42dd0935d"
      },
      "execution_count": 40,
      "outputs": [
        {
          "output_type": "execute_result",
          "data": {
            "text/plain": [
              "'since its an token classification task, clasification metrics are used\\n  accuracy, precision, recall , confusion metrics,f1'"
            ],
            "application/vnd.google.colaboratory.intrinsic+json": {
              "type": "string"
            }
          },
          "metadata": {},
          "execution_count": 40
        }
      ]
    },
    {
      "cell_type": "markdown",
      "source": [
        "# **Named Entity Recognition (NER)**"
      ],
      "metadata": {
        "id": "MEIeokHAqBtt"
      }
    },
    {
      "cell_type": "code",
      "source": [
        "text = \"Bill gates founded Microsoft\""
      ],
      "metadata": {
        "id": "e36Ay2GpqHYf"
      },
      "execution_count": 41,
      "outputs": []
    },
    {
      "cell_type": "code",
      "source": [
        "# elon musk is ceo of tesla   >>> here tesla is name of a organisation\n",
        "\n",
        "# nikola tesla was a great inventor >> here tesla is the name of a person"
      ],
      "metadata": {
        "id": "PT5RSkGfqdqC"
      },
      "execution_count": 42,
      "outputs": []
    },
    {
      "cell_type": "code",
      "source": [
        "# apple >> fruit\n",
        "# apple >> organisation"
      ],
      "metadata": {
        "id": "FGu5aybWqwmm"
      },
      "execution_count": 43,
      "outputs": []
    },
    {
      "cell_type": "code",
      "source": [
        "import spacy\n",
        "\n",
        "ner = spacy.load(\"en_core_web_sm\") # same inbuilt pipeline is loaded"
      ],
      "metadata": {
        "id": "uFpw7U0Cq24u"
      },
      "execution_count": 44,
      "outputs": []
    },
    {
      "cell_type": "code",
      "source": [
        "doc = ner(text)"
      ],
      "metadata": {
        "id": "0HmG1uNOrBnA"
      },
      "execution_count": 45,
      "outputs": []
    },
    {
      "cell_type": "code",
      "source": [
        "doc[0]"
      ],
      "metadata": {
        "colab": {
          "base_uri": "https://localhost:8080/"
        },
        "id": "QWVac2iYrFAx",
        "outputId": "7cb77f44-c5e8-45fa-8896-8c1e34857771"
      },
      "execution_count": 46,
      "outputs": [
        {
          "output_type": "execute_result",
          "data": {
            "text/plain": [
              "Bill"
            ]
          },
          "metadata": {},
          "execution_count": 46
        }
      ]
    },
    {
      "cell_type": "code",
      "source": [
        "doc[0].ents # this didnt worked becuase it work on spans not tokens, see below cells"
      ],
      "metadata": {
        "colab": {
          "base_uri": "https://localhost:8080/",
          "height": 141
        },
        "id": "_wuqDOtnr4q_",
        "outputId": "efa7ac5d-f9cf-4bf4-e7c9-2594e7488b0f"
      },
      "execution_count": 47,
      "outputs": [
        {
          "output_type": "error",
          "ename": "AttributeError",
          "evalue": "'spacy.tokens.token.Token' object has no attribute 'ents'",
          "traceback": [
            "\u001b[0;31m---------------------------------------------------------------------------\u001b[0m",
            "\u001b[0;31mAttributeError\u001b[0m                            Traceback (most recent call last)",
            "\u001b[0;32m<ipython-input-47-87bcdb7531d1>\u001b[0m in \u001b[0;36m<cell line: 0>\u001b[0;34m()\u001b[0m\n\u001b[0;32m----> 1\u001b[0;31m \u001b[0mdoc\u001b[0m\u001b[0;34m[\u001b[0m\u001b[0;36m0\u001b[0m\u001b[0;34m]\u001b[0m\u001b[0;34m.\u001b[0m\u001b[0ments\u001b[0m \u001b[0;31m# this didnt worked becuase it work on spans not tokens, see below cells\u001b[0m\u001b[0;34m\u001b[0m\u001b[0;34m\u001b[0m\u001b[0m\n\u001b[0m",
            "\u001b[0;31mAttributeError\u001b[0m: 'spacy.tokens.token.Token' object has no attribute 'ents'"
          ]
        }
      ]
    },
    {
      "cell_type": "code",
      "source": [
        "type(doc[0]) # type is token of spacy"
      ],
      "metadata": {
        "colab": {
          "base_uri": "https://localhost:8080/"
        },
        "id": "u0TW_LBMrIWC",
        "outputId": "a8aa808e-1684-4983-c5dd-41d0f22fda80"
      },
      "execution_count": 48,
      "outputs": [
        {
          "output_type": "execute_result",
          "data": {
            "text/plain": [
              "spacy.tokens.token.Token"
            ]
          },
          "metadata": {},
          "execution_count": 48
        }
      ]
    },
    {
      "cell_type": "code",
      "source": [
        "type(doc[0:3]) #here type is span, means, if we are taking more than one token at a time, than type becomes span"
      ],
      "metadata": {
        "colab": {
          "base_uri": "https://localhost:8080/"
        },
        "id": "NvcDkOoGrVTa",
        "outputId": "4aa2e363-a882-454d-930a-d680aa72e928"
      },
      "execution_count": 49,
      "outputs": [
        {
          "output_type": "execute_result",
          "data": {
            "text/plain": [
              "spacy.tokens.span.Span"
            ]
          },
          "metadata": {},
          "execution_count": 49
        }
      ]
    },
    {
      "cell_type": "code",
      "source": [
        "doc.ents"
      ],
      "metadata": {
        "colab": {
          "base_uri": "https://localhost:8080/"
        },
        "id": "Jgr_im5YrvOG",
        "outputId": "69b9bb61-2213-42c9-a511-46f1102cffb8"
      },
      "execution_count": 50,
      "outputs": [
        {
          "output_type": "execute_result",
          "data": {
            "text/plain": [
              "(Bill, Microsoft)"
            ]
          },
          "metadata": {},
          "execution_count": 50
        }
      ]
    },
    {
      "cell_type": "code",
      "source": [
        "doc.ents[0].label_"
      ],
      "metadata": {
        "colab": {
          "base_uri": "https://localhost:8080/",
          "height": 35
        },
        "id": "cjtUmfrervKp",
        "outputId": "e6666fa3-8dcc-40fc-f2c5-b14963391183"
      },
      "execution_count": 51,
      "outputs": [
        {
          "output_type": "execute_result",
          "data": {
            "text/plain": [
              "'PERSON'"
            ],
            "application/vnd.google.colaboratory.intrinsic+json": {
              "type": "string"
            }
          },
          "metadata": {},
          "execution_count": 51
        }
      ]
    },
    {
      "cell_type": "code",
      "source": [
        "doc.ents[1].label_"
      ],
      "metadata": {
        "colab": {
          "base_uri": "https://localhost:8080/",
          "height": 35
        },
        "id": "jgkJOFoEruv-",
        "outputId": "2ff9a851-fde5-422a-a24e-72cbedcca154"
      },
      "execution_count": 52,
      "outputs": [
        {
          "output_type": "execute_result",
          "data": {
            "text/plain": [
              "'ORG'"
            ],
            "application/vnd.google.colaboratory.intrinsic+json": {
              "type": "string"
            }
          },
          "metadata": {},
          "execution_count": 52
        }
      ]
    },
    {
      "cell_type": "code",
      "source": [
        "# together in for loop\n",
        "for ent in doc.ents:\n",
        "    print(ent, '=>',ent.label_)  # we can clearly see that NER is establised here"
      ],
      "metadata": {
        "colab": {
          "base_uri": "https://localhost:8080/"
        },
        "id": "-R00gdJmsPb-",
        "outputId": "ed615df3-3361-4802-9f1e-0cb7f6c1efc3"
      },
      "execution_count": 53,
      "outputs": [
        {
          "output_type": "stream",
          "name": "stdout",
          "text": [
            "Bill => PERSON\n",
            "Microsoft => ORG\n"
          ]
        }
      ]
    },
    {
      "cell_type": "code",
      "source": [
        "# another method to display the same\n",
        "from spacy import displacy"
      ],
      "metadata": {
        "id": "tvi7y9QWsUYW"
      },
      "execution_count": 54,
      "outputs": []
    },
    {
      "cell_type": "code",
      "source": [
        "displacy.render(doc.ents, style=\"ent\")"
      ],
      "metadata": {
        "colab": {
          "base_uri": "https://localhost:8080/",
          "height": 87
        },
        "id": "DDed7ZcOsrZy",
        "outputId": "2d4e4e3d-2b5f-44d6-9295-13c4a5795e14"
      },
      "execution_count": 55,
      "outputs": [
        {
          "output_type": "display_data",
          "data": {
            "text/plain": [
              "<IPython.core.display.HTML object>"
            ],
            "text/html": [
              "<span class=\"tex2jax_ignore\"><div class=\"entities\" style=\"line-height: 2.5; direction: ltr\">\n",
              "<mark class=\"entity\" style=\"background: #aa9cfc; padding: 0.45em 0.6em; margin: 0 0.25em; line-height: 1; border-radius: 0.35em;\">\n",
              "    Bill\n",
              "    <span style=\"font-size: 0.8em; font-weight: bold; line-height: 1; border-radius: 0.35em; vertical-align: middle; margin-left: 0.5rem\">PERSON</span>\n",
              "</mark>\n",
              " </div>\n",
              "\n",
              "<div class=\"entities\" style=\"line-height: 2.5; direction: ltr\">\n",
              "<mark class=\"entity\" style=\"background: #7aecec; padding: 0.45em 0.6em; margin: 0 0.25em; line-height: 1; border-radius: 0.35em;\">\n",
              "    Microsoft\n",
              "    <span style=\"font-size: 0.8em; font-weight: bold; line-height: 1; border-radius: 0.35em; vertical-align: middle; margin-left: 0.5rem\">ORG</span>\n",
              "</mark>\n",
              "</div></span>"
            ]
          },
          "metadata": {}
        }
      ]
    },
    {
      "cell_type": "code",
      "source": [
        "displacy.render(doc.ents, style=\"ent\",jupyter=False) # here its in html format with jupyter = false"
      ],
      "metadata": {
        "colab": {
          "base_uri": "https://localhost:8080/",
          "height": 122
        },
        "id": "stnt_XHJs1Ok",
        "outputId": "cb86017f-818d-492e-f19f-ae0d1266d167"
      },
      "execution_count": 56,
      "outputs": [
        {
          "output_type": "execute_result",
          "data": {
            "text/plain": [
              "'<div class=\"entities\" style=\"line-height: 2.5; direction: ltr\">\\n<mark class=\"entity\" style=\"background: #aa9cfc; padding: 0.45em 0.6em; margin: 0 0.25em; line-height: 1; border-radius: 0.35em;\">\\n    Bill\\n    <span style=\"font-size: 0.8em; font-weight: bold; line-height: 1; border-radius: 0.35em; vertical-align: middle; margin-left: 0.5rem\">PERSON</span>\\n</mark>\\n </div>\\n\\n<div class=\"entities\" style=\"line-height: 2.5; direction: ltr\">\\n<mark class=\"entity\" style=\"background: #7aecec; padding: 0.45em 0.6em; margin: 0 0.25em; line-height: 1; border-radius: 0.35em;\">\\n    Microsoft\\n    <span style=\"font-size: 0.8em; font-weight: bold; line-height: 1; border-radius: 0.35em; vertical-align: middle; margin-left: 0.5rem\">ORG</span>\\n</mark>\\n</div>'"
            ],
            "application/vnd.google.colaboratory.intrinsic+json": {
              "type": "string"
            }
          },
          "metadata": {},
          "execution_count": 56
        }
      ]
    },
    {
      "cell_type": "code",
      "source": [
        "# to see all the entities which it is trained on\n",
        "ner.get_pipe('ner').labels"
      ],
      "metadata": {
        "colab": {
          "base_uri": "https://localhost:8080/"
        },
        "id": "Kuy9D6u0tFM7",
        "outputId": "ccdd0ae5-764d-4b80-9a17-5f71d5adb18c"
      },
      "execution_count": 57,
      "outputs": [
        {
          "output_type": "execute_result",
          "data": {
            "text/plain": [
              "('CARDINAL',\n",
              " 'DATE',\n",
              " 'EVENT',\n",
              " 'FAC',\n",
              " 'GPE',\n",
              " 'LANGUAGE',\n",
              " 'LAW',\n",
              " 'LOC',\n",
              " 'MONEY',\n",
              " 'NORP',\n",
              " 'ORDINAL',\n",
              " 'ORG',\n",
              " 'PERCENT',\n",
              " 'PERSON',\n",
              " 'PRODUCT',\n",
              " 'QUANTITY',\n",
              " 'TIME',\n",
              " 'WORK_OF_ART')"
            ]
          },
          "metadata": {},
          "execution_count": 57
        }
      ]
    },
    {
      "cell_type": "code",
      "source": [
        "for ent in ner.get_pipe('ner').labels:\n",
        "  print(ent, '=>',spacy.explain(ent))"
      ],
      "metadata": {
        "colab": {
          "base_uri": "https://localhost:8080/"
        },
        "id": "ykl-y_vVtQbG",
        "outputId": "143516d7-b958-4ea3-e9bc-8dfc2b1f5ca5"
      },
      "execution_count": 58,
      "outputs": [
        {
          "output_type": "stream",
          "name": "stdout",
          "text": [
            "CARDINAL => Numerals that do not fall under another type\n",
            "DATE => Absolute or relative dates or periods\n",
            "EVENT => Named hurricanes, battles, wars, sports events, etc.\n",
            "FAC => Buildings, airports, highways, bridges, etc.\n",
            "GPE => Countries, cities, states\n",
            "LANGUAGE => Any named language\n",
            "LAW => Named documents made into laws.\n",
            "LOC => Non-GPE locations, mountain ranges, bodies of water\n",
            "MONEY => Monetary values, including unit\n",
            "NORP => Nationalities or religious or political groups\n",
            "ORDINAL => \"first\", \"second\", etc.\n",
            "ORG => Companies, agencies, institutions, etc.\n",
            "PERCENT => Percentage, including \"%\"\n",
            "PERSON => People, including fictional\n",
            "PRODUCT => Objects, vehicles, foods, etc. (not services)\n",
            "QUANTITY => Measurements, as of weight or distance\n",
            "TIME => Times smaller than a day\n",
            "WORK_OF_ART => Titles of books, songs, etc.\n"
          ]
        }
      ]
    },
    {
      "cell_type": "code",
      "source": [
        "# sometimes, only these entities are not enough for our tasks\n",
        "# like it can miss some words in domain soecific works like medical/finance, they have their own terminologies\n",
        "\n",
        "text = 'ELon musk is a CEO of Tesla'\n",
        "\n",
        "doc = ner(text)\n",
        "for ent in doc.ents:\n",
        "    print(ent, '=>',ent.label_)  # here only tesla is getting identified as Organisation but not Elon Musk"
      ],
      "metadata": {
        "colab": {
          "base_uri": "https://localhost:8080/"
        },
        "id": "WpN6-gLOtfP7",
        "outputId": "a9fb0bc4-87d6-4ad3-ee41-f68ec6345740"
      },
      "execution_count": 59,
      "outputs": [
        {
          "output_type": "stream",
          "name": "stdout",
          "text": [
            "Tesla => ORG\n"
          ]
        }
      ]
    },
    {
      "cell_type": "code",
      "source": [
        "text = 'We are learning in Velocity'\n",
        "\n",
        "doc = ner(text)\n",
        "for ent in doc.ents:\n",
        "    print(ent, '=>',ent.label_)   # here we can see that it is not able to identify velocity as an ORG but gave wrong as GPE"
      ],
      "metadata": {
        "colab": {
          "base_uri": "https://localhost:8080/"
        },
        "id": "LqTjkTiUuPeq",
        "outputId": "414d6a24-ccb9-4fab-ced1-a6674ede0f55"
      },
      "execution_count": 60,
      "outputs": [
        {
          "output_type": "stream",
          "name": "stdout",
          "text": [
            "Velocity => GPE\n"
          ]
        }
      ]
    },
    {
      "cell_type": "code",
      "source": [
        "# so now we need to add Velocity as ORG tagged"
      ],
      "metadata": {
        "id": "x4q43Yw9uhH6"
      },
      "execution_count": 61,
      "outputs": []
    },
    {
      "cell_type": "markdown",
      "source": [
        "### ways to build NER on custom entities"
      ],
      "metadata": {
        "id": "ozcEtB3mmzVb"
      }
    },
    {
      "cell_type": "code",
      "source": [
        "# ways to build NER on custom entities\n",
        "# 1) dictionary\n",
        "# tags = {\"Velocity\":\"ORG\"} # here problem is that if some Velocity as a Verb comes, than also it will tag it as an ORG, thats Problematic\n",
        "\n",
        "\n",
        "# 2)Rule Based\n",
        "# entityruler --> pattern based, similar to Regex\n",
        "\n",
        "# 3)ML based\n",
        "# finetuning of spacy3 model, make use of BERT model\n",
        "\n"
      ],
      "metadata": {
        "id": "x9Px25tHurcP"
      },
      "execution_count": 62,
      "outputs": []
    },
    {
      "cell_type": "markdown",
      "source": [
        "## 1. Dictionary based"
      ],
      "metadata": {
        "id": "zoUYYXaR5WyM"
      }
    },
    {
      "cell_type": "code",
      "source": [
        "doc[4:5] # so the position of velocity is at span 4 to 5"
      ],
      "metadata": {
        "colab": {
          "base_uri": "https://localhost:8080/"
        },
        "id": "eXGdURq42p83",
        "outputId": "ead1342c-8b9a-4a09-8abe-b22a612e6a75"
      },
      "execution_count": 63,
      "outputs": [
        {
          "output_type": "execute_result",
          "data": {
            "text/plain": [
              "Velocity"
            ]
          },
          "metadata": {},
          "execution_count": 63
        }
      ]
    },
    {
      "cell_type": "code",
      "source": [
        "from spacy.tokens import Span"
      ],
      "metadata": {
        "id": "7Fgf5aASuzhh"
      },
      "execution_count": 64,
      "outputs": []
    },
    {
      "cell_type": "code",
      "source": [
        "span1 = Span(doc, 4, 5,label=\"ORG\")#here,we have given the tag(created a span) of ORG to the span of 4:5 that means, position of Velocity"
      ],
      "metadata": {
        "id": "8Jd0g4qB3DlC"
      },
      "execution_count": 65,
      "outputs": []
    },
    {
      "cell_type": "code",
      "source": [
        "#now  we have to set our entity in the doc\n",
        "doc.set_ents([span1], default=\"unmodified\") # we can set multiple span and pass in the dict"
      ],
      "metadata": {
        "id": "WN4Pirfv3yWC"
      },
      "execution_count": 66,
      "outputs": []
    },
    {
      "cell_type": "code",
      "source": [
        "# now we will run on the same docs created earlier\n",
        "for ent in doc.ents:\n",
        "    print(ent, '=>',ent.label_)  # now we can see that its recognizing velocity as an ORG"
      ],
      "metadata": {
        "colab": {
          "base_uri": "https://localhost:8080/"
        },
        "id": "LF9Z5_6E4aR3",
        "outputId": "221f2b46-495f-4158-e49a-54d02e18a256"
      },
      "execution_count": 67,
      "outputs": [
        {
          "output_type": "stream",
          "name": "stdout",
          "text": [
            "Velocity => ORG\n"
          ]
        }
      ]
    },
    {
      "cell_type": "code",
      "source": [
        "# this is like a hardcoded, works on specific documents related to specific domains"
      ],
      "metadata": {
        "id": "kn1HIIPD47KL"
      },
      "execution_count": 68,
      "outputs": []
    },
    {
      "cell_type": "markdown",
      "source": [
        "## 2.Entity Ruler"
      ],
      "metadata": {
        "id": "MRfqk0kY5eii"
      }
    },
    {
      "cell_type": "code",
      "source": [
        "import spacy"
      ],
      "metadata": {
        "id": "uZg2YNJnwt6y"
      },
      "execution_count": 69,
      "outputs": []
    },
    {
      "cell_type": "code",
      "source": [
        "from spacy.pipeline import EntityRuler"
      ],
      "metadata": {
        "id": "yZnMvZMv5h77"
      },
      "execution_count": 70,
      "outputs": []
    },
    {
      "cell_type": "code",
      "source": [
        "ner = spacy.load(\"en_core_web_sm\")\n",
        "# nlp = spacy.load(\"en_core_web_sm\")"
      ],
      "metadata": {
        "id": "i1hh9GH389yc"
      },
      "execution_count": 71,
      "outputs": []
    },
    {
      "cell_type": "code",
      "source": [
        "text = 'We are learning in Velocity, phone no is 9876543210'\n",
        "# here we have a pattern of Phone no, we have to identify it as an Phone no"
      ],
      "metadata": {
        "id": "0h4hT9Mv5sGM"
      },
      "execution_count": 72,
      "outputs": []
    },
    {
      "cell_type": "code",
      "source": [
        "pattern = [{'label':'PHONE','pattern':[{'TEXT':{'REGEX':'\\d{10}'}}]}]"
      ],
      "metadata": {
        "id": "dmR_zneM6Sf-"
      },
      "execution_count": 73,
      "outputs": []
    },
    {
      "cell_type": "code",
      "source": [
        "ruler = ner.add_pipe(\"entity_ruler\",before=\"ner\")# here we are adding one more component to the ner pipeline loaded above"
      ],
      "metadata": {
        "id": "tFxqInNR85D6"
      },
      "execution_count": 74,
      "outputs": []
    },
    {
      "cell_type": "code",
      "source": [
        "ruler.add_patterns(pattern) # here we have added our created pattern to the new component added just above"
      ],
      "metadata": {
        "id": "TrxDf9Jt9bQB"
      },
      "execution_count": 75,
      "outputs": []
    },
    {
      "cell_type": "code",
      "source": [
        "doc = ner(text) # converting into tokens"
      ],
      "metadata": {
        "id": "_Xr26RRk9q8e"
      },
      "execution_count": 76,
      "outputs": []
    },
    {
      "cell_type": "code",
      "source": [
        "new_ner = ner(doc)"
      ],
      "metadata": {
        "id": "z-1GAGM2xkWo"
      },
      "execution_count": 77,
      "outputs": []
    },
    {
      "cell_type": "code",
      "source": [
        "for ent in new_ner.ents:\n",
        "    print(ent, '=>',ent.label_)"
      ],
      "metadata": {
        "colab": {
          "base_uri": "https://localhost:8080/"
        },
        "id": "UEbaP1qUxoF6",
        "outputId": "920f1d74-f634-404e-b233-a39a4bfe01ab"
      },
      "execution_count": 78,
      "outputs": [
        {
          "output_type": "stream",
          "name": "stdout",
          "text": [
            "Velocity => GPE\n",
            "9876543210 => PHONE\n"
          ]
        }
      ]
    },
    {
      "cell_type": "code",
      "source": [
        "# Applications of Entity ruler\n",
        "  #pattern based entity tagging\n"
      ],
      "metadata": {
        "id": "EmQvqgxpySeP"
      },
      "execution_count": 79,
      "outputs": []
    },
    {
      "cell_type": "markdown",
      "source": [
        "## 3.Finetuning"
      ],
      "metadata": {
        "id": "rHZFqhzVmhBa"
      }
    },
    {
      "cell_type": "code",
      "source": [
        "'''in our txt file, we have COVID-19 , a medical term, which we need to identify under NER.\n",
        "For that reason, we have to label it\n",
        "'''"
      ],
      "metadata": {
        "colab": {
          "base_uri": "https://localhost:8080/",
          "height": 35
        },
        "id": "e82l0PBSnwSI",
        "outputId": "c40abc5d-5144-41fe-9e15-74422b3dc242"
      },
      "execution_count": 80,
      "outputs": [
        {
          "output_type": "execute_result",
          "data": {
            "text/plain": [
              "'in our txt file, we have COVID-19 , a medical term, which we need to identify under NER.\\nFor that reason, we have to label it\\n'"
            ],
            "application/vnd.google.colaboratory.intrinsic+json": {
              "type": "string"
            }
          },
          "metadata": {},
          "execution_count": 80
        }
      ]
    },
    {
      "cell_type": "code",
      "source": [
        "'''Labelling tools\n",
        "    1. Prodi.gy --> paid tool\n",
        "    2.https://arunmozhi.in/ner-annotator/ --> open source\n",
        "        we have to do labelling manually , visited this site, uploaded my text file, created labels,\n",
        "        tagged them manually one by one, word by word. For ex, We created a Label named as VIRUS,\n",
        "        and tagged COVID-19 as virus, if it is present 100 times, we have to do it manually 100 times.\n",
        "\n",
        "        So by doing this manually , we saved ot and then exported it, after that a json file was downloaded\n",
        "        We will be using the same downloaded file over here.Its available in the file folder left side.\n",
        "        file name is \"annotations.json\"\n",
        "\n",
        "'''"
      ],
      "metadata": {
        "colab": {
          "base_uri": "https://localhost:8080/",
          "height": 104
        },
        "id": "t7rFnHVLmj4H",
        "outputId": "e766c69d-6c8b-4fcf-a000-0cdc5fb02b5b"
      },
      "execution_count": 81,
      "outputs": [
        {
          "output_type": "execute_result",
          "data": {
            "text/plain": [
              "'Labelling tools\\n    1. Prodi.gy --> paid tool\\n    2.https://arunmozhi.in/ner-annotator/ --> open source\\n        we have to do labelling manually , visited this site, uploaded my text file, created labels,\\n        tagged them manually one by one, word by word. For ex, We created a Label named as VIRUS,\\n        and tagged COVID-19 as virus, if it is present 100 times, we have to do it manually 100 times.\\n\\n        So by doing this manually , we saved ot and then exported it, after that a json file was downloaded\\n        We will be using the same downloaded file over here.Its available in the file folder left side.\\n        file name is \"annotations.json\"\\n\\n'"
            ],
            "application/vnd.google.colaboratory.intrinsic+json": {
              "type": "string"
            }
          },
          "metadata": {},
          "execution_count": 81
        }
      ]
    },
    {
      "cell_type": "code",
      "source": [
        "import spacy\n",
        "from spacy.tokens import DocBin   #  DocBin takes care of the format of the data for training"
      ],
      "metadata": {
        "id": "IaQ_EHO-rizp"
      },
      "execution_count": 82,
      "outputs": []
    },
    {
      "cell_type": "code",
      "source": [
        "nlp = spacy.blank(\"en\")  # blank pipeline\n",
        "db = DocBin()  # empty db"
      ],
      "metadata": {
        "id": "qds8Hz0dsR1d"
      },
      "execution_count": 83,
      "outputs": []
    },
    {
      "cell_type": "code",
      "source": [
        "import json\n",
        "\n",
        "f = open(\"annotations.json\",encoding=\"utf8\")\n",
        "\n",
        "TRAIN_DATA = json.load(f)"
      ],
      "metadata": {
        "id": "lOdSh3cmsZzB"
      },
      "execution_count": 84,
      "outputs": []
    },
    {
      "cell_type": "code",
      "source": [
        "TRAIN_DATA"
      ],
      "metadata": {
        "colab": {
          "base_uri": "https://localhost:8080/"
        },
        "id": "djN02wnPsi38",
        "outputId": "d540781f-601a-4d0b-ed98-21a393f483c5"
      },
      "execution_count": 85,
      "outputs": [
        {
          "output_type": "execute_result",
          "data": {
            "text/plain": [
              "{'classes': ['VIRUS', 'DIESESE'],\n",
              " 'annotations': [[\"The symptoms of COVID‑19 can vary but often include fever,[7] fatigue, cough, breathing difficulties, loss of smell, and loss of taste.[8][9][10] Symptoms may begin one to fourteen days after exposure to the virus. At least a third of people who are infected do not develop noticeable symptoms.[11][12] Of those who develop symptoms noticeable enough to be classified as patients, most (81%) develop mild to moderate symptoms (up to mild pneumonia), while 14% develop severe symptoms (dyspnea, hypoxia, or more than 50% lung involvement on imaging), and 5% develop critical symptoms (respiratory failure, shock, or multiorgan dysfunction).[13] Older people have a higher risk of developing severe symptoms. Some complications result in death. Some people continue to experience a range of effects (long COVID) for months or years after infection, and damage to organs has been observed.[14] Multi-year studies on the long-term effects are ongoing.[15]\\r\\n\\r\\nCOVID‑19 transmission occurs when infectious particles are breathed in or come into contact with the eyes, nose, or mouth. The risk is highest when people are in close proximity, but small airborne particles containing the virus can remain suspended in the air and travel over longer distances, particularly indoors. Transmission can also occur when people touch their eyes, nose, or mouth after touching surfaces or objects that have been contaminated by the virus. People remain contagious for up to 20 days and can spread the virus even if they do not develop symptoms.[16]\\r\\n\\r\\nTesting methods for COVID-19 to detect the virus's nucleic acid include real-time reverse transcription polymerase chain reaction (RT‑PCR),[17][18] transcription-mediated amplification,[17][18][19] and reverse transcription loop-mediated isothermal amplification (RT‑LAMP)[17][18] from a nasopharyngeal swab.[20]\\r\\n\\r\\nSeveral COVID-19 vaccines have been approved and distributed in various countries, many of which have initiated mass vaccination campaigns. Other preventive measures include physical or social distancing, quarantining, ventilation of indoor spaces, use of face masks or coverings in public, covering coughs and sneezes, hand washing, and keeping unwashed hands away from the face. While drugs have been developed to inhibit the virus, the primary treatment is still symptomatic, managing the disease through supportive care, isolation, and experimental measures.\\r\\n\\r\\nThe first known case was identified in Wuhan, China, in December 2019.[21] Most scientists believe that the SARS-CoV-2 virus entered into human populations through natural zoonosis, similar to the SARS-CoV-1 and MERS-CoV outbreaks, and consistent with other pandemics in human history.[22][23] Social and environmental factors including climate change, natural ecosystem destruction and wildlife trade increased the likelihood of such zoonotic spillover.\",\n",
              "   {'entities': [[16, 24, 'VIRUS'],\n",
              "     [52, 57, 'DIESESE'],\n",
              "     [62, 69, 'DIESESE'],\n",
              "     [71, 76, 'DIESESE'],\n",
              "     [78, 100, 'DIESESE'],\n",
              "     [102, 115, 'DIESESE'],\n",
              "     [121, 135, 'DIESESE'],\n",
              "     [484, 485, 'DIESESE'],\n",
              "     [485, 492, 'DIESESE'],\n",
              "     [494, 501, 'DIESESE'],\n",
              "     [584, 603, 'DIESESE'],\n",
              "     [605, 610, 'DIESESE'],\n",
              "     [615, 637, 'DIESESE'],\n",
              "     [798, 808, 'VIRUS'],\n",
              "     [955, 963, 'VIRUS'],\n",
              "     [1555, 1563, 'VIRUS'],\n",
              "     [1859, 1867, 'VIRUS'],\n",
              "     [2151, 2157, 'DIESESE'],\n",
              "     [2162, 2169, 'DIESESE'],\n",
              "     [2525, 2535, 'VIRUS'],\n",
              "     [2614, 2624, 'VIRUS'],\n",
              "     [2629, 2637, 'VIRUS']]}]]}"
            ]
          },
          "metadata": {},
          "execution_count": 85
        }
      ]
    },
    {
      "cell_type": "code",
      "source": [
        "for text,annot in TRAIN_DATA['annotations']:\n",
        "  doc = nlp.make_doc(text)\n",
        "  ents = []\n",
        "  for start,end,label in annot[\"entities\"]:\n",
        "    #eg --> [16, 24, 'VIRUS'] = [start,end,label] | 'contract' removes the white spaces in starting/ending if any\n",
        "    span = doc.char_span(start,end,label,alignment_mode='contract')\n",
        "    if span is None:\n",
        "      print('none')\n",
        "    else:\n",
        "      ents.append(span)\n",
        "    doc.ents = ents\n",
        "    db.add(doc)\n",
        "\n",
        "db.to_disk('training_data.spacy')\n",
        "\n",
        "# now our dataset is ready with named 'training_data.spacy'"
      ],
      "metadata": {
        "colab": {
          "base_uri": "https://localhost:8080/"
        },
        "id": "H6HhSbAMs43l",
        "outputId": "df96f570-d982-49ba-9dd4-91d4968263a3"
      },
      "execution_count": 86,
      "outputs": [
        {
          "output_type": "stream",
          "name": "stdout",
          "text": [
            "none\n"
          ]
        }
      ]
    },
    {
      "cell_type": "code",
      "source": [
        "# Training\n",
        "\n",
        "# for training, we need a config file in which all the parameters required for training is given\n",
        "\n",
        "# we will be using a CLI command for training, as mostly these training happens on cloud servers\n",
        " # and there we mostly use CLI for suc tasks\n",
        "\n",
        " #if we have created this dataset (training_data.spacy), than if using server, we have to upload\n",
        " #it there and run the below two CLI command in terminal for starting the training\n",
        "#after running only these two commands, the model will start its training\n",
        "\n",
        "\n"
      ],
      "metadata": {
        "id": "mGWAQxodvtGX"
      },
      "execution_count": 87,
      "outputs": []
    },
    {
      "cell_type": "code",
      "source": [
        "# command for downloading the config file\n",
        "!python -m spacy init config config.cfg --lang en --pipeline ner --optimize efficiency\n",
        "\n",
        "#after running this command, config file is downloaded, it have all the parameters required for training"
      ],
      "metadata": {
        "colab": {
          "base_uri": "https://localhost:8080/"
        },
        "id": "C85e0YEgyDVy",
        "outputId": "5ab313db-b0c4-484c-ae62-ee2b171a87f2"
      },
      "execution_count": 88,
      "outputs": [
        {
          "output_type": "stream",
          "name": "stdout",
          "text": [
            "\n",
            "\u001b[38;5;1m✘ The provided output file already exists. To force overwriting the\n",
            "config file, set the --force or -F flag.\u001b[0m\n",
            "\n"
          ]
        }
      ]
    },
    {
      "cell_type": "code",
      "source": [
        "#command for training after downloading the config file\n",
        "!python -m spacy train config.cfg --output ./ --paths.train ./training_data.spacy --paths.dev ./training_data.spacy"
      ],
      "metadata": {
        "colab": {
          "base_uri": "https://localhost:8080/"
        },
        "id": "up3oI_kpyE6-",
        "outputId": "f6075cf6-9534-48af-ff6a-ac6a51039fad"
      },
      "execution_count": 89,
      "outputs": [
        {
          "output_type": "stream",
          "name": "stdout",
          "text": [
            "\u001b[38;5;4mℹ Saving to output directory: .\u001b[0m\n",
            "\u001b[38;5;4mℹ Using CPU\u001b[0m\n",
            "\u001b[1m\n",
            "=========================== Initializing pipeline ===========================\u001b[0m\n",
            "\u001b[38;5;2m✔ Initialized pipeline\u001b[0m\n",
            "\u001b[1m\n",
            "============================= Training pipeline =============================\u001b[0m\n",
            "\u001b[38;5;4mℹ Pipeline: ['tok2vec', 'ner']\u001b[0m\n",
            "\u001b[38;5;4mℹ Initial learn rate: 0.001\u001b[0m\n",
            "E    #       LOSS TOK2VEC  LOSS NER  ENTS_F  ENTS_P  ENTS_R  SCORE \n",
            "---  ------  ------------  --------  ------  ------  ------  ------\n",
            "  0       0          0.00    210.50    0.00    0.00    0.00    0.00\n"
          ]
        }
      ]
    },
    {
      "cell_type": "code",
      "source": [
        "# we can see that two models are saved, model-best and model-last\n",
        "  #model-best --> model with best accuracy\n",
        "  #model-last --> model with last iteration"
      ],
      "metadata": {
        "id": "a39bVi-Wy4Ma"
      },
      "execution_count": 90,
      "outputs": []
    },
    {
      "cell_type": "code",
      "source": [
        "#Deployment of this in Production\n",
        "  #for deployment, we would be needing the whole folder\n",
        "  #we will download it and upload it on the deployment server"
      ],
      "metadata": {
        "id": "iby-CBvy1pOJ"
      },
      "execution_count": 91,
      "outputs": []
    },
    {
      "cell_type": "code",
      "source": [
        "## now making inferences on the trained model"
      ],
      "metadata": {
        "id": "tkVaLuh32LJU"
      },
      "execution_count": 92,
      "outputs": []
    },
    {
      "cell_type": "code",
      "source": [
        "trained_ner = spacy.load(\"model-best\")  # same process which we did earlier for prebuilt spacy model"
      ],
      "metadata": {
        "id": "EWZfdiAE2Qkn"
      },
      "execution_count": 93,
      "outputs": []
    },
    {
      "cell_type": "code",
      "source": [
        "text = \"COVID‑19 caused damage\"\n",
        "\n",
        "doc = trained_ner(text)"
      ],
      "metadata": {
        "id": "EznpUylb204m"
      },
      "execution_count": 94,
      "outputs": []
    },
    {
      "cell_type": "code",
      "source": [
        "doc.ents # its not showing anything as the dataset was too small, but for larger data, it will work"
      ],
      "metadata": {
        "colab": {
          "base_uri": "https://localhost:8080/"
        },
        "id": "jJNh0KDI3fy7",
        "outputId": "f5d6fc06-b582-4b9e-b067-03177ca5523d"
      },
      "execution_count": 95,
      "outputs": [
        {
          "output_type": "execute_result",
          "data": {
            "text/plain": [
              "()"
            ]
          },
          "metadata": {},
          "execution_count": 95
        }
      ]
    },
    {
      "cell_type": "code",
      "source": [],
      "metadata": {
        "id": "iRB3TLVX4rC5"
      },
      "execution_count": 95,
      "outputs": []
    },
    {
      "cell_type": "markdown",
      "source": [
        "## Transformers for NER"
      ],
      "metadata": {
        "id": "F2ZM7QLj4sHw"
      }
    },
    {
      "cell_type": "code",
      "source": [
        "!pip install transformers"
      ],
      "metadata": {
        "colab": {
          "base_uri": "https://localhost:8080/"
        },
        "id": "n2uEypv04u0W",
        "outputId": "a61350f0-04cd-42d1-ee9e-4ae63779166c"
      },
      "execution_count": 96,
      "outputs": [
        {
          "output_type": "stream",
          "name": "stdout",
          "text": [
            "Requirement already satisfied: transformers in /usr/local/lib/python3.11/dist-packages (4.51.3)\n",
            "Requirement already satisfied: filelock in /usr/local/lib/python3.11/dist-packages (from transformers) (3.18.0)\n",
            "Requirement already satisfied: huggingface-hub<1.0,>=0.30.0 in /usr/local/lib/python3.11/dist-packages (from transformers) (0.31.2)\n",
            "Requirement already satisfied: numpy>=1.17 in /usr/local/lib/python3.11/dist-packages (from transformers) (2.0.2)\n",
            "Requirement already satisfied: packaging>=20.0 in /usr/local/lib/python3.11/dist-packages (from transformers) (24.2)\n",
            "Requirement already satisfied: pyyaml>=5.1 in /usr/local/lib/python3.11/dist-packages (from transformers) (6.0.2)\n",
            "Requirement already satisfied: regex!=2019.12.17 in /usr/local/lib/python3.11/dist-packages (from transformers) (2024.11.6)\n",
            "Requirement already satisfied: requests in /usr/local/lib/python3.11/dist-packages (from transformers) (2.32.3)\n",
            "Requirement already satisfied: tokenizers<0.22,>=0.21 in /usr/local/lib/python3.11/dist-packages (from transformers) (0.21.1)\n",
            "Requirement already satisfied: safetensors>=0.4.3 in /usr/local/lib/python3.11/dist-packages (from transformers) (0.5.3)\n",
            "Requirement already satisfied: tqdm>=4.27 in /usr/local/lib/python3.11/dist-packages (from transformers) (4.67.1)\n",
            "Requirement already satisfied: fsspec>=2023.5.0 in /usr/local/lib/python3.11/dist-packages (from huggingface-hub<1.0,>=0.30.0->transformers) (2025.3.2)\n",
            "Requirement already satisfied: typing-extensions>=3.7.4.3 in /usr/local/lib/python3.11/dist-packages (from huggingface-hub<1.0,>=0.30.0->transformers) (4.13.2)\n",
            "Requirement already satisfied: charset-normalizer<4,>=2 in /usr/local/lib/python3.11/dist-packages (from requests->transformers) (3.4.2)\n",
            "Requirement already satisfied: idna<4,>=2.5 in /usr/local/lib/python3.11/dist-packages (from requests->transformers) (3.10)\n",
            "Requirement already satisfied: urllib3<3,>=1.21.1 in /usr/local/lib/python3.11/dist-packages (from requests->transformers) (2.4.0)\n",
            "Requirement already satisfied: certifi>=2017.4.17 in /usr/local/lib/python3.11/dist-packages (from requests->transformers) (2025.4.26)\n"
          ]
        }
      ]
    },
    {
      "cell_type": "code",
      "source": [
        "from transformers import pipeline"
      ],
      "metadata": {
        "id": "95LUAzwB430H"
      },
      "execution_count": 97,
      "outputs": []
    },
    {
      "cell_type": "code",
      "source": [
        "ner_transformer = pipeline(model = \"dslim/bert-base-NER-uncased\")"
      ],
      "metadata": {
        "colab": {
          "base_uri": "https://localhost:8080/"
        },
        "id": "3bsfOok-4zcK",
        "outputId": "d0815036-d1ed-46b8-9974-eb6f30c51952"
      },
      "execution_count": 98,
      "outputs": [
        {
          "output_type": "stream",
          "name": "stderr",
          "text": [
            "Some weights of the model checkpoint at dslim/bert-base-NER-uncased were not used when initializing BertForTokenClassification: ['bert.pooler.dense.bias', 'bert.pooler.dense.weight']\n",
            "- This IS expected if you are initializing BertForTokenClassification from the checkpoint of a model trained on another task or with another architecture (e.g. initializing a BertForSequenceClassification model from a BertForPreTraining model).\n",
            "- This IS NOT expected if you are initializing BertForTokenClassification from the checkpoint of a model that you expect to be exactly identical (initializing a BertForSequenceClassification model from a BertForSequenceClassification model).\n",
            "Device set to use cpu\n"
          ]
        }
      ]
    },
    {
      "cell_type": "code",
      "source": [
        "text = \"bill gates founded microsoft\"\n",
        "ner_transformer(text)"
      ],
      "metadata": {
        "colab": {
          "base_uri": "https://localhost:8080/"
        },
        "id": "EERDno3a5IFF",
        "outputId": "d6fc8056-b4e1-4225-b1ea-62310c605733"
      },
      "execution_count": 99,
      "outputs": [
        {
          "output_type": "execute_result",
          "data": {
            "text/plain": [
              "[{'entity': 'B-PER',\n",
              "  'score': np.float32(0.99582714),\n",
              "  'index': 1,\n",
              "  'word': 'bill',\n",
              "  'start': 0,\n",
              "  'end': 4},\n",
              " {'entity': 'I-PER',\n",
              "  'score': np.float32(0.99281466),\n",
              "  'index': 2,\n",
              "  'word': 'gates',\n",
              "  'start': 5,\n",
              "  'end': 10},\n",
              " {'entity': 'B-ORG',\n",
              "  'score': np.float32(0.98988754),\n",
              "  'index': 4,\n",
              "  'word': 'microsoft',\n",
              "  'start': 19,\n",
              "  'end': 28}]"
            ]
          },
          "metadata": {},
          "execution_count": 99
        }
      ]
    },
    {
      "cell_type": "code",
      "source": [
        "\"\"\"\n",
        "[{'entity': 'B-PER',\n",
        "  'score': np.float32(0.99582714),\n",
        "  'index': 1,\n",
        "  'word': 'bill',\n",
        "  'start': 0,\n",
        "  'end': 4},\n",
        " {'entity': 'I-PER',\n",
        "  'score': np.float32(0.99281466),\n",
        "  'index': 2,\n",
        "  'word': 'gates',\n",
        "  'start': 5,\n",
        "  'end': 10},\n",
        " {'entity': 'B-ORG',\n",
        "  'score': np.float32(0.98988754),\n",
        "  'index': 4,\n",
        "  'word': 'microsoft',\n",
        "  'start': 19,\n",
        "  'end': 28}]\n",
        "\"\"\"\n",
        "\n",
        "# here we can see that the given entities are like \"B-PER\",\"I-PER\",\"B-ORG\"\n",
        "  #this is a format of tagging named as IOB format\n",
        "  # I --> inside\n",
        "  # o --> outside\n",
        "  # B --> begining\n",
        "\n",
        "  # bill --> B-PER --> begining of the name of the person\n",
        "  # gates --> I-PER -->inside the name of the person\n",
        "  # founded --> this was not tagged as any we can see above, so it is assigned as outside"
      ],
      "metadata": {
        "colab": {
          "base_uri": "https://localhost:8080/",
          "height": 70
        },
        "id": "1p3LhReX5Tik",
        "outputId": "e914b59f-3659-4ff3-9acc-0aa88ba77d7c"
      },
      "execution_count": 100,
      "outputs": [
        {
          "output_type": "execute_result",
          "data": {
            "text/plain": [
              "\"\\n[{'entity': 'B-PER',\\n  'score': np.float32(0.99582714),\\n  'index': 1,\\n  'word': 'bill',\\n  'start': 0,\\n  'end': 4},\\n {'entity': 'I-PER',\\n  'score': np.float32(0.99281466),\\n  'index': 2,\\n  'word': 'gates',\\n  'start': 5,\\n  'end': 10},\\n {'entity': 'B-ORG',\\n  'score': np.float32(0.98988754),\\n  'index': 4,\\n  'word': 'microsoft',\\n  'start': 19,\\n  'end': 28}]\\n\""
            ],
            "application/vnd.google.colaboratory.intrinsic+json": {
              "type": "string"
            }
          },
          "metadata": {},
          "execution_count": 100
        }
      ]
    },
    {
      "cell_type": "code",
      "source": [
        "text = \" narayan murthy founded infosys\"\n",
        "ner_transformer(text)\n",
        "# earlier we saw that model was not able to identify this text but with Transformer , it is able to do"
      ],
      "metadata": {
        "colab": {
          "base_uri": "https://localhost:8080/"
        },
        "id": "kMwID_MN6esF",
        "outputId": "322a9b3f-89ae-4e58-b0cb-24074a7a5abd"
      },
      "execution_count": 101,
      "outputs": [
        {
          "output_type": "execute_result",
          "data": {
            "text/plain": [
              "[{'entity': 'B-PER',\n",
              "  'score': np.float32(0.99548846),\n",
              "  'index': 1,\n",
              "  'word': 'narayan',\n",
              "  'start': 1,\n",
              "  'end': 8},\n",
              " {'entity': 'I-PER',\n",
              "  'score': np.float32(0.9973943),\n",
              "  'index': 2,\n",
              "  'word': 'mu',\n",
              "  'start': 9,\n",
              "  'end': 11},\n",
              " {'entity': 'I-PER',\n",
              "  'score': np.float32(0.984729),\n",
              "  'index': 3,\n",
              "  'word': '##rth',\n",
              "  'start': 11,\n",
              "  'end': 14},\n",
              " {'entity': 'I-PER',\n",
              "  'score': np.float32(0.98603475),\n",
              "  'index': 4,\n",
              "  'word': '##y',\n",
              "  'start': 14,\n",
              "  'end': 15},\n",
              " {'entity': 'B-ORG',\n",
              "  'score': np.float32(0.99705446),\n",
              "  'index': 6,\n",
              "  'word': 'info',\n",
              "  'start': 24,\n",
              "  'end': 28},\n",
              " {'entity': 'I-ORG',\n",
              "  'score': np.float32(0.9965019),\n",
              "  'index': 7,\n",
              "  'word': '##sy',\n",
              "  'start': 28,\n",
              "  'end': 30},\n",
              " {'entity': 'I-ORG',\n",
              "  'score': np.float32(0.9972197),\n",
              "  'index': 8,\n",
              "  'word': '##s',\n",
              "  'start': 30,\n",
              "  'end': 31}]"
            ]
          },
          "metadata": {},
          "execution_count": 101
        }
      ]
    },
    {
      "cell_type": "code",
      "source": [],
      "metadata": {
        "id": "Yf7zUMIl6nQN"
      },
      "execution_count": 101,
      "outputs": []
    }
  ]
}