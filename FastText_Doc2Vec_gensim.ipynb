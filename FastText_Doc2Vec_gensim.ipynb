{
  "nbformat": 4,
  "nbformat_minor": 0,
  "metadata": {
    "colab": {
      "provenance": []
    },
    "kernelspec": {
      "name": "python3",
      "display_name": "Python 3"
    },
    "language_info": {
      "name": "python"
    }
  },
  "cells": [
    {
      "cell_type": "code",
      "source": [
        "!pip uninstall -y numpy gensim\n",
        "!pip install numpy==1.26.4\n",
        "!pip install --no-cache-dir --force-reinstall gensim\n"
      ],
      "metadata": {
        "colab": {
          "base_uri": "https://localhost:8080/"
        },
        "id": "YkEDG7-sWsu1",
        "outputId": "14b88f47-5c19-4c92-da68-bb593fce23ad"
      },
      "execution_count": 1,
      "outputs": [
        {
          "output_type": "stream",
          "name": "stdout",
          "text": [
            "Found existing installation: numpy 1.26.4\n",
            "Uninstalling numpy-1.26.4:\n",
            "  Successfully uninstalled numpy-1.26.4\n",
            "Found existing installation: gensim 4.3.3\n",
            "Uninstalling gensim-4.3.3:\n",
            "  Successfully uninstalled gensim-4.3.3\n",
            "Collecting numpy==1.26.4\n",
            "  Using cached numpy-1.26.4-cp311-cp311-manylinux_2_17_x86_64.manylinux2014_x86_64.whl.metadata (61 kB)\n",
            "Using cached numpy-1.26.4-cp311-cp311-manylinux_2_17_x86_64.manylinux2014_x86_64.whl (18.3 MB)\n",
            "Installing collected packages: numpy\n",
            "\u001b[31mERROR: pip's dependency resolver does not currently take into account all the packages that are installed. This behaviour is the source of the following dependency conflicts.\n",
            "thinc 8.3.6 requires numpy<3.0.0,>=2.0.0, but you have numpy 1.26.4 which is incompatible.\u001b[0m\u001b[31m\n",
            "\u001b[0mSuccessfully installed numpy-1.26.4\n",
            "Collecting gensim\n",
            "  Downloading gensim-4.3.3-cp311-cp311-manylinux_2_17_x86_64.manylinux2014_x86_64.whl.metadata (8.1 kB)\n",
            "Collecting numpy<2.0,>=1.18.5 (from gensim)\n",
            "  Downloading numpy-1.26.4-cp311-cp311-manylinux_2_17_x86_64.manylinux2014_x86_64.whl.metadata (61 kB)\n",
            "\u001b[2K     \u001b[90m━━━━━━━━━━━━━━━━━━━━━━━━━━━━━━━━━━━━━━━━\u001b[0m \u001b[32m61.0/61.0 kB\u001b[0m \u001b[31m91.2 MB/s\u001b[0m eta \u001b[36m0:00:00\u001b[0m\n",
            "\u001b[?25hCollecting scipy<1.14.0,>=1.7.0 (from gensim)\n",
            "  Downloading scipy-1.13.1-cp311-cp311-manylinux_2_17_x86_64.manylinux2014_x86_64.whl.metadata (60 kB)\n",
            "\u001b[2K     \u001b[90m━━━━━━━━━━━━━━━━━━━━━━━━━━━━━━━━━━━━━━━━\u001b[0m \u001b[32m60.6/60.6 kB\u001b[0m \u001b[31m28.4 MB/s\u001b[0m eta \u001b[36m0:00:00\u001b[0m\n",
            "\u001b[?25hCollecting smart-open>=1.8.1 (from gensim)\n",
            "  Downloading smart_open-7.1.0-py3-none-any.whl.metadata (24 kB)\n",
            "Collecting wrapt (from smart-open>=1.8.1->gensim)\n",
            "  Downloading wrapt-1.17.2-cp311-cp311-manylinux_2_5_x86_64.manylinux1_x86_64.manylinux_2_17_x86_64.manylinux2014_x86_64.whl.metadata (6.4 kB)\n",
            "Downloading gensim-4.3.3-cp311-cp311-manylinux_2_17_x86_64.manylinux2014_x86_64.whl (26.7 MB)\n",
            "\u001b[2K   \u001b[90m━━━━━━━━━━━━━━━━━━━━━━━━━━━━━━━━━━━━━━━━\u001b[0m \u001b[32m26.7/26.7 MB\u001b[0m \u001b[31m235.9 MB/s\u001b[0m eta \u001b[36m0:00:00\u001b[0m\n",
            "\u001b[?25hDownloading numpy-1.26.4-cp311-cp311-manylinux_2_17_x86_64.manylinux2014_x86_64.whl (18.3 MB)\n",
            "\u001b[2K   \u001b[90m━━━━━━━━━━━━━━━━━━━━━━━━━━━━━━━━━━━━━━━━\u001b[0m \u001b[32m18.3/18.3 MB\u001b[0m \u001b[31m230.2 MB/s\u001b[0m eta \u001b[36m0:00:00\u001b[0m\n",
            "\u001b[?25hDownloading scipy-1.13.1-cp311-cp311-manylinux_2_17_x86_64.manylinux2014_x86_64.whl (38.6 MB)\n",
            "\u001b[2K   \u001b[90m━━━━━━━━━━━━━━━━━━━━━━━━━━━━━━━━━━━━━━━━\u001b[0m \u001b[32m38.6/38.6 MB\u001b[0m \u001b[31m204.2 MB/s\u001b[0m eta \u001b[36m0:00:00\u001b[0m\n",
            "\u001b[?25hDownloading smart_open-7.1.0-py3-none-any.whl (61 kB)\n",
            "\u001b[2K   \u001b[90m━━━━━━━━━━━━━━━━━━━━━━━━━━━━━━━━━━━━━━━━\u001b[0m \u001b[32m61.7/61.7 kB\u001b[0m \u001b[31m174.9 MB/s\u001b[0m eta \u001b[36m0:00:00\u001b[0m\n",
            "\u001b[?25hDownloading wrapt-1.17.2-cp311-cp311-manylinux_2_5_x86_64.manylinux1_x86_64.manylinux_2_17_x86_64.manylinux2014_x86_64.whl (83 kB)\n",
            "\u001b[2K   \u001b[90m━━━━━━━━━━━━━━━━━━━━━━━━━━━━━━━━━━━━━━━━\u001b[0m \u001b[32m83.2/83.2 kB\u001b[0m \u001b[31m195.5 MB/s\u001b[0m eta \u001b[36m0:00:00\u001b[0m\n",
            "\u001b[?25hInstalling collected packages: wrapt, numpy, smart-open, scipy, gensim\n",
            "  Attempting uninstall: wrapt\n",
            "    Found existing installation: wrapt 1.17.2\n",
            "    Uninstalling wrapt-1.17.2:\n",
            "      Successfully uninstalled wrapt-1.17.2\n",
            "  Attempting uninstall: numpy\n",
            "    Found existing installation: numpy 1.26.4\n",
            "    Uninstalling numpy-1.26.4:\n",
            "      Successfully uninstalled numpy-1.26.4\n",
            "  Attempting uninstall: smart-open\n",
            "    Found existing installation: smart-open 7.1.0\n",
            "    Uninstalling smart-open-7.1.0:\n",
            "      Successfully uninstalled smart-open-7.1.0\n",
            "  Attempting uninstall: scipy\n",
            "    Found existing installation: scipy 1.13.1\n",
            "    Uninstalling scipy-1.13.1:\n",
            "      Successfully uninstalled scipy-1.13.1\n",
            "\u001b[31mERROR: pip's dependency resolver does not currently take into account all the packages that are installed. This behaviour is the source of the following dependency conflicts.\n",
            "thinc 8.3.6 requires numpy<3.0.0,>=2.0.0, but you have numpy 1.26.4 which is incompatible.\u001b[0m\u001b[31m\n",
            "\u001b[0mSuccessfully installed gensim-4.3.3 numpy-1.26.4 scipy-1.13.1 smart-open-7.1.0 wrapt-1.17.2\n"
          ]
        }
      ]
    },
    {
      "cell_type": "markdown",
      "source": [
        "**FastText**"
      ],
      "metadata": {
        "id": "Gr54wo7XdOhb"
      }
    },
    {
      "cell_type": "code",
      "source": [
        "import numpy\n",
        "print(\"NumPy version:\", numpy.__version__)"
      ],
      "metadata": {
        "colab": {
          "base_uri": "https://localhost:8080/"
        },
        "id": "Nldb0qoMWsqb",
        "outputId": "b3ec50b9-31b4-489a-eb5e-14fc2ac998bd"
      },
      "execution_count": 2,
      "outputs": [
        {
          "output_type": "stream",
          "name": "stdout",
          "text": [
            "NumPy version: 1.26.4\n"
          ]
        }
      ]
    },
    {
      "cell_type": "code",
      "execution_count": 3,
      "metadata": {
        "colab": {
          "base_uri": "https://localhost:8080/"
        },
        "id": "p3UgqOfsWZk1",
        "outputId": "815cb44e-17c4-40bc-cace-13112d21c7f1"
      },
      "outputs": [
        {
          "output_type": "stream",
          "name": "stdout",
          "text": [
            "Gensim is ready!\n"
          ]
        }
      ],
      "source": [
        "from gensim.models import FastText\n",
        "print(\"Gensim is ready!\")"
      ]
    },
    {
      "cell_type": "code",
      "source": [
        "with open(\"/content/sample_data/01 Harry Potter and the Sorcerers Stone.txt\",\"r\") as f:\n",
        "  text = f.read()"
      ],
      "metadata": {
        "id": "l_0M89YmXiqL"
      },
      "execution_count": 4,
      "outputs": []
    },
    {
      "cell_type": "code",
      "source": [
        "import re\n",
        "processed_text = re.sub('[^A-Za-z. ]','',text)\n"
      ],
      "metadata": {
        "id": "I3nC0tOaXimy"
      },
      "execution_count": 5,
      "outputs": []
    },
    {
      "cell_type": "code",
      "source": [
        "# here also , we will make/split the data into list of list"
      ],
      "metadata": {
        "id": "GEiJG_4XYdd7"
      },
      "execution_count": null,
      "outputs": []
    },
    {
      "cell_type": "code",
      "source": [
        "text_list = processed_text.split('.')\n",
        "text_list[0]"
      ],
      "metadata": {
        "colab": {
          "base_uri": "https://localhost:8080/",
          "height": 35
        },
        "id": "oA4vAm8FYmKn",
        "outputId": "3ce8346a-d6b5-4255-df05-bcfbf652061d"
      },
      "execution_count": 6,
      "outputs": [
        {
          "output_type": "execute_result",
          "data": {
            "text/plain": [
              "'M r'"
            ],
            "application/vnd.google.colaboratory.intrinsic+json": {
              "type": "string"
            }
          },
          "metadata": {},
          "execution_count": 6
        }
      ]
    },
    {
      "cell_type": "code",
      "source": [
        "sentences = [text.split() for text in text_list]\n",
        "sentences[0]"
      ],
      "metadata": {
        "colab": {
          "base_uri": "https://localhost:8080/"
        },
        "id": "nvbwXlGDYmvD",
        "outputId": "5d0a136f-96d5-442a-c5f3-8df9b45acfcd"
      },
      "execution_count": 7,
      "outputs": [
        {
          "output_type": "execute_result",
          "data": {
            "text/plain": [
              "['M', 'r']"
            ]
          },
          "metadata": {},
          "execution_count": 7
        }
      ]
    },
    {
      "cell_type": "code",
      "source": [
        "sentences[0:2]"
      ],
      "metadata": {
        "colab": {
          "base_uri": "https://localhost:8080/"
        },
        "id": "Yc7zvnlZYmra",
        "outputId": "367e38c3-fcef-4e84-bd59-d7ecd778bfdf"
      },
      "execution_count": 8,
      "outputs": [
        {
          "output_type": "execute_result",
          "data": {
            "text/plain": [
              "[['M', 'r'], ['and', 'Mrs']]"
            ]
          },
          "metadata": {},
          "execution_count": 8
        }
      ]
    },
    {
      "cell_type": "code",
      "source": [
        "model = FastText(vector_size=100, window=5, min_count=1)\n"
      ],
      "metadata": {
        "id": "CFvWle7FZHYd"
      },
      "execution_count": 10,
      "outputs": []
    },
    {
      "cell_type": "code",
      "source": [
        "model.build_vocab(sentences) # building the vocab"
      ],
      "metadata": {
        "id": "_cVsMX_9ZdK1"
      },
      "execution_count": 11,
      "outputs": []
    },
    {
      "cell_type": "code",
      "source": [
        "model.wv.key_to_index # vocab has been build and and ID is assigned to each word"
      ],
      "metadata": {
        "id": "iG6GPfwDZmAs"
      },
      "execution_count": 20,
      "outputs": []
    },
    {
      "cell_type": "code",
      "source": [
        "#sg not passed , so be default sg=0, means CBOW\n",
        "model.train(corpus_iterable=sentences, epochs=10, total_examples=len(sentences))"
      ],
      "metadata": {
        "colab": {
          "base_uri": "https://localhost:8080/"
        },
        "id": "rD1MbwvOZ45A",
        "outputId": "037de9fe-605f-4e90-e9ef-791a5b615dd5"
      },
      "execution_count": 14,
      "outputs": [
        {
          "output_type": "execute_result",
          "data": {
            "text/plain": [
              "(606867, 768580)"
            ]
          },
          "metadata": {},
          "execution_count": 14
        }
      ]
    },
    {
      "cell_type": "code",
      "source": [
        "model.wv['Harry']"
      ],
      "metadata": {
        "colab": {
          "base_uri": "https://localhost:8080/"
        },
        "id": "D0hsEpVTaKjP",
        "outputId": "979cff7e-0df0-4fb9-e175-8acb8e02d31c"
      },
      "execution_count": 17,
      "outputs": [
        {
          "output_type": "execute_result",
          "data": {
            "text/plain": [
              "array([ 0.02038177,  0.14037593, -0.8447632 ,  0.06858952,  0.2664796 ,\n",
              "        0.4351732 , -0.61260015,  0.20498033,  0.45005748, -0.12681022,\n",
              "        0.32203272, -0.05782613, -0.616444  ,  1.6743722 , -0.8074099 ,\n",
              "       -0.10746881,  0.46297932, -0.19813004, -0.69047827, -0.50429267,\n",
              "       -1.0636194 ,  0.25492242, -0.48669487, -0.3511881 , -0.45102748,\n",
              "       -0.72869706, -0.6630939 , -0.5069769 , -0.04488607,  0.2205369 ,\n",
              "       -0.68490446,  0.11561207,  1.4919833 , -0.31468529,  0.25406784,\n",
              "        0.7899553 , -0.26971737,  0.25777227,  0.0060927 , -0.23166221,\n",
              "        0.30163664, -0.37667218,  0.04942961, -0.38878328, -0.30642885,\n",
              "       -0.6102699 , -0.7424356 ,  0.38356158,  0.85617393,  0.22462921,\n",
              "        0.32795566, -0.42021996,  0.6167248 , -0.46802208, -0.46152002,\n",
              "        0.18359381,  0.29531878,  0.4190588 , -0.20023671, -0.32002488,\n",
              "        0.11260318, -0.59321   , -0.2093152 ,  0.95055014, -0.38866785,\n",
              "        0.7321192 , -0.28349304,  0.3837497 ,  0.3376593 ,  0.44433367,\n",
              "       -0.36510092,  0.35628444,  0.61989677, -0.641959  ,  0.11179147,\n",
              "       -0.02607803,  0.6314262 ,  0.40163118, -0.2399562 ,  0.27606964,\n",
              "       -0.1773986 , -0.51771134, -1.2246687 , -0.20963722, -0.41983318,\n",
              "       -0.58307785,  1.0777375 , -0.00355421,  0.13965127,  0.09859724,\n",
              "       -0.48055074, -0.16600768, -0.21019761,  0.1023397 , -0.4870664 ,\n",
              "        0.29351205,  0.26034373, -0.9645514 , -0.05975865,  0.7489245 ],\n",
              "      dtype=float32)"
            ]
          },
          "metadata": {},
          "execution_count": 17
        }
      ]
    },
    {
      "cell_type": "code",
      "source": [
        "model.wv['harry'] # observe that even small case harry has got the embedding, this case is handled here"
      ],
      "metadata": {
        "colab": {
          "base_uri": "https://localhost:8080/"
        },
        "id": "jNCbijRdaXD6",
        "outputId": "1c484545-78df-48f1-f561-1c6ff9c00f29"
      },
      "execution_count": 18,
      "outputs": [
        {
          "output_type": "execute_result",
          "data": {
            "text/plain": [
              "array([ 0.02111514,  0.14269748, -0.8364933 ,  0.05832774,  0.23541848,\n",
              "        0.39993855, -0.5538536 ,  0.2673312 ,  0.5062167 , -0.18084295,\n",
              "        0.23898503, -0.04031714, -0.58314216,  1.5657905 , -0.745968  ,\n",
              "       -0.11345426,  0.43610415, -0.21901157, -0.7744574 , -0.5384722 ,\n",
              "       -1.0325626 ,  0.24807014, -0.3691976 , -0.37665796, -0.44535992,\n",
              "       -0.6329736 , -0.6463763 , -0.4645145 , -0.01605343,  0.25363687,\n",
              "       -0.69956654,  0.138093  ,  1.3917965 , -0.2659603 ,  0.24925283,\n",
              "        0.75502163, -0.2413257 ,  0.29676345,  0.00192095, -0.21559967,\n",
              "        0.23472418, -0.35986677,  0.04497727, -0.3234673 , -0.38165888,\n",
              "       -0.5831309 , -0.66216713,  0.38344356,  0.8283636 ,  0.1832556 ,\n",
              "        0.31629965, -0.3438831 ,  0.5712334 , -0.41876513, -0.45845112,\n",
              "        0.10575414,  0.22474381,  0.36583897, -0.20483579, -0.3061541 ,\n",
              "        0.10686674, -0.5872969 , -0.2166504 ,  0.938456  , -0.32908288,\n",
              "        0.7045468 , -0.24509116,  0.29507476,  0.3512828 ,  0.38886747,\n",
              "       -0.37047815,  0.31496868,  0.6825038 , -0.70763546,  0.12245334,\n",
              "       -0.01467625,  0.6201332 ,  0.3867691 , -0.12419184,  0.30913025,\n",
              "       -0.22206856, -0.50787586, -1.1384742 , -0.2566363 , -0.34532642,\n",
              "       -0.51523924,  0.9777573 ,  0.02553735,  0.08428466,  0.02936323,\n",
              "       -0.45863363, -0.15346238, -0.17005154,  0.14460504, -0.41472545,\n",
              "        0.27984825,  0.20913461, -0.83293754, -0.01420112,  0.65190786],\n",
              "      dtype=float32)"
            ]
          },
          "metadata": {},
          "execution_count": 18
        }
      ]
    },
    {
      "cell_type": "code",
      "source": [
        "model.wv.most_similar('harry')"
      ],
      "metadata": {
        "colab": {
          "base_uri": "https://localhost:8080/"
        },
        "id": "bC7I_9xJagug",
        "outputId": "b898b701-7a6c-4e73-ab32-bce289fdd4c8"
      },
      "execution_count": 19,
      "outputs": [
        {
          "output_type": "execute_result",
          "data": {
            "text/plain": [
              "[('hurry', 0.9999046325683594),\n",
              " ('raspberry', 0.999899685382843),\n",
              " ('readyHarry', 0.9998835921287537),\n",
              " ('carry', 0.9998627305030823),\n",
              " ('HotelCokeworthHarry', 0.9998553991317749),\n",
              " ('cry', 0.9998498558998108),\n",
              " ('dry', 0.9998309016227722),\n",
              " ('furioushe', 0.9998235702514648),\n",
              " ('mione', 0.9998202323913574),\n",
              " ('Hardly', 0.999816358089447)]"
            ]
          },
          "metadata": {},
          "execution_count": 19
        }
      ]
    },
    {
      "cell_type": "code",
      "source": [
        "# lets understand the Hyperparameters now\n",
        "min_n\n",
        "minimum size of character split, n gram\n",
        "\n",
        "max_n\n",
        "max size of character split , n gram\n",
        "\n",
        "sentences(required):\n",
        "  input data ,where each sentences represented as list of Words\n",
        "\n",
        "vector size (default =100):\n",
        "  dimensionality of vector\n",
        "\n",
        "window (default = 5)\n",
        "  maximum distance between the context word and focus word\n",
        "\n",
        "min_count(default = 5)\n",
        "  min freq of word\n",
        "\n",
        "workers(default = 3)\n",
        "  no of cpu cores to use for training\n",
        "\n",
        "alpha (default = 0.025)\n",
        "  initial learning rate , this starts reducing as we start the training, deep learning Concept\n",
        "\n",
        "min_alpha(default = 0.001)\n",
        "  learning rate will linearly drop to this value\n",
        "\n",
        "epochs(default=5):\n",
        "  no of iterations over the corpus/dataset\n",
        "\n",
        "sg(default=0)\n",
        "  sg=0 --> CBOW\n",
        "  sg=1 --> skipgram"
      ],
      "metadata": {
        "id": "khEzS9jabubd"
      },
      "execution_count": null,
      "outputs": []
    },
    {
      "cell_type": "markdown",
      "source": [
        "**Doc2Vec**"
      ],
      "metadata": {
        "id": "GVhfwE6wdjF1"
      }
    },
    {
      "cell_type": "code",
      "source": [
        "# two ways to train Doc2Vec\n",
        "# 1. Distributed Memory (DM) ---- Skip Gram\n",
        "# 2. Distributed Bag of Words(DBOW) ---- CBOW"
      ],
      "metadata": {
        "id": "b3DwsgIpsW32"
      },
      "execution_count": null,
      "outputs": []
    },
    {
      "cell_type": "code",
      "source": [
        "from gensim.models import doc2vec\n",
        "from gensim.models.doc2vec import TaggedDocument,Doc2Vec # tagged docuument will give id to each doc"
      ],
      "metadata": {
        "id": "LHe-F06esupv"
      },
      "execution_count": 22,
      "outputs": []
    },
    {
      "cell_type": "code",
      "source": [
        "# We will pass id with each document while creatin the data set\n",
        "# data format required is list of sentences\n",
        "# [sent1,sent2,sent3,...]"
      ],
      "metadata": {
        "id": "3srIs9dGxI-y"
      },
      "execution_count": 24,
      "outputs": []
    },
    {
      "cell_type": "code",
      "source": [
        "data = processed_text.split(\".\")\n",
        "data[0]"
      ],
      "metadata": {
        "colab": {
          "base_uri": "https://localhost:8080/",
          "height": 35
        },
        "id": "59F33DirxktU",
        "outputId": "bf45a91a-8f6a-4b4f-e1c1-a475d7558c53"
      },
      "execution_count": 25,
      "outputs": [
        {
          "output_type": "execute_result",
          "data": {
            "text/plain": [
              "'M r'"
            ],
            "application/vnd.google.colaboratory.intrinsic+json": {
              "type": "string"
            }
          },
          "metadata": {},
          "execution_count": 25
        }
      ]
    },
    {
      "cell_type": "code",
      "source": [
        "import nltk\n",
        "nltk.download('punkt_tab')"
      ],
      "metadata": {
        "colab": {
          "base_uri": "https://localhost:8080/"
        },
        "id": "cHMcsm2-EV1z",
        "outputId": "f9aa9843-c11e-4d59-ed90-16f4ac4a31fd"
      },
      "execution_count": 32,
      "outputs": [
        {
          "output_type": "stream",
          "name": "stderr",
          "text": [
            "[nltk_data] Downloading package punkt_tab to /root/nltk_data...\n",
            "[nltk_data]   Unzipping tokenizers/punkt_tab.zip.\n"
          ]
        },
        {
          "output_type": "execute_result",
          "data": {
            "text/plain": [
              "True"
            ]
          },
          "metadata": {},
          "execution_count": 32
        }
      ]
    },
    {
      "cell_type": "code",
      "source": [
        "from nltk.tokenize import word_tokenize"
      ],
      "metadata": {
        "id": "oeoX1JjDDGx-"
      },
      "execution_count": 30,
      "outputs": []
    },
    {
      "cell_type": "code",
      "source": [
        "# creating ID for the data\n",
        "\n",
        "# for id,sent in enumerate(data):\n",
        "#   TaggedDocument(words=word_tokenize(sent),tags=[id])"
      ],
      "metadata": {
        "id": "3VG-sIs4xsSJ"
      },
      "execution_count": null,
      "outputs": []
    },
    {
      "cell_type": "code",
      "source": [
        "#same thing in list comprehension\n",
        "tagged_data = [TaggedDocument(words=word_tokenize(sent),tags=[id]) for id,sent in enumerate(data)]"
      ],
      "metadata": {
        "id": "UFw6faWkDa9R"
      },
      "execution_count": 33,
      "outputs": []
    },
    {
      "cell_type": "code",
      "source": [
        "tagged_data[1]"
      ],
      "metadata": {
        "colab": {
          "base_uri": "https://localhost:8080/"
        },
        "id": "HuW6h32UEo7k",
        "outputId": "a9d984a7-b658-42fb-f3b0-f3244de53677"
      },
      "execution_count": 35,
      "outputs": [
        {
          "output_type": "execute_result",
          "data": {
            "text/plain": [
              "TaggedDocument(words=['and', 'Mrs'], tags=[1])"
            ]
          },
          "metadata": {},
          "execution_count": 35
        }
      ]
    },
    {
      "cell_type": "code",
      "source": [
        "model_doc2vec = Doc2Vec(vector_size=100, min_count=1, epochs=10)"
      ],
      "metadata": {
        "id": "H1BoljboE0_-"
      },
      "execution_count": 37,
      "outputs": []
    },
    {
      "cell_type": "code",
      "source": [
        "model_doc2vec.build_vocab(tagged_data)"
      ],
      "metadata": {
        "id": "944Vi5UoFBSv"
      },
      "execution_count": 38,
      "outputs": []
    },
    {
      "cell_type": "code",
      "source": [
        "model_doc2vec.wv.key_to_index # this is for checking the vocab"
      ],
      "metadata": {
        "id": "olF_2HtOFIlQ"
      },
      "execution_count": 40,
      "outputs": []
    },
    {
      "cell_type": "code",
      "source": [
        "model_doc2vec.train(tagged_data, total_examples=model_doc2vec.corpus_count, epochs=model_doc2vec.epochs)"
      ],
      "metadata": {
        "id": "RGRN7hiGFeTV"
      },
      "execution_count": 41,
      "outputs": []
    },
    {
      "cell_type": "code",
      "source": [
        "model_doc2vec.wv['Harry']"
      ],
      "metadata": {
        "colab": {
          "base_uri": "https://localhost:8080/"
        },
        "id": "Dn6vKU0fF8Fu",
        "outputId": "88da6b3f-6431-4c00-e4b3-3e4a5320a14d"
      },
      "execution_count": 42,
      "outputs": [
        {
          "output_type": "execute_result",
          "data": {
            "text/plain": [
              "array([-2.8015128e-01,  3.2952562e-01, -3.9512381e-02,  2.8886247e-02,\n",
              "        1.1008927e-01, -6.8249160e-01,  3.5516661e-01,  1.5037049e+00,\n",
              "       -9.0411371e-01, -8.7001419e-01, -1.2941584e-01, -1.2102170e+00,\n",
              "        1.4036667e-01,  6.0865688e-01,  1.4884241e-01, -5.5648679e-01,\n",
              "        7.9308313e-01, -4.3946281e-01, -3.2487875e-01, -1.7280539e+00,\n",
              "        2.5831115e-01,  3.1108004e-01,  5.3474551e-01, -2.7908468e-01,\n",
              "       -4.3872561e-02,  7.1471542e-02, -2.0113114e-01, -8.7458342e-02,\n",
              "       -6.7241168e-01,  3.5044837e-01,  7.8639090e-01, -7.8170106e-02,\n",
              "        7.5019158e-02, -3.2356721e-01,  6.2437574e-03,  8.0037040e-01,\n",
              "        4.5444557e-01, -4.5498019e-01, -2.9286438e-01, -6.9295818e-01,\n",
              "        3.5306808e-01, -6.3552654e-01, -4.5528102e-01, -1.6834325e-01,\n",
              "        7.9696941e-01, -8.0420281e-04, -7.1122009e-01, -3.3835733e-01,\n",
              "        2.7395102e-01,  6.4784354e-01,  1.6049127e-01, -4.4565535e-01,\n",
              "       -1.0646313e-02, -1.6660267e-01, -3.0191970e-01,  3.4536281e-01,\n",
              "        1.1127647e-01, -1.3473714e-03, -6.5264744e-01,  2.7360612e-01,\n",
              "        6.7111588e-01, -7.8419164e-02,  1.6231722e-01,  1.7372003e-01,\n",
              "       -5.5412465e-01,  1.0225922e+00, -2.3053740e-01,  4.8505598e-01,\n",
              "       -8.8897640e-01,  4.9186382e-01, -3.7528577e-01,  3.4016618e-01,\n",
              "        1.0045611e+00,  1.3742171e-02,  6.4449048e-01,  1.6775523e-01,\n",
              "        1.6325516e-01,  3.4916872e-01, -3.0994815e-01, -4.2045813e-02,\n",
              "       -3.9578879e-01,  1.4741465e-01, -4.3006656e-01,  9.0729207e-01,\n",
              "       -3.0783880e-01,  8.1316054e-02,  4.3307412e-01,  8.1522182e-02,\n",
              "        7.1042496e-01,  3.7890184e-01,  1.0849919e+00,  5.7115293e-01,\n",
              "        1.2059609e-01,  5.1365441e-01,  1.3962673e+00,  4.4839746e-01,\n",
              "        4.2843449e-01, -7.4375975e-01,  7.6422110e-02, -3.4880850e-01],\n",
              "      dtype=float32)"
            ]
          },
          "metadata": {},
          "execution_count": 42
        }
      ]
    },
    {
      "cell_type": "code",
      "source": [
        "tagged_data[10]  # this is the whole one document with id 10"
      ],
      "metadata": {
        "colab": {
          "base_uri": "https://localhost:8080/"
        },
        "id": "Mb7xKwu-H-6I",
        "outputId": "8e8c8ff2-2e2d-4e85-9c39-1c2fcabba64a"
      },
      "execution_count": 54,
      "outputs": [
        {
          "output_type": "execute_result",
          "data": {
            "text/plain": [
              "TaggedDocument(words=['The', 'Dursleys', 'had', 'everything', 'they', 'wanted', 'but', 'they', 'also', 'had', 'a', 'secret', 'and', 'their', 'greatest', 'fear', 'was', 'that', 'somebody', 'would', 'discover', 'it'], tags=[10])"
            ]
          },
          "metadata": {},
          "execution_count": 54
        }
      ]
    },
    {
      "cell_type": "code",
      "source": [
        "model_doc2vec.docvecs[10] # this is the vector rep of the whole doc of id 10"
      ],
      "metadata": {
        "colab": {
          "base_uri": "https://localhost:8080/"
        },
        "id": "YOaUniOwHlB_",
        "outputId": "8d13490e-68eb-450f-de87-523a1b182037"
      },
      "execution_count": 55,
      "outputs": [
        {
          "output_type": "stream",
          "name": "stderr",
          "text": [
            "<ipython-input-55-9a2e1f0df3a4>:1: DeprecationWarning: Call to deprecated `docvecs` (The `docvecs` property has been renamed `dv`.).\n",
            "  model_doc2vec.docvecs[10] # this is the vector rep of the whole doc of id 1\n"
          ]
        },
        {
          "output_type": "execute_result",
          "data": {
            "text/plain": [
              "array([-0.00993139, -0.00082763,  0.00562577, -0.00462139, -0.00565077,\n",
              "       -0.00706789,  0.01897665,  0.03130152, -0.01095526, -0.014591  ,\n",
              "       -0.01016433, -0.02706053,  0.0006693 ,  0.01190737, -0.0067475 ,\n",
              "       -0.02016668,  0.01582433,  0.00186781, -0.01024804, -0.02515985,\n",
              "        0.00984423,  0.0016419 ,  0.00161595, -0.01279073, -0.00687826,\n",
              "       -0.00727758, -0.01231115, -0.00660084, -0.0130501 , -0.00057491,\n",
              "        0.01403275,  0.00339821, -0.00749848, -0.01352415, -0.00330817,\n",
              "        0.02488692,  0.01056773, -0.01738856, -0.00646789, -0.00852286,\n",
              "        0.01186462, -0.01789384, -0.01309671, -0.00200106,  0.02279664,\n",
              "       -0.00769964, -0.00874139, -0.00964629,  0.00839197,  0.0104785 ,\n",
              "        0.01327129, -0.01657651,  0.01115337, -0.00346192,  0.00021757,\n",
              "        0.01935864,  0.00871703, -0.00610844, -0.01455021, -0.00448274,\n",
              "        0.01526225,  0.00862812,  0.00294086, -0.00454124, -0.00516553,\n",
              "        0.02324459, -0.01348888,  0.00693043, -0.01602082,  0.01581794,\n",
              "       -0.01364663,  0.00968958,  0.02391494,  0.0117722 ,  0.01053063,\n",
              "        0.00105394, -0.00778229,  0.01236309, -0.01272031,  0.0002009 ,\n",
              "       -0.01630107,  0.01293   , -0.01143084,  0.00747831, -0.01231642,\n",
              "        0.00744058,  0.00760177, -0.00493463,  0.02236545,  0.00825213,\n",
              "        0.03230898,  0.01788228,  0.01207816,  0.00699249,  0.03393302,\n",
              "       -0.00251206,  0.00644544, -0.02246818, -0.0057307 , -0.00416037],\n",
              "      dtype=float32)"
            ]
          },
          "metadata": {},
          "execution_count": 55
        }
      ]
    },
    {
      "cell_type": "code",
      "source": [
        "# now lets check the vect of the words of those document\n",
        "model_doc2vec.infer_vector(['The', 'Dursleys', 'had', 'everything', 'they', 'wanted', 'but', 'they', 'also', 'had', 'a', 'secret', 'and', 'their', 'greatest', 'fear', 'was', 'that', 'somebody', 'would', 'discover', 'it'])"
      ],
      "metadata": {
        "colab": {
          "base_uri": "https://localhost:8080/"
        },
        "id": "4RCEl1mdIHs2",
        "outputId": "d91c03b6-981f-4387-edf3-9242c4cf2eb3"
      },
      "execution_count": 56,
      "outputs": [
        {
          "output_type": "execute_result",
          "data": {
            "text/plain": [
              "array([-0.02138517,  0.0085051 , -0.0068702 , -0.00695647, -0.00143623,\n",
              "       -0.02797327,  0.02464352,  0.0523371 , -0.03204389, -0.03012031,\n",
              "       -0.01050111, -0.04003914,  0.0004062 ,  0.01734932,  0.00740383,\n",
              "       -0.03009528,  0.03292181, -0.01699536, -0.01785105, -0.04810462,\n",
              "        0.01241878,  0.00198116,  0.00773203, -0.00773035, -0.00947753,\n",
              "       -0.00216195, -0.00989431, -0.02586042, -0.02402024,  0.01204816,\n",
              "        0.0312595 ,  0.00048369,  0.00958502, -0.0140547 ,  0.01203423,\n",
              "        0.02347988,  0.01787592, -0.01683742, -0.00628502, -0.03618919,\n",
              "        0.01481801, -0.02065617, -0.01706614,  0.00206232,  0.02318159,\n",
              "       -0.01349603, -0.0173824 ,  0.00053159,  0.01022405,  0.02253202,\n",
              "        0.00523384, -0.01212152,  0.00417942, -0.00360151, -0.01477541,\n",
              "        0.02252605,  0.02151278, -0.0011343 , -0.01918185,  0.00375121,\n",
              "        0.03843005, -0.00431246,  0.00409515,  0.00592127, -0.01693031,\n",
              "        0.03649382, -0.01908113,  0.02760811, -0.03442815,  0.00538163,\n",
              "       -0.01939944,  0.00901861,  0.04008257,  0.00862278,  0.02875697,\n",
              "        0.00790718, -0.00309532,  0.02518968, -0.0200777 , -0.00279418,\n",
              "       -0.02591095,  0.00585304, -0.00482936,  0.02124721, -0.00604707,\n",
              "        0.0131222 ,  0.01881639,  0.00111657,  0.03214319, -0.00237978,\n",
              "        0.03515342,  0.01167352,  0.00185784,  0.01583075,  0.05134975,\n",
              "       -0.00254803, -0.00064851, -0.0375211 , -0.00713016, -0.01013967],\n",
              "      dtype=float32)"
            ]
          },
          "metadata": {},
          "execution_count": 56
        }
      ]
    },
    {
      "cell_type": "code",
      "source": [
        "new_doc = model_doc2vec.infer_vector(['The', 'Dursleys', 'had', 'everything', 'they', 'wanted', 'but', 'they', 'also', 'had', 'a', 'secret', 'and', 'their', 'greatest', 'fear', 'was', 'that', 'somebody', 'would', 'discover', 'it'])"
      ],
      "metadata": {
        "id": "_AhcZBTlIlCH"
      },
      "execution_count": 57,
      "outputs": []
    },
    {
      "cell_type": "code",
      "source": [
        "# so here we should have gotten the same  id i.e 10, but due to shorter data, it has given other ids\n",
        "model_doc2vec.docvecs.most_similar(new_doc)"
      ],
      "metadata": {
        "colab": {
          "base_uri": "https://localhost:8080/"
        },
        "id": "icVhxFsnIwZt",
        "outputId": "e916034a-8c0a-45d6-8e68-37a73512bfd7"
      },
      "execution_count": 58,
      "outputs": [
        {
          "output_type": "stream",
          "name": "stderr",
          "text": [
            "<ipython-input-58-67b0b3aa739f>:2: DeprecationWarning: Call to deprecated `docvecs` (The `docvecs` property has been renamed `dv`.).\n",
            "  model_doc2vec.docvecs.most_similar(new_doc)\n"
          ]
        },
        {
          "output_type": "execute_result",
          "data": {
            "text/plain": [
              "[(3845, 0.9641897082328796),\n",
              " (3091, 0.9638416171073914),\n",
              " (1050, 0.963324785232544),\n",
              " (3433, 0.9614928960800171),\n",
              " (3621, 0.9607818722724915),\n",
              " (4523, 0.9601372480392456),\n",
              " (666, 0.9597435593605042),\n",
              " (1054, 0.9596314430236816),\n",
              " (1206, 0.9593465328216553),\n",
              " (250, 0.9587805867195129)]"
            ]
          },
          "metadata": {},
          "execution_count": 58
        }
      ]
    },
    {
      "cell_type": "code",
      "source": [
        "# use case can be like, if you have got new review document or any document, and you want to\n",
        "# check which doc is the most similar, so from the above approach, we can find out"
      ],
      "metadata": {
        "id": "fOAKUEPdJNjd"
      },
      "execution_count": null,
      "outputs": []
    }
  ]
}