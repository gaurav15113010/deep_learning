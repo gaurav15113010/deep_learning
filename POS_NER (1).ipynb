{
  "nbformat": 4,
  "nbformat_minor": 0,
  "metadata": {
    "colab": {
      "provenance": []
    },
    "kernelspec": {
      "name": "python3",
      "display_name": "Python 3"
    },
    "language_info": {
      "name": "python"
    },
    "widgets": {
      "application/vnd.jupyter.widget-state+json": {
        "e1fcde68f43d426f9d93009acdeeef2f": {
          "model_module": "@jupyter-widgets/controls",
          "model_name": "HBoxModel",
          "model_module_version": "1.5.0",
          "state": {
            "_dom_classes": [],
            "_model_module": "@jupyter-widgets/controls",
            "_model_module_version": "1.5.0",
            "_model_name": "HBoxModel",
            "_view_count": null,
            "_view_module": "@jupyter-widgets/controls",
            "_view_module_version": "1.5.0",
            "_view_name": "HBoxView",
            "box_style": "",
            "children": [
              "IPY_MODEL_d25155b1745d4ebc9c01e609e18c065e",
              "IPY_MODEL_674ea48c934741c8a6a0b5a2daa7563a",
              "IPY_MODEL_d8abe1df1b424f2cb9739a48763660fa"
            ],
            "layout": "IPY_MODEL_4c290cd993d64dc8ba048ee40a5ae71f"
          }
        },
        "d25155b1745d4ebc9c01e609e18c065e": {
          "model_module": "@jupyter-widgets/controls",
          "model_name": "HTMLModel",
          "model_module_version": "1.5.0",
          "state": {
            "_dom_classes": [],
            "_model_module": "@jupyter-widgets/controls",
            "_model_module_version": "1.5.0",
            "_model_name": "HTMLModel",
            "_view_count": null,
            "_view_module": "@jupyter-widgets/controls",
            "_view_module_version": "1.5.0",
            "_view_name": "HTMLView",
            "description": "",
            "description_tooltip": null,
            "layout": "IPY_MODEL_18ff4b3696304adc8e2728ed88c43b8a",
            "placeholder": "​",
            "style": "IPY_MODEL_c2717e37ab3a4b77bd55a3918f3439cc",
            "value": "config.json: 100%"
          }
        },
        "674ea48c934741c8a6a0b5a2daa7563a": {
          "model_module": "@jupyter-widgets/controls",
          "model_name": "FloatProgressModel",
          "model_module_version": "1.5.0",
          "state": {
            "_dom_classes": [],
            "_model_module": "@jupyter-widgets/controls",
            "_model_module_version": "1.5.0",
            "_model_name": "FloatProgressModel",
            "_view_count": null,
            "_view_module": "@jupyter-widgets/controls",
            "_view_module_version": "1.5.0",
            "_view_name": "ProgressView",
            "bar_style": "success",
            "description": "",
            "description_tooltip": null,
            "layout": "IPY_MODEL_ba55f295b1314e74ac3509e85eb3b5a7",
            "max": 1257,
            "min": 0,
            "orientation": "horizontal",
            "style": "IPY_MODEL_08b6f0e8982444d7aab849a42be91571",
            "value": 1257
          }
        },
        "d8abe1df1b424f2cb9739a48763660fa": {
          "model_module": "@jupyter-widgets/controls",
          "model_name": "HTMLModel",
          "model_module_version": "1.5.0",
          "state": {
            "_dom_classes": [],
            "_model_module": "@jupyter-widgets/controls",
            "_model_module_version": "1.5.0",
            "_model_name": "HTMLModel",
            "_view_count": null,
            "_view_module": "@jupyter-widgets/controls",
            "_view_module_version": "1.5.0",
            "_view_name": "HTMLView",
            "description": "",
            "description_tooltip": null,
            "layout": "IPY_MODEL_a6dd08904400412f81a19f21d443562f",
            "placeholder": "​",
            "style": "IPY_MODEL_1ee9ee5185d948faabf07b9c697a7b8a",
            "value": " 1.26k/1.26k [00:00&lt;00:00, 67.5kB/s]"
          }
        },
        "4c290cd993d64dc8ba048ee40a5ae71f": {
          "model_module": "@jupyter-widgets/base",
          "model_name": "LayoutModel",
          "model_module_version": "1.2.0",
          "state": {
            "_model_module": "@jupyter-widgets/base",
            "_model_module_version": "1.2.0",
            "_model_name": "LayoutModel",
            "_view_count": null,
            "_view_module": "@jupyter-widgets/base",
            "_view_module_version": "1.2.0",
            "_view_name": "LayoutView",
            "align_content": null,
            "align_items": null,
            "align_self": null,
            "border": null,
            "bottom": null,
            "display": null,
            "flex": null,
            "flex_flow": null,
            "grid_area": null,
            "grid_auto_columns": null,
            "grid_auto_flow": null,
            "grid_auto_rows": null,
            "grid_column": null,
            "grid_gap": null,
            "grid_row": null,
            "grid_template_areas": null,
            "grid_template_columns": null,
            "grid_template_rows": null,
            "height": null,
            "justify_content": null,
            "justify_items": null,
            "left": null,
            "margin": null,
            "max_height": null,
            "max_width": null,
            "min_height": null,
            "min_width": null,
            "object_fit": null,
            "object_position": null,
            "order": null,
            "overflow": null,
            "overflow_x": null,
            "overflow_y": null,
            "padding": null,
            "right": null,
            "top": null,
            "visibility": null,
            "width": null
          }
        },
        "18ff4b3696304adc8e2728ed88c43b8a": {
          "model_module": "@jupyter-widgets/base",
          "model_name": "LayoutModel",
          "model_module_version": "1.2.0",
          "state": {
            "_model_module": "@jupyter-widgets/base",
            "_model_module_version": "1.2.0",
            "_model_name": "LayoutModel",
            "_view_count": null,
            "_view_module": "@jupyter-widgets/base",
            "_view_module_version": "1.2.0",
            "_view_name": "LayoutView",
            "align_content": null,
            "align_items": null,
            "align_self": null,
            "border": null,
            "bottom": null,
            "display": null,
            "flex": null,
            "flex_flow": null,
            "grid_area": null,
            "grid_auto_columns": null,
            "grid_auto_flow": null,
            "grid_auto_rows": null,
            "grid_column": null,
            "grid_gap": null,
            "grid_row": null,
            "grid_template_areas": null,
            "grid_template_columns": null,
            "grid_template_rows": null,
            "height": null,
            "justify_content": null,
            "justify_items": null,
            "left": null,
            "margin": null,
            "max_height": null,
            "max_width": null,
            "min_height": null,
            "min_width": null,
            "object_fit": null,
            "object_position": null,
            "order": null,
            "overflow": null,
            "overflow_x": null,
            "overflow_y": null,
            "padding": null,
            "right": null,
            "top": null,
            "visibility": null,
            "width": null
          }
        },
        "c2717e37ab3a4b77bd55a3918f3439cc": {
          "model_module": "@jupyter-widgets/controls",
          "model_name": "DescriptionStyleModel",
          "model_module_version": "1.5.0",
          "state": {
            "_model_module": "@jupyter-widgets/controls",
            "_model_module_version": "1.5.0",
            "_model_name": "DescriptionStyleModel",
            "_view_count": null,
            "_view_module": "@jupyter-widgets/base",
            "_view_module_version": "1.2.0",
            "_view_name": "StyleView",
            "description_width": ""
          }
        },
        "ba55f295b1314e74ac3509e85eb3b5a7": {
          "model_module": "@jupyter-widgets/base",
          "model_name": "LayoutModel",
          "model_module_version": "1.2.0",
          "state": {
            "_model_module": "@jupyter-widgets/base",
            "_model_module_version": "1.2.0",
            "_model_name": "LayoutModel",
            "_view_count": null,
            "_view_module": "@jupyter-widgets/base",
            "_view_module_version": "1.2.0",
            "_view_name": "LayoutView",
            "align_content": null,
            "align_items": null,
            "align_self": null,
            "border": null,
            "bottom": null,
            "display": null,
            "flex": null,
            "flex_flow": null,
            "grid_area": null,
            "grid_auto_columns": null,
            "grid_auto_flow": null,
            "grid_auto_rows": null,
            "grid_column": null,
            "grid_gap": null,
            "grid_row": null,
            "grid_template_areas": null,
            "grid_template_columns": null,
            "grid_template_rows": null,
            "height": null,
            "justify_content": null,
            "justify_items": null,
            "left": null,
            "margin": null,
            "max_height": null,
            "max_width": null,
            "min_height": null,
            "min_width": null,
            "object_fit": null,
            "object_position": null,
            "order": null,
            "overflow": null,
            "overflow_x": null,
            "overflow_y": null,
            "padding": null,
            "right": null,
            "top": null,
            "visibility": null,
            "width": null
          }
        },
        "08b6f0e8982444d7aab849a42be91571": {
          "model_module": "@jupyter-widgets/controls",
          "model_name": "ProgressStyleModel",
          "model_module_version": "1.5.0",
          "state": {
            "_model_module": "@jupyter-widgets/controls",
            "_model_module_version": "1.5.0",
            "_model_name": "ProgressStyleModel",
            "_view_count": null,
            "_view_module": "@jupyter-widgets/base",
            "_view_module_version": "1.2.0",
            "_view_name": "StyleView",
            "bar_color": null,
            "description_width": ""
          }
        },
        "a6dd08904400412f81a19f21d443562f": {
          "model_module": "@jupyter-widgets/base",
          "model_name": "LayoutModel",
          "model_module_version": "1.2.0",
          "state": {
            "_model_module": "@jupyter-widgets/base",
            "_model_module_version": "1.2.0",
            "_model_name": "LayoutModel",
            "_view_count": null,
            "_view_module": "@jupyter-widgets/base",
            "_view_module_version": "1.2.0",
            "_view_name": "LayoutView",
            "align_content": null,
            "align_items": null,
            "align_self": null,
            "border": null,
            "bottom": null,
            "display": null,
            "flex": null,
            "flex_flow": null,
            "grid_area": null,
            "grid_auto_columns": null,
            "grid_auto_flow": null,
            "grid_auto_rows": null,
            "grid_column": null,
            "grid_gap": null,
            "grid_row": null,
            "grid_template_areas": null,
            "grid_template_columns": null,
            "grid_template_rows": null,
            "height": null,
            "justify_content": null,
            "justify_items": null,
            "left": null,
            "margin": null,
            "max_height": null,
            "max_width": null,
            "min_height": null,
            "min_width": null,
            "object_fit": null,
            "object_position": null,
            "order": null,
            "overflow": null,
            "overflow_x": null,
            "overflow_y": null,
            "padding": null,
            "right": null,
            "top": null,
            "visibility": null,
            "width": null
          }
        },
        "1ee9ee5185d948faabf07b9c697a7b8a": {
          "model_module": "@jupyter-widgets/controls",
          "model_name": "DescriptionStyleModel",
          "model_module_version": "1.5.0",
          "state": {
            "_model_module": "@jupyter-widgets/controls",
            "_model_module_version": "1.5.0",
            "_model_name": "DescriptionStyleModel",
            "_view_count": null,
            "_view_module": "@jupyter-widgets/base",
            "_view_module_version": "1.2.0",
            "_view_name": "StyleView",
            "description_width": ""
          }
        },
        "c7e7fb06f2dd4511b2a357b73f646caa": {
          "model_module": "@jupyter-widgets/controls",
          "model_name": "HBoxModel",
          "model_module_version": "1.5.0",
          "state": {
            "_dom_classes": [],
            "_model_module": "@jupyter-widgets/controls",
            "_model_module_version": "1.5.0",
            "_model_name": "HBoxModel",
            "_view_count": null,
            "_view_module": "@jupyter-widgets/controls",
            "_view_module_version": "1.5.0",
            "_view_name": "HBoxView",
            "box_style": "",
            "children": [
              "IPY_MODEL_419b152e227e4bc59e103070d800fea6",
              "IPY_MODEL_77c58b0b7d0b4df4895243de8b97ead6",
              "IPY_MODEL_fd33e3dc8eb44e9e95a847b06cafc25e"
            ],
            "layout": "IPY_MODEL_c7417957a980448ea15e60302f29db4e"
          }
        },
        "419b152e227e4bc59e103070d800fea6": {
          "model_module": "@jupyter-widgets/controls",
          "model_name": "HTMLModel",
          "model_module_version": "1.5.0",
          "state": {
            "_dom_classes": [],
            "_model_module": "@jupyter-widgets/controls",
            "_model_module_version": "1.5.0",
            "_model_name": "HTMLModel",
            "_view_count": null,
            "_view_module": "@jupyter-widgets/controls",
            "_view_module_version": "1.5.0",
            "_view_name": "HTMLView",
            "description": "",
            "description_tooltip": null,
            "layout": "IPY_MODEL_f5f58f402c4b4490936aa46fb5a2a952",
            "placeholder": "​",
            "style": "IPY_MODEL_79dc4e80a2b644948c82528314b90217",
            "value": "model.safetensors: 100%"
          }
        },
        "77c58b0b7d0b4df4895243de8b97ead6": {
          "model_module": "@jupyter-widgets/controls",
          "model_name": "FloatProgressModel",
          "model_module_version": "1.5.0",
          "state": {
            "_dom_classes": [],
            "_model_module": "@jupyter-widgets/controls",
            "_model_module_version": "1.5.0",
            "_model_name": "FloatProgressModel",
            "_view_count": null,
            "_view_module": "@jupyter-widgets/controls",
            "_view_module_version": "1.5.0",
            "_view_name": "ProgressView",
            "bar_style": "success",
            "description": "",
            "description_tooltip": null,
            "layout": "IPY_MODEL_e91af3a14a414d2fb0a78aa516131fa6",
            "max": 437980176,
            "min": 0,
            "orientation": "horizontal",
            "style": "IPY_MODEL_db7e1dd321c84b6faf5109655f3d6755",
            "value": 437980176
          }
        },
        "fd33e3dc8eb44e9e95a847b06cafc25e": {
          "model_module": "@jupyter-widgets/controls",
          "model_name": "HTMLModel",
          "model_module_version": "1.5.0",
          "state": {
            "_dom_classes": [],
            "_model_module": "@jupyter-widgets/controls",
            "_model_module_version": "1.5.0",
            "_model_name": "HTMLModel",
            "_view_count": null,
            "_view_module": "@jupyter-widgets/controls",
            "_view_module_version": "1.5.0",
            "_view_name": "HTMLView",
            "description": "",
            "description_tooltip": null,
            "layout": "IPY_MODEL_5990ba53ec6e48ccb62eb6e14ba41af9",
            "placeholder": "​",
            "style": "IPY_MODEL_3c7e3bae84f74b968d607e96089cd912",
            "value": " 438M/438M [00:05&lt;00:00, 26.1MB/s]"
          }
        },
        "c7417957a980448ea15e60302f29db4e": {
          "model_module": "@jupyter-widgets/base",
          "model_name": "LayoutModel",
          "model_module_version": "1.2.0",
          "state": {
            "_model_module": "@jupyter-widgets/base",
            "_model_module_version": "1.2.0",
            "_model_name": "LayoutModel",
            "_view_count": null,
            "_view_module": "@jupyter-widgets/base",
            "_view_module_version": "1.2.0",
            "_view_name": "LayoutView",
            "align_content": null,
            "align_items": null,
            "align_self": null,
            "border": null,
            "bottom": null,
            "display": null,
            "flex": null,
            "flex_flow": null,
            "grid_area": null,
            "grid_auto_columns": null,
            "grid_auto_flow": null,
            "grid_auto_rows": null,
            "grid_column": null,
            "grid_gap": null,
            "grid_row": null,
            "grid_template_areas": null,
            "grid_template_columns": null,
            "grid_template_rows": null,
            "height": null,
            "justify_content": null,
            "justify_items": null,
            "left": null,
            "margin": null,
            "max_height": null,
            "max_width": null,
            "min_height": null,
            "min_width": null,
            "object_fit": null,
            "object_position": null,
            "order": null,
            "overflow": null,
            "overflow_x": null,
            "overflow_y": null,
            "padding": null,
            "right": null,
            "top": null,
            "visibility": null,
            "width": null
          }
        },
        "f5f58f402c4b4490936aa46fb5a2a952": {
          "model_module": "@jupyter-widgets/base",
          "model_name": "LayoutModel",
          "model_module_version": "1.2.0",
          "state": {
            "_model_module": "@jupyter-widgets/base",
            "_model_module_version": "1.2.0",
            "_model_name": "LayoutModel",
            "_view_count": null,
            "_view_module": "@jupyter-widgets/base",
            "_view_module_version": "1.2.0",
            "_view_name": "LayoutView",
            "align_content": null,
            "align_items": null,
            "align_self": null,
            "border": null,
            "bottom": null,
            "display": null,
            "flex": null,
            "flex_flow": null,
            "grid_area": null,
            "grid_auto_columns": null,
            "grid_auto_flow": null,
            "grid_auto_rows": null,
            "grid_column": null,
            "grid_gap": null,
            "grid_row": null,
            "grid_template_areas": null,
            "grid_template_columns": null,
            "grid_template_rows": null,
            "height": null,
            "justify_content": null,
            "justify_items": null,
            "left": null,
            "margin": null,
            "max_height": null,
            "max_width": null,
            "min_height": null,
            "min_width": null,
            "object_fit": null,
            "object_position": null,
            "order": null,
            "overflow": null,
            "overflow_x": null,
            "overflow_y": null,
            "padding": null,
            "right": null,
            "top": null,
            "visibility": null,
            "width": null
          }
        },
        "79dc4e80a2b644948c82528314b90217": {
          "model_module": "@jupyter-widgets/controls",
          "model_name": "DescriptionStyleModel",
          "model_module_version": "1.5.0",
          "state": {
            "_model_module": "@jupyter-widgets/controls",
            "_model_module_version": "1.5.0",
            "_model_name": "DescriptionStyleModel",
            "_view_count": null,
            "_view_module": "@jupyter-widgets/base",
            "_view_module_version": "1.2.0",
            "_view_name": "StyleView",
            "description_width": ""
          }
        },
        "e91af3a14a414d2fb0a78aa516131fa6": {
          "model_module": "@jupyter-widgets/base",
          "model_name": "LayoutModel",
          "model_module_version": "1.2.0",
          "state": {
            "_model_module": "@jupyter-widgets/base",
            "_model_module_version": "1.2.0",
            "_model_name": "LayoutModel",
            "_view_count": null,
            "_view_module": "@jupyter-widgets/base",
            "_view_module_version": "1.2.0",
            "_view_name": "LayoutView",
            "align_content": null,
            "align_items": null,
            "align_self": null,
            "border": null,
            "bottom": null,
            "display": null,
            "flex": null,
            "flex_flow": null,
            "grid_area": null,
            "grid_auto_columns": null,
            "grid_auto_flow": null,
            "grid_auto_rows": null,
            "grid_column": null,
            "grid_gap": null,
            "grid_row": null,
            "grid_template_areas": null,
            "grid_template_columns": null,
            "grid_template_rows": null,
            "height": null,
            "justify_content": null,
            "justify_items": null,
            "left": null,
            "margin": null,
            "max_height": null,
            "max_width": null,
            "min_height": null,
            "min_width": null,
            "object_fit": null,
            "object_position": null,
            "order": null,
            "overflow": null,
            "overflow_x": null,
            "overflow_y": null,
            "padding": null,
            "right": null,
            "top": null,
            "visibility": null,
            "width": null
          }
        },
        "db7e1dd321c84b6faf5109655f3d6755": {
          "model_module": "@jupyter-widgets/controls",
          "model_name": "ProgressStyleModel",
          "model_module_version": "1.5.0",
          "state": {
            "_model_module": "@jupyter-widgets/controls",
            "_model_module_version": "1.5.0",
            "_model_name": "ProgressStyleModel",
            "_view_count": null,
            "_view_module": "@jupyter-widgets/base",
            "_view_module_version": "1.2.0",
            "_view_name": "StyleView",
            "bar_color": null,
            "description_width": ""
          }
        },
        "5990ba53ec6e48ccb62eb6e14ba41af9": {
          "model_module": "@jupyter-widgets/base",
          "model_name": "LayoutModel",
          "model_module_version": "1.2.0",
          "state": {
            "_model_module": "@jupyter-widgets/base",
            "_model_module_version": "1.2.0",
            "_model_name": "LayoutModel",
            "_view_count": null,
            "_view_module": "@jupyter-widgets/base",
            "_view_module_version": "1.2.0",
            "_view_name": "LayoutView",
            "align_content": null,
            "align_items": null,
            "align_self": null,
            "border": null,
            "bottom": null,
            "display": null,
            "flex": null,
            "flex_flow": null,
            "grid_area": null,
            "grid_auto_columns": null,
            "grid_auto_flow": null,
            "grid_auto_rows": null,
            "grid_column": null,
            "grid_gap": null,
            "grid_row": null,
            "grid_template_areas": null,
            "grid_template_columns": null,
            "grid_template_rows": null,
            "height": null,
            "justify_content": null,
            "justify_items": null,
            "left": null,
            "margin": null,
            "max_height": null,
            "max_width": null,
            "min_height": null,
            "min_width": null,
            "object_fit": null,
            "object_position": null,
            "order": null,
            "overflow": null,
            "overflow_x": null,
            "overflow_y": null,
            "padding": null,
            "right": null,
            "top": null,
            "visibility": null,
            "width": null
          }
        },
        "3c7e3bae84f74b968d607e96089cd912": {
          "model_module": "@jupyter-widgets/controls",
          "model_name": "DescriptionStyleModel",
          "model_module_version": "1.5.0",
          "state": {
            "_model_module": "@jupyter-widgets/controls",
            "_model_module_version": "1.5.0",
            "_model_name": "DescriptionStyleModel",
            "_view_count": null,
            "_view_module": "@jupyter-widgets/base",
            "_view_module_version": "1.2.0",
            "_view_name": "StyleView",
            "description_width": ""
          }
        },
        "9ef1233e93c841118b0e3ef865228c1d": {
          "model_module": "@jupyter-widgets/controls",
          "model_name": "HBoxModel",
          "model_module_version": "1.5.0",
          "state": {
            "_dom_classes": [],
            "_model_module": "@jupyter-widgets/controls",
            "_model_module_version": "1.5.0",
            "_model_name": "HBoxModel",
            "_view_count": null,
            "_view_module": "@jupyter-widgets/controls",
            "_view_module_version": "1.5.0",
            "_view_name": "HBoxView",
            "box_style": "",
            "children": [
              "IPY_MODEL_fcd8866fee0e4b9bb3bbbe22a0276e58",
              "IPY_MODEL_b3bc2c633df14843bdc2a7cc656e5211",
              "IPY_MODEL_a164ddcc08634b69bd00f5c95cd1dbc9"
            ],
            "layout": "IPY_MODEL_5213e685f4d14f6486e01f9bb7da7258"
          }
        },
        "fcd8866fee0e4b9bb3bbbe22a0276e58": {
          "model_module": "@jupyter-widgets/controls",
          "model_name": "HTMLModel",
          "model_module_version": "1.5.0",
          "state": {
            "_dom_classes": [],
            "_model_module": "@jupyter-widgets/controls",
            "_model_module_version": "1.5.0",
            "_model_name": "HTMLModel",
            "_view_count": null,
            "_view_module": "@jupyter-widgets/controls",
            "_view_module_version": "1.5.0",
            "_view_name": "HTMLView",
            "description": "",
            "description_tooltip": null,
            "layout": "IPY_MODEL_a9600cb4ea3b47d3b99dc387b34bee53",
            "placeholder": "​",
            "style": "IPY_MODEL_23d68494bd664971b360b364fe812997",
            "value": "tokenizer_config.json: 100%"
          }
        },
        "b3bc2c633df14843bdc2a7cc656e5211": {
          "model_module": "@jupyter-widgets/controls",
          "model_name": "FloatProgressModel",
          "model_module_version": "1.5.0",
          "state": {
            "_dom_classes": [],
            "_model_module": "@jupyter-widgets/controls",
            "_model_module_version": "1.5.0",
            "_model_name": "FloatProgressModel",
            "_view_count": null,
            "_view_module": "@jupyter-widgets/controls",
            "_view_module_version": "1.5.0",
            "_view_name": "ProgressView",
            "bar_style": "success",
            "description": "",
            "description_tooltip": null,
            "layout": "IPY_MODEL_41020980a5c94995b006a8f825cf3d0e",
            "max": 39,
            "min": 0,
            "orientation": "horizontal",
            "style": "IPY_MODEL_82bf802a461f41119f050b5fb0357a0e",
            "value": 39
          }
        },
        "a164ddcc08634b69bd00f5c95cd1dbc9": {
          "model_module": "@jupyter-widgets/controls",
          "model_name": "HTMLModel",
          "model_module_version": "1.5.0",
          "state": {
            "_dom_classes": [],
            "_model_module": "@jupyter-widgets/controls",
            "_model_module_version": "1.5.0",
            "_model_name": "HTMLModel",
            "_view_count": null,
            "_view_module": "@jupyter-widgets/controls",
            "_view_module_version": "1.5.0",
            "_view_name": "HTMLView",
            "description": "",
            "description_tooltip": null,
            "layout": "IPY_MODEL_39f28a0785c14793aa2c7aa45992edf1",
            "placeholder": "​",
            "style": "IPY_MODEL_ee7afe8bcfeb41c7ada52984be1b6e64",
            "value": " 39.0/39.0 [00:00&lt;00:00, 2.07kB/s]"
          }
        },
        "5213e685f4d14f6486e01f9bb7da7258": {
          "model_module": "@jupyter-widgets/base",
          "model_name": "LayoutModel",
          "model_module_version": "1.2.0",
          "state": {
            "_model_module": "@jupyter-widgets/base",
            "_model_module_version": "1.2.0",
            "_model_name": "LayoutModel",
            "_view_count": null,
            "_view_module": "@jupyter-widgets/base",
            "_view_module_version": "1.2.0",
            "_view_name": "LayoutView",
            "align_content": null,
            "align_items": null,
            "align_self": null,
            "border": null,
            "bottom": null,
            "display": null,
            "flex": null,
            "flex_flow": null,
            "grid_area": null,
            "grid_auto_columns": null,
            "grid_auto_flow": null,
            "grid_auto_rows": null,
            "grid_column": null,
            "grid_gap": null,
            "grid_row": null,
            "grid_template_areas": null,
            "grid_template_columns": null,
            "grid_template_rows": null,
            "height": null,
            "justify_content": null,
            "justify_items": null,
            "left": null,
            "margin": null,
            "max_height": null,
            "max_width": null,
            "min_height": null,
            "min_width": null,
            "object_fit": null,
            "object_position": null,
            "order": null,
            "overflow": null,
            "overflow_x": null,
            "overflow_y": null,
            "padding": null,
            "right": null,
            "top": null,
            "visibility": null,
            "width": null
          }
        },
        "a9600cb4ea3b47d3b99dc387b34bee53": {
          "model_module": "@jupyter-widgets/base",
          "model_name": "LayoutModel",
          "model_module_version": "1.2.0",
          "state": {
            "_model_module": "@jupyter-widgets/base",
            "_model_module_version": "1.2.0",
            "_model_name": "LayoutModel",
            "_view_count": null,
            "_view_module": "@jupyter-widgets/base",
            "_view_module_version": "1.2.0",
            "_view_name": "LayoutView",
            "align_content": null,
            "align_items": null,
            "align_self": null,
            "border": null,
            "bottom": null,
            "display": null,
            "flex": null,
            "flex_flow": null,
            "grid_area": null,
            "grid_auto_columns": null,
            "grid_auto_flow": null,
            "grid_auto_rows": null,
            "grid_column": null,
            "grid_gap": null,
            "grid_row": null,
            "grid_template_areas": null,
            "grid_template_columns": null,
            "grid_template_rows": null,
            "height": null,
            "justify_content": null,
            "justify_items": null,
            "left": null,
            "margin": null,
            "max_height": null,
            "max_width": null,
            "min_height": null,
            "min_width": null,
            "object_fit": null,
            "object_position": null,
            "order": null,
            "overflow": null,
            "overflow_x": null,
            "overflow_y": null,
            "padding": null,
            "right": null,
            "top": null,
            "visibility": null,
            "width": null
          }
        },
        "23d68494bd664971b360b364fe812997": {
          "model_module": "@jupyter-widgets/controls",
          "model_name": "DescriptionStyleModel",
          "model_module_version": "1.5.0",
          "state": {
            "_model_module": "@jupyter-widgets/controls",
            "_model_module_version": "1.5.0",
            "_model_name": "DescriptionStyleModel",
            "_view_count": null,
            "_view_module": "@jupyter-widgets/base",
            "_view_module_version": "1.2.0",
            "_view_name": "StyleView",
            "description_width": ""
          }
        },
        "41020980a5c94995b006a8f825cf3d0e": {
          "model_module": "@jupyter-widgets/base",
          "model_name": "LayoutModel",
          "model_module_version": "1.2.0",
          "state": {
            "_model_module": "@jupyter-widgets/base",
            "_model_module_version": "1.2.0",
            "_model_name": "LayoutModel",
            "_view_count": null,
            "_view_module": "@jupyter-widgets/base",
            "_view_module_version": "1.2.0",
            "_view_name": "LayoutView",
            "align_content": null,
            "align_items": null,
            "align_self": null,
            "border": null,
            "bottom": null,
            "display": null,
            "flex": null,
            "flex_flow": null,
            "grid_area": null,
            "grid_auto_columns": null,
            "grid_auto_flow": null,
            "grid_auto_rows": null,
            "grid_column": null,
            "grid_gap": null,
            "grid_row": null,
            "grid_template_areas": null,
            "grid_template_columns": null,
            "grid_template_rows": null,
            "height": null,
            "justify_content": null,
            "justify_items": null,
            "left": null,
            "margin": null,
            "max_height": null,
            "max_width": null,
            "min_height": null,
            "min_width": null,
            "object_fit": null,
            "object_position": null,
            "order": null,
            "overflow": null,
            "overflow_x": null,
            "overflow_y": null,
            "padding": null,
            "right": null,
            "top": null,
            "visibility": null,
            "width": null
          }
        },
        "82bf802a461f41119f050b5fb0357a0e": {
          "model_module": "@jupyter-widgets/controls",
          "model_name": "ProgressStyleModel",
          "model_module_version": "1.5.0",
          "state": {
            "_model_module": "@jupyter-widgets/controls",
            "_model_module_version": "1.5.0",
            "_model_name": "ProgressStyleModel",
            "_view_count": null,
            "_view_module": "@jupyter-widgets/base",
            "_view_module_version": "1.2.0",
            "_view_name": "StyleView",
            "bar_color": null,
            "description_width": ""
          }
        },
        "39f28a0785c14793aa2c7aa45992edf1": {
          "model_module": "@jupyter-widgets/base",
          "model_name": "LayoutModel",
          "model_module_version": "1.2.0",
          "state": {
            "_model_module": "@jupyter-widgets/base",
            "_model_module_version": "1.2.0",
            "_model_name": "LayoutModel",
            "_view_count": null,
            "_view_module": "@jupyter-widgets/base",
            "_view_module_version": "1.2.0",
            "_view_name": "LayoutView",
            "align_content": null,
            "align_items": null,
            "align_self": null,
            "border": null,
            "bottom": null,
            "display": null,
            "flex": null,
            "flex_flow": null,
            "grid_area": null,
            "grid_auto_columns": null,
            "grid_auto_flow": null,
            "grid_auto_rows": null,
            "grid_column": null,
            "grid_gap": null,
            "grid_row": null,
            "grid_template_areas": null,
            "grid_template_columns": null,
            "grid_template_rows": null,
            "height": null,
            "justify_content": null,
            "justify_items": null,
            "left": null,
            "margin": null,
            "max_height": null,
            "max_width": null,
            "min_height": null,
            "min_width": null,
            "object_fit": null,
            "object_position": null,
            "order": null,
            "overflow": null,
            "overflow_x": null,
            "overflow_y": null,
            "padding": null,
            "right": null,
            "top": null,
            "visibility": null,
            "width": null
          }
        },
        "ee7afe8bcfeb41c7ada52984be1b6e64": {
          "model_module": "@jupyter-widgets/controls",
          "model_name": "DescriptionStyleModel",
          "model_module_version": "1.5.0",
          "state": {
            "_model_module": "@jupyter-widgets/controls",
            "_model_module_version": "1.5.0",
            "_model_name": "DescriptionStyleModel",
            "_view_count": null,
            "_view_module": "@jupyter-widgets/base",
            "_view_module_version": "1.2.0",
            "_view_name": "StyleView",
            "description_width": ""
          }
        },
        "6c7796eb28e946688f40ea193654df8f": {
          "model_module": "@jupyter-widgets/controls",
          "model_name": "HBoxModel",
          "model_module_version": "1.5.0",
          "state": {
            "_dom_classes": [],
            "_model_module": "@jupyter-widgets/controls",
            "_model_module_version": "1.5.0",
            "_model_name": "HBoxModel",
            "_view_count": null,
            "_view_module": "@jupyter-widgets/controls",
            "_view_module_version": "1.5.0",
            "_view_name": "HBoxView",
            "box_style": "",
            "children": [
              "IPY_MODEL_e5778e3eac42488881faf64a74a52d54",
              "IPY_MODEL_3ab07a4013a74c338cef64d9439a3b0d",
              "IPY_MODEL_eec628cc045c4a5d9e52f950725678a8"
            ],
            "layout": "IPY_MODEL_397f3896a7b34f01bcb3f3493a49859c"
          }
        },
        "e5778e3eac42488881faf64a74a52d54": {
          "model_module": "@jupyter-widgets/controls",
          "model_name": "HTMLModel",
          "model_module_version": "1.5.0",
          "state": {
            "_dom_classes": [],
            "_model_module": "@jupyter-widgets/controls",
            "_model_module_version": "1.5.0",
            "_model_name": "HTMLModel",
            "_view_count": null,
            "_view_module": "@jupyter-widgets/controls",
            "_view_module_version": "1.5.0",
            "_view_name": "HTMLView",
            "description": "",
            "description_tooltip": null,
            "layout": "IPY_MODEL_27576ccb62d1405d96db39aefd913468",
            "placeholder": "​",
            "style": "IPY_MODEL_8ccf77c7390f405ba4a9681baa9fa6bf",
            "value": "vocab.txt: 100%"
          }
        },
        "3ab07a4013a74c338cef64d9439a3b0d": {
          "model_module": "@jupyter-widgets/controls",
          "model_name": "FloatProgressModel",
          "model_module_version": "1.5.0",
          "state": {
            "_dom_classes": [],
            "_model_module": "@jupyter-widgets/controls",
            "_model_module_version": "1.5.0",
            "_model_name": "FloatProgressModel",
            "_view_count": null,
            "_view_module": "@jupyter-widgets/controls",
            "_view_module_version": "1.5.0",
            "_view_name": "ProgressView",
            "bar_style": "success",
            "description": "",
            "description_tooltip": null,
            "layout": "IPY_MODEL_c9413334720547039a104ad9a99e317c",
            "max": 231508,
            "min": 0,
            "orientation": "horizontal",
            "style": "IPY_MODEL_7e9e66aa548f4461befce7af87b40d13",
            "value": 231508
          }
        },
        "eec628cc045c4a5d9e52f950725678a8": {
          "model_module": "@jupyter-widgets/controls",
          "model_name": "HTMLModel",
          "model_module_version": "1.5.0",
          "state": {
            "_dom_classes": [],
            "_model_module": "@jupyter-widgets/controls",
            "_model_module_version": "1.5.0",
            "_model_name": "HTMLModel",
            "_view_count": null,
            "_view_module": "@jupyter-widgets/controls",
            "_view_module_version": "1.5.0",
            "_view_name": "HTMLView",
            "description": "",
            "description_tooltip": null,
            "layout": "IPY_MODEL_b58f0bf2477043f8b96d97310d6ebd31",
            "placeholder": "​",
            "style": "IPY_MODEL_817820748aac480a8d4a33594de9afa6",
            "value": " 232k/232k [00:00&lt;00:00, 2.04MB/s]"
          }
        },
        "397f3896a7b34f01bcb3f3493a49859c": {
          "model_module": "@jupyter-widgets/base",
          "model_name": "LayoutModel",
          "model_module_version": "1.2.0",
          "state": {
            "_model_module": "@jupyter-widgets/base",
            "_model_module_version": "1.2.0",
            "_model_name": "LayoutModel",
            "_view_count": null,
            "_view_module": "@jupyter-widgets/base",
            "_view_module_version": "1.2.0",
            "_view_name": "LayoutView",
            "align_content": null,
            "align_items": null,
            "align_self": null,
            "border": null,
            "bottom": null,
            "display": null,
            "flex": null,
            "flex_flow": null,
            "grid_area": null,
            "grid_auto_columns": null,
            "grid_auto_flow": null,
            "grid_auto_rows": null,
            "grid_column": null,
            "grid_gap": null,
            "grid_row": null,
            "grid_template_areas": null,
            "grid_template_columns": null,
            "grid_template_rows": null,
            "height": null,
            "justify_content": null,
            "justify_items": null,
            "left": null,
            "margin": null,
            "max_height": null,
            "max_width": null,
            "min_height": null,
            "min_width": null,
            "object_fit": null,
            "object_position": null,
            "order": null,
            "overflow": null,
            "overflow_x": null,
            "overflow_y": null,
            "padding": null,
            "right": null,
            "top": null,
            "visibility": null,
            "width": null
          }
        },
        "27576ccb62d1405d96db39aefd913468": {
          "model_module": "@jupyter-widgets/base",
          "model_name": "LayoutModel",
          "model_module_version": "1.2.0",
          "state": {
            "_model_module": "@jupyter-widgets/base",
            "_model_module_version": "1.2.0",
            "_model_name": "LayoutModel",
            "_view_count": null,
            "_view_module": "@jupyter-widgets/base",
            "_view_module_version": "1.2.0",
            "_view_name": "LayoutView",
            "align_content": null,
            "align_items": null,
            "align_self": null,
            "border": null,
            "bottom": null,
            "display": null,
            "flex": null,
            "flex_flow": null,
            "grid_area": null,
            "grid_auto_columns": null,
            "grid_auto_flow": null,
            "grid_auto_rows": null,
            "grid_column": null,
            "grid_gap": null,
            "grid_row": null,
            "grid_template_areas": null,
            "grid_template_columns": null,
            "grid_template_rows": null,
            "height": null,
            "justify_content": null,
            "justify_items": null,
            "left": null,
            "margin": null,
            "max_height": null,
            "max_width": null,
            "min_height": null,
            "min_width": null,
            "object_fit": null,
            "object_position": null,
            "order": null,
            "overflow": null,
            "overflow_x": null,
            "overflow_y": null,
            "padding": null,
            "right": null,
            "top": null,
            "visibility": null,
            "width": null
          }
        },
        "8ccf77c7390f405ba4a9681baa9fa6bf": {
          "model_module": "@jupyter-widgets/controls",
          "model_name": "DescriptionStyleModel",
          "model_module_version": "1.5.0",
          "state": {
            "_model_module": "@jupyter-widgets/controls",
            "_model_module_version": "1.5.0",
            "_model_name": "DescriptionStyleModel",
            "_view_count": null,
            "_view_module": "@jupyter-widgets/base",
            "_view_module_version": "1.2.0",
            "_view_name": "StyleView",
            "description_width": ""
          }
        },
        "c9413334720547039a104ad9a99e317c": {
          "model_module": "@jupyter-widgets/base",
          "model_name": "LayoutModel",
          "model_module_version": "1.2.0",
          "state": {
            "_model_module": "@jupyter-widgets/base",
            "_model_module_version": "1.2.0",
            "_model_name": "LayoutModel",
            "_view_count": null,
            "_view_module": "@jupyter-widgets/base",
            "_view_module_version": "1.2.0",
            "_view_name": "LayoutView",
            "align_content": null,
            "align_items": null,
            "align_self": null,
            "border": null,
            "bottom": null,
            "display": null,
            "flex": null,
            "flex_flow": null,
            "grid_area": null,
            "grid_auto_columns": null,
            "grid_auto_flow": null,
            "grid_auto_rows": null,
            "grid_column": null,
            "grid_gap": null,
            "grid_row": null,
            "grid_template_areas": null,
            "grid_template_columns": null,
            "grid_template_rows": null,
            "height": null,
            "justify_content": null,
            "justify_items": null,
            "left": null,
            "margin": null,
            "max_height": null,
            "max_width": null,
            "min_height": null,
            "min_width": null,
            "object_fit": null,
            "object_position": null,
            "order": null,
            "overflow": null,
            "overflow_x": null,
            "overflow_y": null,
            "padding": null,
            "right": null,
            "top": null,
            "visibility": null,
            "width": null
          }
        },
        "7e9e66aa548f4461befce7af87b40d13": {
          "model_module": "@jupyter-widgets/controls",
          "model_name": "ProgressStyleModel",
          "model_module_version": "1.5.0",
          "state": {
            "_model_module": "@jupyter-widgets/controls",
            "_model_module_version": "1.5.0",
            "_model_name": "ProgressStyleModel",
            "_view_count": null,
            "_view_module": "@jupyter-widgets/base",
            "_view_module_version": "1.2.0",
            "_view_name": "StyleView",
            "bar_color": null,
            "description_width": ""
          }
        },
        "b58f0bf2477043f8b96d97310d6ebd31": {
          "model_module": "@jupyter-widgets/base",
          "model_name": "LayoutModel",
          "model_module_version": "1.2.0",
          "state": {
            "_model_module": "@jupyter-widgets/base",
            "_model_module_version": "1.2.0",
            "_model_name": "LayoutModel",
            "_view_count": null,
            "_view_module": "@jupyter-widgets/base",
            "_view_module_version": "1.2.0",
            "_view_name": "LayoutView",
            "align_content": null,
            "align_items": null,
            "align_self": null,
            "border": null,
            "bottom": null,
            "display": null,
            "flex": null,
            "flex_flow": null,
            "grid_area": null,
            "grid_auto_columns": null,
            "grid_auto_flow": null,
            "grid_auto_rows": null,
            "grid_column": null,
            "grid_gap": null,
            "grid_row": null,
            "grid_template_areas": null,
            "grid_template_columns": null,
            "grid_template_rows": null,
            "height": null,
            "justify_content": null,
            "justify_items": null,
            "left": null,
            "margin": null,
            "max_height": null,
            "max_width": null,
            "min_height": null,
            "min_width": null,
            "object_fit": null,
            "object_position": null,
            "order": null,
            "overflow": null,
            "overflow_x": null,
            "overflow_y": null,
            "padding": null,
            "right": null,
            "top": null,
            "visibility": null,
            "width": null
          }
        },
        "817820748aac480a8d4a33594de9afa6": {
          "model_module": "@jupyter-widgets/controls",
          "model_name": "DescriptionStyleModel",
          "model_module_version": "1.5.0",
          "state": {
            "_model_module": "@jupyter-widgets/controls",
            "_model_module_version": "1.5.0",
            "_model_name": "DescriptionStyleModel",
            "_view_count": null,
            "_view_module": "@jupyter-widgets/base",
            "_view_module_version": "1.2.0",
            "_view_name": "StyleView",
            "description_width": ""
          }
        },
        "a026306d171c47b8b1aa068d115d6627": {
          "model_module": "@jupyter-widgets/controls",
          "model_name": "HBoxModel",
          "model_module_version": "1.5.0",
          "state": {
            "_dom_classes": [],
            "_model_module": "@jupyter-widgets/controls",
            "_model_module_version": "1.5.0",
            "_model_name": "HBoxModel",
            "_view_count": null,
            "_view_module": "@jupyter-widgets/controls",
            "_view_module_version": "1.5.0",
            "_view_name": "HBoxView",
            "box_style": "",
            "children": [
              "IPY_MODEL_1cbcf9ef87824e259dc9606c5455721a",
              "IPY_MODEL_30363b86e2c84a1493cf7a74ee82f049",
              "IPY_MODEL_51e51d2bfae34536a8c5a394acd4c4ee"
            ],
            "layout": "IPY_MODEL_d0042151f5b44304a7505d5a2f6385be"
          }
        },
        "1cbcf9ef87824e259dc9606c5455721a": {
          "model_module": "@jupyter-widgets/controls",
          "model_name": "HTMLModel",
          "model_module_version": "1.5.0",
          "state": {
            "_dom_classes": [],
            "_model_module": "@jupyter-widgets/controls",
            "_model_module_version": "1.5.0",
            "_model_name": "HTMLModel",
            "_view_count": null,
            "_view_module": "@jupyter-widgets/controls",
            "_view_module_version": "1.5.0",
            "_view_name": "HTMLView",
            "description": "",
            "description_tooltip": null,
            "layout": "IPY_MODEL_6cf7985a0dc949a289f000e58969c3a4",
            "placeholder": "​",
            "style": "IPY_MODEL_f9885cbe6bac41e7b816ac2a4d29bb8d",
            "value": "special_tokens_map.json: 100%"
          }
        },
        "30363b86e2c84a1493cf7a74ee82f049": {
          "model_module": "@jupyter-widgets/controls",
          "model_name": "FloatProgressModel",
          "model_module_version": "1.5.0",
          "state": {
            "_dom_classes": [],
            "_model_module": "@jupyter-widgets/controls",
            "_model_module_version": "1.5.0",
            "_model_name": "FloatProgressModel",
            "_view_count": null,
            "_view_module": "@jupyter-widgets/controls",
            "_view_module_version": "1.5.0",
            "_view_name": "ProgressView",
            "bar_style": "success",
            "description": "",
            "description_tooltip": null,
            "layout": "IPY_MODEL_6ddf8860f89f485f874cd9bd15e5fae4",
            "max": 112,
            "min": 0,
            "orientation": "horizontal",
            "style": "IPY_MODEL_61cbe2270ab94cf8a13e35108a87d38b",
            "value": 112
          }
        },
        "51e51d2bfae34536a8c5a394acd4c4ee": {
          "model_module": "@jupyter-widgets/controls",
          "model_name": "HTMLModel",
          "model_module_version": "1.5.0",
          "state": {
            "_dom_classes": [],
            "_model_module": "@jupyter-widgets/controls",
            "_model_module_version": "1.5.0",
            "_model_name": "HTMLModel",
            "_view_count": null,
            "_view_module": "@jupyter-widgets/controls",
            "_view_module_version": "1.5.0",
            "_view_name": "HTMLView",
            "description": "",
            "description_tooltip": null,
            "layout": "IPY_MODEL_e6a7691182564d7dbc235981de0d9d52",
            "placeholder": "​",
            "style": "IPY_MODEL_72d98d22b4ad4463989818ecf65e2690",
            "value": " 112/112 [00:00&lt;00:00, 6.80kB/s]"
          }
        },
        "d0042151f5b44304a7505d5a2f6385be": {
          "model_module": "@jupyter-widgets/base",
          "model_name": "LayoutModel",
          "model_module_version": "1.2.0",
          "state": {
            "_model_module": "@jupyter-widgets/base",
            "_model_module_version": "1.2.0",
            "_model_name": "LayoutModel",
            "_view_count": null,
            "_view_module": "@jupyter-widgets/base",
            "_view_module_version": "1.2.0",
            "_view_name": "LayoutView",
            "align_content": null,
            "align_items": null,
            "align_self": null,
            "border": null,
            "bottom": null,
            "display": null,
            "flex": null,
            "flex_flow": null,
            "grid_area": null,
            "grid_auto_columns": null,
            "grid_auto_flow": null,
            "grid_auto_rows": null,
            "grid_column": null,
            "grid_gap": null,
            "grid_row": null,
            "grid_template_areas": null,
            "grid_template_columns": null,
            "grid_template_rows": null,
            "height": null,
            "justify_content": null,
            "justify_items": null,
            "left": null,
            "margin": null,
            "max_height": null,
            "max_width": null,
            "min_height": null,
            "min_width": null,
            "object_fit": null,
            "object_position": null,
            "order": null,
            "overflow": null,
            "overflow_x": null,
            "overflow_y": null,
            "padding": null,
            "right": null,
            "top": null,
            "visibility": null,
            "width": null
          }
        },
        "6cf7985a0dc949a289f000e58969c3a4": {
          "model_module": "@jupyter-widgets/base",
          "model_name": "LayoutModel",
          "model_module_version": "1.2.0",
          "state": {
            "_model_module": "@jupyter-widgets/base",
            "_model_module_version": "1.2.0",
            "_model_name": "LayoutModel",
            "_view_count": null,
            "_view_module": "@jupyter-widgets/base",
            "_view_module_version": "1.2.0",
            "_view_name": "LayoutView",
            "align_content": null,
            "align_items": null,
            "align_self": null,
            "border": null,
            "bottom": null,
            "display": null,
            "flex": null,
            "flex_flow": null,
            "grid_area": null,
            "grid_auto_columns": null,
            "grid_auto_flow": null,
            "grid_auto_rows": null,
            "grid_column": null,
            "grid_gap": null,
            "grid_row": null,
            "grid_template_areas": null,
            "grid_template_columns": null,
            "grid_template_rows": null,
            "height": null,
            "justify_content": null,
            "justify_items": null,
            "left": null,
            "margin": null,
            "max_height": null,
            "max_width": null,
            "min_height": null,
            "min_width": null,
            "object_fit": null,
            "object_position": null,
            "order": null,
            "overflow": null,
            "overflow_x": null,
            "overflow_y": null,
            "padding": null,
            "right": null,
            "top": null,
            "visibility": null,
            "width": null
          }
        },
        "f9885cbe6bac41e7b816ac2a4d29bb8d": {
          "model_module": "@jupyter-widgets/controls",
          "model_name": "DescriptionStyleModel",
          "model_module_version": "1.5.0",
          "state": {
            "_model_module": "@jupyter-widgets/controls",
            "_model_module_version": "1.5.0",
            "_model_name": "DescriptionStyleModel",
            "_view_count": null,
            "_view_module": "@jupyter-widgets/base",
            "_view_module_version": "1.2.0",
            "_view_name": "StyleView",
            "description_width": ""
          }
        },
        "6ddf8860f89f485f874cd9bd15e5fae4": {
          "model_module": "@jupyter-widgets/base",
          "model_name": "LayoutModel",
          "model_module_version": "1.2.0",
          "state": {
            "_model_module": "@jupyter-widgets/base",
            "_model_module_version": "1.2.0",
            "_model_name": "LayoutModel",
            "_view_count": null,
            "_view_module": "@jupyter-widgets/base",
            "_view_module_version": "1.2.0",
            "_view_name": "LayoutView",
            "align_content": null,
            "align_items": null,
            "align_self": null,
            "border": null,
            "bottom": null,
            "display": null,
            "flex": null,
            "flex_flow": null,
            "grid_area": null,
            "grid_auto_columns": null,
            "grid_auto_flow": null,
            "grid_auto_rows": null,
            "grid_column": null,
            "grid_gap": null,
            "grid_row": null,
            "grid_template_areas": null,
            "grid_template_columns": null,
            "grid_template_rows": null,
            "height": null,
            "justify_content": null,
            "justify_items": null,
            "left": null,
            "margin": null,
            "max_height": null,
            "max_width": null,
            "min_height": null,
            "min_width": null,
            "object_fit": null,
            "object_position": null,
            "order": null,
            "overflow": null,
            "overflow_x": null,
            "overflow_y": null,
            "padding": null,
            "right": null,
            "top": null,
            "visibility": null,
            "width": null
          }
        },
        "61cbe2270ab94cf8a13e35108a87d38b": {
          "model_module": "@jupyter-widgets/controls",
          "model_name": "ProgressStyleModel",
          "model_module_version": "1.5.0",
          "state": {
            "_model_module": "@jupyter-widgets/controls",
            "_model_module_version": "1.5.0",
            "_model_name": "ProgressStyleModel",
            "_view_count": null,
            "_view_module": "@jupyter-widgets/base",
            "_view_module_version": "1.2.0",
            "_view_name": "StyleView",
            "bar_color": null,
            "description_width": ""
          }
        },
        "e6a7691182564d7dbc235981de0d9d52": {
          "model_module": "@jupyter-widgets/base",
          "model_name": "LayoutModel",
          "model_module_version": "1.2.0",
          "state": {
            "_model_module": "@jupyter-widgets/base",
            "_model_module_version": "1.2.0",
            "_model_name": "LayoutModel",
            "_view_count": null,
            "_view_module": "@jupyter-widgets/base",
            "_view_module_version": "1.2.0",
            "_view_name": "LayoutView",
            "align_content": null,
            "align_items": null,
            "align_self": null,
            "border": null,
            "bottom": null,
            "display": null,
            "flex": null,
            "flex_flow": null,
            "grid_area": null,
            "grid_auto_columns": null,
            "grid_auto_flow": null,
            "grid_auto_rows": null,
            "grid_column": null,
            "grid_gap": null,
            "grid_row": null,
            "grid_template_areas": null,
            "grid_template_columns": null,
            "grid_template_rows": null,
            "height": null,
            "justify_content": null,
            "justify_items": null,
            "left": null,
            "margin": null,
            "max_height": null,
            "max_width": null,
            "min_height": null,
            "min_width": null,
            "object_fit": null,
            "object_position": null,
            "order": null,
            "overflow": null,
            "overflow_x": null,
            "overflow_y": null,
            "padding": null,
            "right": null,
            "top": null,
            "visibility": null,
            "width": null
          }
        },
        "72d98d22b4ad4463989818ecf65e2690": {
          "model_module": "@jupyter-widgets/controls",
          "model_name": "DescriptionStyleModel",
          "model_module_version": "1.5.0",
          "state": {
            "_model_module": "@jupyter-widgets/controls",
            "_model_module_version": "1.5.0",
            "_model_name": "DescriptionStyleModel",
            "_view_count": null,
            "_view_module": "@jupyter-widgets/base",
            "_view_module_version": "1.2.0",
            "_view_name": "StyleView",
            "description_width": ""
          }
        }
      }
    }
  },
  "cells": [
    {
      "cell_type": "markdown",
      "source": [
        "# **POS Tagging**"
      ],
      "metadata": {
        "id": "61SOjSjEm0Rp"
      }
    },
    {
      "cell_type": "code",
      "execution_count": null,
      "metadata": {
        "id": "gPuRINvEiNDK"
      },
      "outputs": [],
      "source": [
        "import spacy"
      ]
    },
    {
      "cell_type": "code",
      "source": [
        "nlp  = spacy.load(\"en_core_web_sm\")   #english core web sm, its predefined pipeline, POS and other tasks are integrated"
      ],
      "metadata": {
        "id": "pog_Wg79iXPs"
      },
      "execution_count": null,
      "outputs": []
    },
    {
      "cell_type": "code",
      "source": [
        "text = \"Bill gates founded Microsoft.\""
      ],
      "metadata": {
        "id": "7YRdPmALiqgN"
      },
      "execution_count": null,
      "outputs": []
    },
    {
      "cell_type": "code",
      "source": [
        "doc = nlp(text) # this prepares our data in the required format to be passed in the pipleine"
      ],
      "metadata": {
        "id": "2P_OuUQ2k3NB"
      },
      "execution_count": null,
      "outputs": []
    },
    {
      "cell_type": "code",
      "source": [
        "doc[0].pos_"
      ],
      "metadata": {
        "colab": {
          "base_uri": "https://localhost:8080/",
          "height": 35
        },
        "id": "NuW9AxYwk58b",
        "outputId": "dbed8db0-e891-4df1-9960-de250f1b4912"
      },
      "execution_count": null,
      "outputs": [
        {
          "output_type": "execute_result",
          "data": {
            "text/plain": [
              "'PROPN'"
            ],
            "application/vnd.google.colaboratory.intrinsic+json": {
              "type": "string"
            }
          },
          "metadata": {},
          "execution_count": 7
        }
      ]
    },
    {
      "cell_type": "code",
      "source": [
        "spacy.explain('PROPN') # there are more than 8 POS available in in this pipeline. around 27"
      ],
      "metadata": {
        "colab": {
          "base_uri": "https://localhost:8080/",
          "height": 35
        },
        "id": "x7z_XkqHlQzH",
        "outputId": "006830b6-39d3-4fee-8516-e8d938f210d5"
      },
      "execution_count": null,
      "outputs": [
        {
          "output_type": "execute_result",
          "data": {
            "text/plain": [
              "'proper noun'"
            ],
            "application/vnd.google.colaboratory.intrinsic+json": {
              "type": "string"
            }
          },
          "metadata": {},
          "execution_count": 8
        }
      ]
    },
    {
      "cell_type": "code",
      "source": [
        "# to see all the POS in our sentence\n",
        "for token in doc:\n",
        "    print(token, '=>',token.pos_, '=>',spacy.explain(token.pos_))"
      ],
      "metadata": {
        "colab": {
          "base_uri": "https://localhost:8080/"
        },
        "id": "ViP7OOc0lcnS",
        "outputId": "1e9061ed-2114-41c4-e2c7-cd4eb7b909f3"
      },
      "execution_count": null,
      "outputs": [
        {
          "output_type": "stream",
          "name": "stdout",
          "text": [
            "Bill => PROPN => proper noun\n",
            "gates => NOUN => noun\n",
            "founded => VERB => verb\n",
            "Microsoft => PROPN => proper noun\n",
            ". => PUNCT => punctuation\n"
          ]
        }
      ]
    },
    {
      "cell_type": "code",
      "source": [
        "# to see all the types of POS\n",
        "nlp.get_pipe(\"tagger\").labels"
      ],
      "metadata": {
        "colab": {
          "base_uri": "https://localhost:8080/"
        },
        "id": "-8ClRB1IleJW",
        "outputId": "dbc623c9-d1d9-4ac5-80eb-1c991532cf7d"
      },
      "execution_count": null,
      "outputs": [
        {
          "output_type": "execute_result",
          "data": {
            "text/plain": [
              "('$',\n",
              " \"''\",\n",
              " ',',\n",
              " '-LRB-',\n",
              " '-RRB-',\n",
              " '.',\n",
              " ':',\n",
              " 'ADD',\n",
              " 'AFX',\n",
              " 'CC',\n",
              " 'CD',\n",
              " 'DT',\n",
              " 'EX',\n",
              " 'FW',\n",
              " 'HYPH',\n",
              " 'IN',\n",
              " 'JJ',\n",
              " 'JJR',\n",
              " 'JJS',\n",
              " 'LS',\n",
              " 'MD',\n",
              " 'NFP',\n",
              " 'NN',\n",
              " 'NNP',\n",
              " 'NNPS',\n",
              " 'NNS',\n",
              " 'PDT',\n",
              " 'POS',\n",
              " 'PRP',\n",
              " 'PRP$',\n",
              " 'RB',\n",
              " 'RBR',\n",
              " 'RBS',\n",
              " 'RP',\n",
              " 'SYM',\n",
              " 'TO',\n",
              " 'UH',\n",
              " 'VB',\n",
              " 'VBD',\n",
              " 'VBG',\n",
              " 'VBN',\n",
              " 'VBP',\n",
              " 'VBZ',\n",
              " 'WDT',\n",
              " 'WP',\n",
              " 'WP$',\n",
              " 'WRB',\n",
              " 'XX',\n",
              " '_SP',\n",
              " '``')"
            ]
          },
          "metadata": {},
          "execution_count": 12
        }
      ]
    },
    {
      "cell_type": "code",
      "source": [
        "type(nlp.get_pipe(\"tagger\").labels) # applying for loop in tuple"
      ],
      "metadata": {
        "colab": {
          "base_uri": "https://localhost:8080/"
        },
        "id": "PxH-NBMAmH1t",
        "outputId": "91a69950-03ff-40e4-9902-71647ccef9df"
      },
      "execution_count": null,
      "outputs": [
        {
          "output_type": "execute_result",
          "data": {
            "text/plain": [
              "tuple"
            ]
          },
          "metadata": {},
          "execution_count": 14
        }
      ]
    },
    {
      "cell_type": "code",
      "source": [
        "# to know what are all these POS tags\n",
        "for tag in nlp.get_pipe(\"tagger\").labels:\n",
        "    print(tag, '=>',spacy.explain(tag))"
      ],
      "metadata": {
        "colab": {
          "base_uri": "https://localhost:8080/"
        },
        "id": "g9VJA9eol7yO",
        "outputId": "389aac3a-8684-4ea5-9dce-9722d5e36af6"
      },
      "execution_count": null,
      "outputs": [
        {
          "output_type": "stream",
          "name": "stdout",
          "text": [
            "$ => symbol, currency\n",
            "'' => closing quotation mark\n",
            ", => punctuation mark, comma\n",
            "-LRB- => left round bracket\n",
            "-RRB- => right round bracket\n",
            ". => punctuation mark, sentence closer\n",
            ": => punctuation mark, colon or ellipsis\n",
            "ADD => email\n",
            "AFX => affix\n",
            "CC => conjunction, coordinating\n",
            "CD => cardinal number\n",
            "DT => determiner\n",
            "EX => existential there\n",
            "FW => foreign word\n",
            "HYPH => punctuation mark, hyphen\n",
            "IN => conjunction, subordinating or preposition\n",
            "JJ => adjective (English), other noun-modifier (Chinese)\n",
            "JJR => adjective, comparative\n",
            "JJS => adjective, superlative\n",
            "LS => list item marker\n",
            "MD => verb, modal auxiliary\n",
            "NFP => superfluous punctuation\n",
            "NN => noun, singular or mass\n",
            "NNP => noun, proper singular\n",
            "NNPS => noun, proper plural\n",
            "NNS => noun, plural\n",
            "PDT => predeterminer\n",
            "POS => possessive ending\n",
            "PRP => pronoun, personal\n",
            "PRP$ => pronoun, possessive\n",
            "RB => adverb\n",
            "RBR => adverb, comparative\n",
            "RBS => adverb, superlative\n",
            "RP => adverb, particle\n",
            "SYM => symbol\n",
            "TO => infinitival \"to\"\n",
            "UH => interjection\n",
            "VB => verb, base form\n",
            "VBD => verb, past tense\n",
            "VBG => verb, gerund or present participle\n",
            "VBN => verb, past participle\n",
            "VBP => verb, non-3rd person singular present\n",
            "VBZ => verb, 3rd person singular present\n",
            "WDT => wh-determiner\n",
            "WP => wh-pronoun, personal\n",
            "WP$ => wh-pronoun, possessive\n",
            "WRB => wh-adverb\n",
            "XX => unknown\n",
            "_SP => whitespace\n",
            "`` => opening quotation mark\n"
          ]
        }
      ]
    },
    {
      "cell_type": "code",
      "source": [
        "text = \"$1 billion is the price for something\"\n",
        "doc = nlp(text)\n",
        "for token in doc:\n",
        "    print(token, '=>',token.pos_, '=>',spacy.explain(token.pos_))"
      ],
      "metadata": {
        "colab": {
          "base_uri": "https://localhost:8080/"
        },
        "id": "3cx1Ad0omWiH",
        "outputId": "f5f943d3-42cd-476f-b22b-2b78cf6bc614"
      },
      "execution_count": null,
      "outputs": [
        {
          "output_type": "stream",
          "name": "stdout",
          "text": [
            "$ => SYM => symbol\n",
            "1 => NUM => numeral\n",
            "billion => NUM => numeral\n",
            "is => AUX => auxiliary\n",
            "the => DET => determiner\n",
            "price => NOUN => noun\n",
            "for => ADP => adposition\n",
            "something => PRON => pronoun\n"
          ]
        }
      ]
    },
    {
      "cell_type": "code",
      "source": [
        "#evaluation metrics\n",
        "'''since its an token classification task, clasification metrics are used\n",
        "  accuracy, precision, recall , confusion metrics,f1'''"
      ],
      "metadata": {
        "colab": {
          "base_uri": "https://localhost:8080/",
          "height": 35
        },
        "id": "kxMW4VbEnBp4",
        "outputId": "e72955bc-e66c-4fe1-de20-6ee5d8ba89c0"
      },
      "execution_count": null,
      "outputs": [
        {
          "output_type": "execute_result",
          "data": {
            "text/plain": [
              "'since its an token classification task, clasification metrics are used\\n  accuracy, precision, recall , confusion metrics,f1'"
            ],
            "application/vnd.google.colaboratory.intrinsic+json": {
              "type": "string"
            }
          },
          "metadata": {},
          "execution_count": 19
        }
      ]
    },
    {
      "cell_type": "markdown",
      "source": [
        "# **Named Entity Recognition (NER)**"
      ],
      "metadata": {
        "id": "MEIeokHAqBtt"
      }
    },
    {
      "cell_type": "code",
      "source": [
        "text = \"Bill gates founded Microsoft\""
      ],
      "metadata": {
        "id": "e36Ay2GpqHYf"
      },
      "execution_count": null,
      "outputs": []
    },
    {
      "cell_type": "code",
      "source": [
        "# elon musk is ceo of tesla   >>> here tesla is name of a organisation\n",
        "\n",
        "# nikola tesla was a great inventor >> here tesla is the name of a person"
      ],
      "metadata": {
        "id": "PT5RSkGfqdqC"
      },
      "execution_count": null,
      "outputs": []
    },
    {
      "cell_type": "code",
      "source": [
        "# apple >> fruit\n",
        "# apple >> organisation"
      ],
      "metadata": {
        "id": "FGu5aybWqwmm"
      },
      "execution_count": null,
      "outputs": []
    },
    {
      "cell_type": "code",
      "source": [
        "import spacy\n",
        "\n",
        "ner = spacy.load(\"en_core_web_sm\") # same inbuilt pipeline is loaded"
      ],
      "metadata": {
        "id": "uFpw7U0Cq24u"
      },
      "execution_count": null,
      "outputs": []
    },
    {
      "cell_type": "code",
      "source": [
        "doc = ner(text)"
      ],
      "metadata": {
        "id": "0HmG1uNOrBnA"
      },
      "execution_count": null,
      "outputs": []
    },
    {
      "cell_type": "code",
      "source": [
        "doc[0]"
      ],
      "metadata": {
        "colab": {
          "base_uri": "https://localhost:8080/"
        },
        "id": "QWVac2iYrFAx",
        "outputId": "40d439b7-a640-4a61-b0a9-1064a3ed1767"
      },
      "execution_count": null,
      "outputs": [
        {
          "output_type": "execute_result",
          "data": {
            "text/plain": [
              "Bill"
            ]
          },
          "metadata": {},
          "execution_count": 24
        }
      ]
    },
    {
      "cell_type": "code",
      "source": [
        "doc[0].ents # this didnt worked becuase it work on spans not tokens, see below cells"
      ],
      "metadata": {
        "colab": {
          "base_uri": "https://localhost:8080/",
          "height": 141
        },
        "id": "_wuqDOtnr4q_",
        "outputId": "1fa8014b-c4e1-45ba-ea95-3b23f22389bd"
      },
      "execution_count": null,
      "outputs": [
        {
          "output_type": "error",
          "ename": "AttributeError",
          "evalue": "'spacy.tokens.token.Token' object has no attribute 'ents'",
          "traceback": [
            "\u001b[0;31m---------------------------------------------------------------------------\u001b[0m",
            "\u001b[0;31mAttributeError\u001b[0m                            Traceback (most recent call last)",
            "\u001b[0;32m<ipython-input-29-8bd9e8b65835>\u001b[0m in \u001b[0;36m<cell line: 0>\u001b[0;34m()\u001b[0m\n\u001b[0;32m----> 1\u001b[0;31m \u001b[0mdoc\u001b[0m\u001b[0;34m[\u001b[0m\u001b[0;36m0\u001b[0m\u001b[0;34m]\u001b[0m\u001b[0;34m.\u001b[0m\u001b[0ments\u001b[0m\u001b[0;34m\u001b[0m\u001b[0;34m\u001b[0m\u001b[0m\n\u001b[0m",
            "\u001b[0;31mAttributeError\u001b[0m: 'spacy.tokens.token.Token' object has no attribute 'ents'"
          ]
        }
      ]
    },
    {
      "cell_type": "code",
      "source": [
        "type(doc[0]) # type is token of spacy"
      ],
      "metadata": {
        "colab": {
          "base_uri": "https://localhost:8080/"
        },
        "id": "u0TW_LBMrIWC",
        "outputId": "7967001c-9b5a-40c9-f8b1-1adcdd0ab750"
      },
      "execution_count": null,
      "outputs": [
        {
          "output_type": "execute_result",
          "data": {
            "text/plain": [
              "spacy.tokens.token.Token"
            ]
          },
          "metadata": {},
          "execution_count": 25
        }
      ]
    },
    {
      "cell_type": "code",
      "source": [
        "type(doc[0:3]) #here type is span, means, if we are taking more than one token at a time, than type becomes span"
      ],
      "metadata": {
        "colab": {
          "base_uri": "https://localhost:8080/"
        },
        "id": "NvcDkOoGrVTa",
        "outputId": "3d68dc62-7e16-44f6-ac7c-8c569b4f37e3"
      },
      "execution_count": null,
      "outputs": [
        {
          "output_type": "execute_result",
          "data": {
            "text/plain": [
              "spacy.tokens.span.Span"
            ]
          },
          "metadata": {},
          "execution_count": 26
        }
      ]
    },
    {
      "cell_type": "code",
      "source": [
        "doc.ents"
      ],
      "metadata": {
        "colab": {
          "base_uri": "https://localhost:8080/"
        },
        "id": "Jgr_im5YrvOG",
        "outputId": "d13ffdb6-62f2-48ae-a6b1-261f99a018db"
      },
      "execution_count": null,
      "outputs": [
        {
          "output_type": "execute_result",
          "data": {
            "text/plain": [
              "(Bill, Microsoft)"
            ]
          },
          "metadata": {},
          "execution_count": 28
        }
      ]
    },
    {
      "cell_type": "code",
      "source": [
        "doc.ents[0].label_"
      ],
      "metadata": {
        "colab": {
          "base_uri": "https://localhost:8080/",
          "height": 35
        },
        "id": "cjtUmfrervKp",
        "outputId": "f2a27015-00fe-48c9-ce77-1b8996cb49a2"
      },
      "execution_count": null,
      "outputs": [
        {
          "output_type": "execute_result",
          "data": {
            "text/plain": [
              "'PERSON'"
            ],
            "application/vnd.google.colaboratory.intrinsic+json": {
              "type": "string"
            }
          },
          "metadata": {},
          "execution_count": 32
        }
      ]
    },
    {
      "cell_type": "code",
      "source": [
        "doc.ents[1].label_"
      ],
      "metadata": {
        "colab": {
          "base_uri": "https://localhost:8080/",
          "height": 35
        },
        "id": "jgkJOFoEruv-",
        "outputId": "0a77cc7a-25dc-48c4-d17a-2a51224dda91"
      },
      "execution_count": null,
      "outputs": [
        {
          "output_type": "execute_result",
          "data": {
            "text/plain": [
              "'ORG'"
            ],
            "application/vnd.google.colaboratory.intrinsic+json": {
              "type": "string"
            }
          },
          "metadata": {},
          "execution_count": 33
        }
      ]
    },
    {
      "cell_type": "code",
      "source": [
        "# together in for loop\n",
        "for ent in doc.ents:\n",
        "    print(ent, '=>',ent.label_)  # we can clearly see that NER is establised here"
      ],
      "metadata": {
        "colab": {
          "base_uri": "https://localhost:8080/"
        },
        "id": "-R00gdJmsPb-",
        "outputId": "57cc4981-e816-45b3-9f58-d09d332e19c9"
      },
      "execution_count": null,
      "outputs": [
        {
          "output_type": "stream",
          "name": "stdout",
          "text": [
            "Bill => PERSON\n",
            "Microsoft => ORG\n"
          ]
        }
      ]
    },
    {
      "cell_type": "code",
      "source": [
        "# another method to display the same\n",
        "from spacy import displacy"
      ],
      "metadata": {
        "id": "tvi7y9QWsUYW"
      },
      "execution_count": null,
      "outputs": []
    },
    {
      "cell_type": "code",
      "source": [
        "displacy.render(doc.ents, style=\"ent\")"
      ],
      "metadata": {
        "id": "DDed7ZcOsrZy"
      },
      "execution_count": 28,
      "outputs": []
    },
    {
      "cell_type": "code",
      "source": [
        "displacy.render(doc.ents, style=\"ent\",jupyter=False) # here its in html format with jupyter = false"
      ],
      "metadata": {
        "colab": {
          "base_uri": "https://localhost:8080/",
          "height": 122
        },
        "id": "stnt_XHJs1Ok",
        "outputId": "595a0d61-8f39-41c7-c548-f8189871f962"
      },
      "execution_count": null,
      "outputs": [
        {
          "output_type": "execute_result",
          "data": {
            "text/plain": [
              "'<div class=\"entities\" style=\"line-height: 2.5; direction: ltr\">\\n<mark class=\"entity\" style=\"background: #aa9cfc; padding: 0.45em 0.6em; margin: 0 0.25em; line-height: 1; border-radius: 0.35em;\">\\n    Bill\\n    <span style=\"font-size: 0.8em; font-weight: bold; line-height: 1; border-radius: 0.35em; vertical-align: middle; margin-left: 0.5rem\">PERSON</span>\\n</mark>\\n </div>\\n\\n<div class=\"entities\" style=\"line-height: 2.5; direction: ltr\">\\n<mark class=\"entity\" style=\"background: #7aecec; padding: 0.45em 0.6em; margin: 0 0.25em; line-height: 1; border-radius: 0.35em;\">\\n    Microsoft\\n    <span style=\"font-size: 0.8em; font-weight: bold; line-height: 1; border-radius: 0.35em; vertical-align: middle; margin-left: 0.5rem\">ORG</span>\\n</mark>\\n</div>'"
            ],
            "application/vnd.google.colaboratory.intrinsic+json": {
              "type": "string"
            }
          },
          "metadata": {},
          "execution_count": 37
        }
      ]
    },
    {
      "cell_type": "code",
      "source": [
        "# to see all the entities which it is trained on\n",
        "ner.get_pipe('ner').labels"
      ],
      "metadata": {
        "colab": {
          "base_uri": "https://localhost:8080/"
        },
        "id": "Kuy9D6u0tFM7",
        "outputId": "fd4d0df5-d3b5-401e-d0e1-b3001a76f49f"
      },
      "execution_count": null,
      "outputs": [
        {
          "output_type": "execute_result",
          "data": {
            "text/plain": [
              "('CARDINAL',\n",
              " 'DATE',\n",
              " 'EVENT',\n",
              " 'FAC',\n",
              " 'GPE',\n",
              " 'LANGUAGE',\n",
              " 'LAW',\n",
              " 'LOC',\n",
              " 'MONEY',\n",
              " 'NORP',\n",
              " 'ORDINAL',\n",
              " 'ORG',\n",
              " 'PERCENT',\n",
              " 'PERSON',\n",
              " 'PRODUCT',\n",
              " 'QUANTITY',\n",
              " 'TIME',\n",
              " 'WORK_OF_ART')"
            ]
          },
          "metadata": {},
          "execution_count": 38
        }
      ]
    },
    {
      "cell_type": "code",
      "source": [
        "for ent in ner.get_pipe('ner').labels:\n",
        "  print(ent, '=>',spacy.explain(ent))"
      ],
      "metadata": {
        "colab": {
          "base_uri": "https://localhost:8080/"
        },
        "id": "ykl-y_vVtQbG",
        "outputId": "e99d0d78-07f3-4045-fd0d-5c41c8adedfd"
      },
      "execution_count": null,
      "outputs": [
        {
          "output_type": "stream",
          "name": "stdout",
          "text": [
            "CARDINAL => Numerals that do not fall under another type\n",
            "DATE => Absolute or relative dates or periods\n",
            "EVENT => Named hurricanes, battles, wars, sports events, etc.\n",
            "FAC => Buildings, airports, highways, bridges, etc.\n",
            "GPE => Countries, cities, states\n",
            "LANGUAGE => Any named language\n",
            "LAW => Named documents made into laws.\n",
            "LOC => Non-GPE locations, mountain ranges, bodies of water\n",
            "MONEY => Monetary values, including unit\n",
            "NORP => Nationalities or religious or political groups\n",
            "ORDINAL => \"first\", \"second\", etc.\n",
            "ORG => Companies, agencies, institutions, etc.\n",
            "PERCENT => Percentage, including \"%\"\n",
            "PERSON => People, including fictional\n",
            "PRODUCT => Objects, vehicles, foods, etc. (not services)\n",
            "QUANTITY => Measurements, as of weight or distance\n",
            "TIME => Times smaller than a day\n",
            "WORK_OF_ART => Titles of books, songs, etc.\n"
          ]
        }
      ]
    },
    {
      "cell_type": "code",
      "source": [
        "# sometimes, only these entities are not enough for our tasks\n",
        "# like it can miss some words in domain soecific works like medical/finance, they have their own terminologies\n",
        "\n",
        "text = 'ELon musk is a CEO of Tesla'\n",
        "\n",
        "doc = ner(text)\n",
        "for ent in doc.ents:\n",
        "    print(ent, '=>',ent.label_)  # here only tesla is getting identified as Organisation but not Elon Musk"
      ],
      "metadata": {
        "colab": {
          "base_uri": "https://localhost:8080/"
        },
        "id": "WpN6-gLOtfP7",
        "outputId": "03d27ae9-3203-438e-dc40-89d096dbe743"
      },
      "execution_count": null,
      "outputs": [
        {
          "output_type": "stream",
          "name": "stdout",
          "text": [
            "Tesla => ORG\n"
          ]
        }
      ]
    },
    {
      "cell_type": "code",
      "source": [
        "text = 'We are learning in Velocity'\n",
        "\n",
        "doc = ner(text)\n",
        "for ent in doc.ents:\n",
        "    print(ent, '=>',ent.label_)   # here we can see that it is not able to identify velocity as an ORG but gave wrong as GPE"
      ],
      "metadata": {
        "colab": {
          "base_uri": "https://localhost:8080/"
        },
        "id": "LqTjkTiUuPeq",
        "outputId": "54b374c6-2d46-477e-fb34-d32a5202e026"
      },
      "execution_count": null,
      "outputs": [
        {
          "output_type": "stream",
          "name": "stdout",
          "text": [
            "Velocity => GPE\n"
          ]
        }
      ]
    },
    {
      "cell_type": "code",
      "source": [
        "# so now we need to add Velocity as ORG tagged"
      ],
      "metadata": {
        "id": "x4q43Yw9uhH6"
      },
      "execution_count": null,
      "outputs": []
    },
    {
      "cell_type": "markdown",
      "source": [
        "### ways to build NER on custom entities"
      ],
      "metadata": {
        "id": "ozcEtB3mmzVb"
      }
    },
    {
      "cell_type": "code",
      "source": [
        "# ways to build NER on custom entities\n",
        "# 1) dictionary\n",
        "# tags = {\"Velocity\":\"ORG\"} # here problem is that if some Velocity as a Verb comes, than also it will tag it as an ORG, thats Problematic\n",
        "\n",
        "\n",
        "# 2)Rule Based\n",
        "# entityruler --> pattern based, similar to Regex\n",
        "\n",
        "# 3)ML based\n",
        "# finetuning of spacy3 model, make use of BERT model\n",
        "\n"
      ],
      "metadata": {
        "id": "x9Px25tHurcP"
      },
      "execution_count": null,
      "outputs": []
    },
    {
      "cell_type": "markdown",
      "source": [
        "## 1. Dictionary based"
      ],
      "metadata": {
        "id": "zoUYYXaR5WyM"
      }
    },
    {
      "cell_type": "code",
      "source": [
        "doc[4:5] # so the position of velocity is at span 4 to 5"
      ],
      "metadata": {
        "colab": {
          "base_uri": "https://localhost:8080/"
        },
        "id": "eXGdURq42p83",
        "outputId": "f2e09d5e-1dfc-4587-8d17-d95f30a5edb9"
      },
      "execution_count": null,
      "outputs": [
        {
          "output_type": "execute_result",
          "data": {
            "text/plain": [
              "Velocity"
            ]
          },
          "metadata": {},
          "execution_count": 43
        }
      ]
    },
    {
      "cell_type": "code",
      "source": [
        "from spacy.tokens import Span"
      ],
      "metadata": {
        "id": "7Fgf5aASuzhh"
      },
      "execution_count": null,
      "outputs": []
    },
    {
      "cell_type": "code",
      "source": [
        "span1 = Span(doc, 4, 5,label=\"ORG\")#here,we have given the tag(created a span) of ORG to the span of 4:5 that means, position of Velocity"
      ],
      "metadata": {
        "id": "8Jd0g4qB3DlC"
      },
      "execution_count": null,
      "outputs": []
    },
    {
      "cell_type": "code",
      "source": [
        "#now  we have to set our entity in the doc\n",
        "doc.set_ents([span1], default=\"unmodified\") # we can set multiple span and pass in the dict"
      ],
      "metadata": {
        "id": "WN4Pirfv3yWC"
      },
      "execution_count": null,
      "outputs": []
    },
    {
      "cell_type": "code",
      "source": [
        "# now we will run on the same docs created earlier\n",
        "for ent in doc.ents:\n",
        "    print(ent, '=>',ent.label_)  # now we can see that its recognizing velocity as an ORG"
      ],
      "metadata": {
        "colab": {
          "base_uri": "https://localhost:8080/"
        },
        "id": "LF9Z5_6E4aR3",
        "outputId": "90a8dfed-41e3-4371-f130-88033a5976c2"
      },
      "execution_count": null,
      "outputs": [
        {
          "output_type": "stream",
          "name": "stdout",
          "text": [
            "Velocity => ORG\n"
          ]
        }
      ]
    },
    {
      "cell_type": "code",
      "source": [
        "# this is like a hardcoded, works on specific documents related to specific domains"
      ],
      "metadata": {
        "id": "kn1HIIPD47KL"
      },
      "execution_count": null,
      "outputs": []
    },
    {
      "cell_type": "markdown",
      "source": [
        "## 2.Entity Ruler"
      ],
      "metadata": {
        "id": "MRfqk0kY5eii"
      }
    },
    {
      "cell_type": "code",
      "source": [
        "import spacy"
      ],
      "metadata": {
        "id": "uZg2YNJnwt6y"
      },
      "execution_count": null,
      "outputs": []
    },
    {
      "cell_type": "code",
      "source": [
        "from spacy.pipeline import EntityRuler"
      ],
      "metadata": {
        "id": "yZnMvZMv5h77"
      },
      "execution_count": null,
      "outputs": []
    },
    {
      "cell_type": "code",
      "source": [
        "ner = spacy.load(\"en_core_web_sm\")\n",
        "# nlp = spacy.load(\"en_core_web_sm\")"
      ],
      "metadata": {
        "id": "i1hh9GH389yc"
      },
      "execution_count": null,
      "outputs": []
    },
    {
      "cell_type": "code",
      "source": [
        "text = 'We are learning in Velocity, phone no is 9876543210'\n",
        "# here we have a pattern of Phone no, we have to identify it as an Phone no"
      ],
      "metadata": {
        "id": "0h4hT9Mv5sGM"
      },
      "execution_count": null,
      "outputs": []
    },
    {
      "cell_type": "code",
      "source": [
        "pattern = [{'label':'PHONE','pattern':[{'TEXT':{'REGEX':'\\d{10}'}}]}]"
      ],
      "metadata": {
        "id": "dmR_zneM6Sf-"
      },
      "execution_count": null,
      "outputs": []
    },
    {
      "cell_type": "code",
      "source": [
        "ruler = ner.add_pipe(\"entity_ruler\",before=\"ner\")# here we are adding one more component to the ner pipeline loaded above"
      ],
      "metadata": {
        "id": "tFxqInNR85D6"
      },
      "execution_count": null,
      "outputs": []
    },
    {
      "cell_type": "code",
      "source": [
        "ruler.add_patterns(pattern) # here we have added our created pattern to the new component added just above"
      ],
      "metadata": {
        "id": "TrxDf9Jt9bQB"
      },
      "execution_count": null,
      "outputs": []
    },
    {
      "cell_type": "code",
      "source": [
        "doc = ner(text) # converting into tokens"
      ],
      "metadata": {
        "id": "_Xr26RRk9q8e"
      },
      "execution_count": null,
      "outputs": []
    },
    {
      "cell_type": "code",
      "source": [
        "new_ner = ner(doc)"
      ],
      "metadata": {
        "id": "z-1GAGM2xkWo"
      },
      "execution_count": null,
      "outputs": []
    },
    {
      "cell_type": "code",
      "source": [
        "for ent in new_ner.ents:\n",
        "    print(ent, '=>',ent.label_)"
      ],
      "metadata": {
        "colab": {
          "base_uri": "https://localhost:8080/"
        },
        "id": "UEbaP1qUxoF6",
        "outputId": "fcb23cb2-c0c8-4035-fc60-c5eafc7e6427"
      },
      "execution_count": null,
      "outputs": [
        {
          "output_type": "stream",
          "name": "stdout",
          "text": [
            "Velocity => GPE\n",
            "9876543210 => PHONE\n"
          ]
        }
      ]
    },
    {
      "cell_type": "code",
      "source": [
        "# Applications of Entity ruler\n",
        "  #pattern based entity tagging\n"
      ],
      "metadata": {
        "id": "EmQvqgxpySeP"
      },
      "execution_count": null,
      "outputs": []
    },
    {
      "cell_type": "markdown",
      "source": [
        "## 3.Finetuning"
      ],
      "metadata": {
        "id": "rHZFqhzVmhBa"
      }
    },
    {
      "cell_type": "code",
      "source": [
        "'''in our txt file, we have COVID-19 , a medical term, which we need to identify under NER.\n",
        "For that reason, we have to label it\n",
        "'''"
      ],
      "metadata": {
        "id": "e82l0PBSnwSI"
      },
      "execution_count": null,
      "outputs": []
    },
    {
      "cell_type": "code",
      "source": [
        "'''Labelling tools\n",
        "    1. Prodi.gy --> paid tool\n",
        "    2.https://arunmozhi.in/ner-annotator/ --> open source\n",
        "        we have to do labelling manually , visited this site, uploaded my text file, created labels,\n",
        "        tagged them manually one by one, word by word. For ex, We created a Label named as VIRUS,\n",
        "        and tagged COVID-19 as virus, if it is present 100 times, we have to do it manually 100 times.\n",
        "\n",
        "        So by doing this manually , we saved ot and then exported it, after that a json file was downloaded\n",
        "        We will be using the same downloaded file over here.Its available in the file folder left side.\n",
        "        file name is \"annotations.json\"\n",
        "\n",
        "'''"
      ],
      "metadata": {
        "colab": {
          "base_uri": "https://localhost:8080/",
          "height": 87
        },
        "id": "t7rFnHVLmj4H",
        "outputId": "99640fdc-35aa-423b-c929-276c6f80a175"
      },
      "execution_count": 1,
      "outputs": [
        {
          "output_type": "execute_result",
          "data": {
            "text/plain": [
              "'Labelling tools\\n    1. Prodi.gy --> paid tool\\n    2.https://arunmozhi.in/ner-annotator/ --> open source\\n        we have to do labelling manually , visited this site, uploaded my text file, created labels,\\n        tagged them manually one by one, word by word. For ex, We created a Label named as VIRUS,\\n        and tagged COVID-19 as virus, if it is present 100 times, we have to do it manually 100 times.\\n\\n'"
            ],
            "application/vnd.google.colaboratory.intrinsic+json": {
              "type": "string"
            }
          },
          "metadata": {},
          "execution_count": 1
        }
      ]
    },
    {
      "cell_type": "code",
      "source": [
        "import spacy\n",
        "from spacy.tokens import DocBin   #  DocBin takes care of the format of the data for training"
      ],
      "metadata": {
        "id": "IaQ_EHO-rizp"
      },
      "execution_count": 2,
      "outputs": []
    },
    {
      "cell_type": "code",
      "source": [
        "nlp = spacy.blank(\"en\")  # blank pipeline\n",
        "db = DocBin()  # empty db"
      ],
      "metadata": {
        "id": "qds8Hz0dsR1d"
      },
      "execution_count": 3,
      "outputs": []
    },
    {
      "cell_type": "code",
      "source": [
        "import json\n",
        "\n",
        "f = open(\"annotations.json\",encoding=\"utf8\")\n",
        "\n",
        "TRAIN_DATA = json.load(f)"
      ],
      "metadata": {
        "id": "lOdSh3cmsZzB"
      },
      "execution_count": 5,
      "outputs": []
    },
    {
      "cell_type": "code",
      "source": [
        "TRAIN_DATA"
      ],
      "metadata": {
        "colab": {
          "base_uri": "https://localhost:8080/"
        },
        "id": "djN02wnPsi38",
        "outputId": "dbddc2b8-0d10-4829-d569-b721f85a81d1"
      },
      "execution_count": 6,
      "outputs": [
        {
          "output_type": "execute_result",
          "data": {
            "text/plain": [
              "{'classes': ['VIRUS', 'DIESESE'],\n",
              " 'annotations': [[\"The symptoms of COVID‑19 can vary but often include fever,[7] fatigue, cough, breathing difficulties, loss of smell, and loss of taste.[8][9][10] Symptoms may begin one to fourteen days after exposure to the virus. At least a third of people who are infected do not develop noticeable symptoms.[11][12] Of those who develop symptoms noticeable enough to be classified as patients, most (81%) develop mild to moderate symptoms (up to mild pneumonia), while 14% develop severe symptoms (dyspnea, hypoxia, or more than 50% lung involvement on imaging), and 5% develop critical symptoms (respiratory failure, shock, or multiorgan dysfunction).[13] Older people have a higher risk of developing severe symptoms. Some complications result in death. Some people continue to experience a range of effects (long COVID) for months or years after infection, and damage to organs has been observed.[14] Multi-year studies on the long-term effects are ongoing.[15]\\r\\n\\r\\nCOVID‑19 transmission occurs when infectious particles are breathed in or come into contact with the eyes, nose, or mouth. The risk is highest when people are in close proximity, but small airborne particles containing the virus can remain suspended in the air and travel over longer distances, particularly indoors. Transmission can also occur when people touch their eyes, nose, or mouth after touching surfaces or objects that have been contaminated by the virus. People remain contagious for up to 20 days and can spread the virus even if they do not develop symptoms.[16]\\r\\n\\r\\nTesting methods for COVID-19 to detect the virus's nucleic acid include real-time reverse transcription polymerase chain reaction (RT‑PCR),[17][18] transcription-mediated amplification,[17][18][19] and reverse transcription loop-mediated isothermal amplification (RT‑LAMP)[17][18] from a nasopharyngeal swab.[20]\\r\\n\\r\\nSeveral COVID-19 vaccines have been approved and distributed in various countries, many of which have initiated mass vaccination campaigns. Other preventive measures include physical or social distancing, quarantining, ventilation of indoor spaces, use of face masks or coverings in public, covering coughs and sneezes, hand washing, and keeping unwashed hands away from the face. While drugs have been developed to inhibit the virus, the primary treatment is still symptomatic, managing the disease through supportive care, isolation, and experimental measures.\\r\\n\\r\\nThe first known case was identified in Wuhan, China, in December 2019.[21] Most scientists believe that the SARS-CoV-2 virus entered into human populations through natural zoonosis, similar to the SARS-CoV-1 and MERS-CoV outbreaks, and consistent with other pandemics in human history.[22][23] Social and environmental factors including climate change, natural ecosystem destruction and wildlife trade increased the likelihood of such zoonotic spillover.\",\n",
              "   {'entities': [[16, 24, 'VIRUS'],\n",
              "     [52, 57, 'DIESESE'],\n",
              "     [62, 69, 'DIESESE'],\n",
              "     [71, 76, 'DIESESE'],\n",
              "     [78, 100, 'DIESESE'],\n",
              "     [102, 115, 'DIESESE'],\n",
              "     [121, 135, 'DIESESE'],\n",
              "     [484, 485, 'DIESESE'],\n",
              "     [485, 492, 'DIESESE'],\n",
              "     [494, 501, 'DIESESE'],\n",
              "     [584, 603, 'DIESESE'],\n",
              "     [605, 610, 'DIESESE'],\n",
              "     [615, 637, 'DIESESE'],\n",
              "     [798, 808, 'VIRUS'],\n",
              "     [955, 963, 'VIRUS'],\n",
              "     [1555, 1563, 'VIRUS'],\n",
              "     [1859, 1867, 'VIRUS'],\n",
              "     [2151, 2157, 'DIESESE'],\n",
              "     [2162, 2169, 'DIESESE'],\n",
              "     [2525, 2535, 'VIRUS'],\n",
              "     [2614, 2624, 'VIRUS'],\n",
              "     [2629, 2637, 'VIRUS']]}]]}"
            ]
          },
          "metadata": {},
          "execution_count": 6
        }
      ]
    },
    {
      "cell_type": "code",
      "source": [
        "for text,annot in TRAIN_DATA['annotations']:\n",
        "  doc = nlp.make_doc(text)\n",
        "  ents = []\n",
        "  for start,end,label in annot[\"entities\"]:\n",
        "    #eg --> [16, 24, 'VIRUS'] = [start,end,label] | 'contract' removes the white spaces in starting/ending if any\n",
        "    span = doc.char_span(start,end,label,alignment_mode='contract')\n",
        "    if span is None:\n",
        "      print('none')\n",
        "    else:\n",
        "      ents.append(span)\n",
        "    doc.ents = ents\n",
        "    db.add(doc)\n",
        "\n",
        "db.to_disk('training_data.spacy')\n",
        "\n",
        "# now our dataset is ready with named 'training_data.spacy'"
      ],
      "metadata": {
        "colab": {
          "base_uri": "https://localhost:8080/"
        },
        "id": "H6HhSbAMs43l",
        "outputId": "882bc626-3991-475e-9119-f7ec8beb6e67"
      },
      "execution_count": 16,
      "outputs": [
        {
          "output_type": "stream",
          "name": "stdout",
          "text": [
            "none\n"
          ]
        }
      ]
    },
    {
      "cell_type": "code",
      "source": [
        "# Training\n",
        "\n",
        "# for training, we need a config file in which all the parameters required for training is given\n",
        "\n",
        "# we will be using a CLI command for training, as mostly these training happens on cloud servers\n",
        " # and there we mostly use CLI for suc tasks\n",
        "\n",
        " #if we have created this dataset (training_data.spacy), than if using server, we have to upload\n",
        " #it there and run the below two CLI command in terminal for starting the training\n",
        "#after running only these two commands, the model will start its training\n",
        "\n",
        "\n"
      ],
      "metadata": {
        "id": "mGWAQxodvtGX"
      },
      "execution_count": 11,
      "outputs": []
    },
    {
      "cell_type": "code",
      "source": [
        "# command for downloading the config file\n",
        "!python -m spacy init config config.cfg --lang en --pipeline ner --optimize efficiency\n",
        "\n",
        "#after running this command, config file is downloaded, it have all the parameters required for training"
      ],
      "metadata": {
        "colab": {
          "base_uri": "https://localhost:8080/"
        },
        "id": "C85e0YEgyDVy",
        "outputId": "297efbab-e333-4660-bb3a-7c1b6c412cb1"
      },
      "execution_count": 13,
      "outputs": [
        {
          "output_type": "stream",
          "name": "stdout",
          "text": [
            "\u001b[38;5;3m⚠ To generate a more effective transformer-based config (GPU-only),\n",
            "install the spacy-transformers package and re-run this command. The config\n",
            "generated now does not use transformers.\u001b[0m\n",
            "\u001b[38;5;4mℹ Generated config template specific for your use case\u001b[0m\n",
            "- Language: en\n",
            "- Pipeline: ner\n",
            "- Optimize for: efficiency\n",
            "- Hardware: CPU\n",
            "- Transformer: None\n",
            "\u001b[38;5;2m✔ Auto-filled config with all values\u001b[0m\n",
            "\u001b[38;5;2m✔ Saved config\u001b[0m\n",
            "config.cfg\n",
            "You can now add your data and train your pipeline:\n",
            "python -m spacy train config.cfg --paths.train ./train.spacy --paths.dev ./dev.spacy\n"
          ]
        }
      ]
    },
    {
      "cell_type": "code",
      "source": [
        "#command for training after downloading the config file\n",
        "!python -m spacy train config.cfg --output ./ --paths.train ./training_data.spacy --paths.dev ./training_data.spacy"
      ],
      "metadata": {
        "colab": {
          "base_uri": "https://localhost:8080/"
        },
        "id": "up3oI_kpyE6-",
        "outputId": "316b495d-fb60-462d-adc5-0626364fdbbd"
      },
      "execution_count": 17,
      "outputs": [
        {
          "output_type": "stream",
          "name": "stdout",
          "text": [
            "\u001b[38;5;4mℹ Saving to output directory: .\u001b[0m\n",
            "\u001b[38;5;4mℹ Using CPU\u001b[0m\n",
            "\u001b[1m\n",
            "=========================== Initializing pipeline ===========================\u001b[0m\n",
            "\u001b[38;5;2m✔ Initialized pipeline\u001b[0m\n",
            "\u001b[1m\n",
            "============================= Training pipeline =============================\u001b[0m\n",
            "\u001b[38;5;4mℹ Pipeline: ['tok2vec', 'ner']\u001b[0m\n",
            "\u001b[38;5;4mℹ Initial learn rate: 0.001\u001b[0m\n",
            "E    #       LOSS TOK2VEC  LOSS NER  ENTS_F  ENTS_P  ENTS_R  SCORE \n",
            "---  ------  ------------  --------  ------  ------  ------  ------\n",
            "  0       0          0.00    210.50    0.00    0.00    0.00    0.00\n",
            "  9     200       4692.78   6673.07   73.01   75.00   71.12    0.73\n",
            " 18     400         99.74   1897.46   75.00   70.45   80.17    0.75\n",
            " 27     600         97.67   1832.68   65.80   82.47   54.74    0.66\n",
            " 36     800         81.39   1787.76   74.68   73.14   76.29    0.75\n",
            " 45    1000         77.55   1761.96   73.45   75.45   71.55    0.73\n",
            " 54    1200         64.78   1711.56   75.40   70.83   80.60    0.75\n",
            " 63    1400         67.29   1692.38   71.63   77.78   66.38    0.72\n",
            " 72    1600         68.97   1681.02   65.80   82.47   54.74    0.66\n",
            " 81    1800         91.44   1701.87   74.68   73.14   76.29    0.75\n",
            " 90    2000        108.78   1727.76   75.40   70.83   80.60    0.75\n",
            "100    2200         82.25   1705.70   74.68   73.14   76.29    0.75\n",
            "109    2400         95.85   1695.58   71.63   77.78   66.38    0.72\n",
            "118    2600        115.28   1750.28   75.40   70.83   80.60    0.75\n",
            "127    2800        145.25   1721.04   71.16   77.27   65.95    0.71\n",
            "\u001b[38;5;2m✔ Saved pipeline to output directory\u001b[0m\n",
            "model-last\n"
          ]
        }
      ]
    },
    {
      "cell_type": "code",
      "source": [
        "# we can see that two models are saved, model-best and model-last\n",
        "  #model-best --> model with best accuracy\n",
        "  #model-last --> model with last iteration"
      ],
      "metadata": {
        "id": "a39bVi-Wy4Ma"
      },
      "execution_count": 18,
      "outputs": []
    },
    {
      "cell_type": "code",
      "source": [
        "#Deployment of this in Production\n",
        "  #for deployment, we would be needing the whole folder\n",
        "  #we will download it and upload it on the deployment server"
      ],
      "metadata": {
        "id": "iby-CBvy1pOJ"
      },
      "execution_count": null,
      "outputs": []
    },
    {
      "cell_type": "code",
      "source": [
        "## now making inferences on the trained model"
      ],
      "metadata": {
        "id": "tkVaLuh32LJU"
      },
      "execution_count": 19,
      "outputs": []
    },
    {
      "cell_type": "code",
      "source": [
        "trained_ner = spacy.load(\"model-best\")  # same process which we did earlier for prebuilt spacy model"
      ],
      "metadata": {
        "id": "EWZfdiAE2Qkn"
      },
      "execution_count": 20,
      "outputs": []
    },
    {
      "cell_type": "code",
      "source": [
        "text = \"COVID‑19 caused damage\"\n",
        "\n",
        "doc = trained_ner(text)"
      ],
      "metadata": {
        "id": "EznpUylb204m"
      },
      "execution_count": 21,
      "outputs": []
    },
    {
      "cell_type": "code",
      "source": [
        "doc.ents # its not showing anything as the dataset was too small, but for larger data, it will work"
      ],
      "metadata": {
        "colab": {
          "base_uri": "https://localhost:8080/"
        },
        "id": "jJNh0KDI3fy7",
        "outputId": "7689e8c1-4f93-4cf4-9dc2-f930cba03d3d"
      },
      "execution_count": 22,
      "outputs": [
        {
          "output_type": "execute_result",
          "data": {
            "text/plain": [
              "()"
            ]
          },
          "metadata": {},
          "execution_count": 22
        }
      ]
    },
    {
      "cell_type": "code",
      "source": [],
      "metadata": {
        "id": "iRB3TLVX4rC5"
      },
      "execution_count": null,
      "outputs": []
    },
    {
      "cell_type": "markdown",
      "source": [
        "## Transformers for NER"
      ],
      "metadata": {
        "id": "F2ZM7QLj4sHw"
      }
    },
    {
      "cell_type": "code",
      "source": [
        "!pip install transformers"
      ],
      "metadata": {
        "colab": {
          "base_uri": "https://localhost:8080/"
        },
        "id": "n2uEypv04u0W",
        "outputId": "39f54269-b9f3-4bc9-ef95-c7de46bd9a9f"
      },
      "execution_count": 23,
      "outputs": [
        {
          "output_type": "stream",
          "name": "stdout",
          "text": [
            "Requirement already satisfied: transformers in /usr/local/lib/python3.11/dist-packages (4.51.3)\n",
            "Requirement already satisfied: filelock in /usr/local/lib/python3.11/dist-packages (from transformers) (3.18.0)\n",
            "Requirement already satisfied: huggingface-hub<1.0,>=0.30.0 in /usr/local/lib/python3.11/dist-packages (from transformers) (0.31.2)\n",
            "Requirement already satisfied: numpy>=1.17 in /usr/local/lib/python3.11/dist-packages (from transformers) (2.0.2)\n",
            "Requirement already satisfied: packaging>=20.0 in /usr/local/lib/python3.11/dist-packages (from transformers) (24.2)\n",
            "Requirement already satisfied: pyyaml>=5.1 in /usr/local/lib/python3.11/dist-packages (from transformers) (6.0.2)\n",
            "Requirement already satisfied: regex!=2019.12.17 in /usr/local/lib/python3.11/dist-packages (from transformers) (2024.11.6)\n",
            "Requirement already satisfied: requests in /usr/local/lib/python3.11/dist-packages (from transformers) (2.32.3)\n",
            "Requirement already satisfied: tokenizers<0.22,>=0.21 in /usr/local/lib/python3.11/dist-packages (from transformers) (0.21.1)\n",
            "Requirement already satisfied: safetensors>=0.4.3 in /usr/local/lib/python3.11/dist-packages (from transformers) (0.5.3)\n",
            "Requirement already satisfied: tqdm>=4.27 in /usr/local/lib/python3.11/dist-packages (from transformers) (4.67.1)\n",
            "Requirement already satisfied: fsspec>=2023.5.0 in /usr/local/lib/python3.11/dist-packages (from huggingface-hub<1.0,>=0.30.0->transformers) (2025.3.2)\n",
            "Requirement already satisfied: typing-extensions>=3.7.4.3 in /usr/local/lib/python3.11/dist-packages (from huggingface-hub<1.0,>=0.30.0->transformers) (4.13.2)\n",
            "Requirement already satisfied: charset-normalizer<4,>=2 in /usr/local/lib/python3.11/dist-packages (from requests->transformers) (3.4.2)\n",
            "Requirement already satisfied: idna<4,>=2.5 in /usr/local/lib/python3.11/dist-packages (from requests->transformers) (3.10)\n",
            "Requirement already satisfied: urllib3<3,>=1.21.1 in /usr/local/lib/python3.11/dist-packages (from requests->transformers) (2.4.0)\n",
            "Requirement already satisfied: certifi>=2017.4.17 in /usr/local/lib/python3.11/dist-packages (from requests->transformers) (2025.4.26)\n"
          ]
        }
      ]
    },
    {
      "cell_type": "code",
      "source": [
        "from transformers import pipeline"
      ],
      "metadata": {
        "id": "95LUAzwB430H"
      },
      "execution_count": 24,
      "outputs": []
    },
    {
      "cell_type": "code",
      "source": [
        "ner_transformer = pipeline(model = \"dslim/bert-base-NER-uncased\")"
      ],
      "metadata": {
        "colab": {
          "base_uri": "https://localhost:8080/",
          "height": 266,
          "referenced_widgets": [
            "e1fcde68f43d426f9d93009acdeeef2f",
            "d25155b1745d4ebc9c01e609e18c065e",
            "674ea48c934741c8a6a0b5a2daa7563a",
            "d8abe1df1b424f2cb9739a48763660fa",
            "4c290cd993d64dc8ba048ee40a5ae71f",
            "18ff4b3696304adc8e2728ed88c43b8a",
            "c2717e37ab3a4b77bd55a3918f3439cc",
            "ba55f295b1314e74ac3509e85eb3b5a7",
            "08b6f0e8982444d7aab849a42be91571",
            "a6dd08904400412f81a19f21d443562f",
            "1ee9ee5185d948faabf07b9c697a7b8a",
            "c7e7fb06f2dd4511b2a357b73f646caa",
            "419b152e227e4bc59e103070d800fea6",
            "77c58b0b7d0b4df4895243de8b97ead6",
            "fd33e3dc8eb44e9e95a847b06cafc25e",
            "c7417957a980448ea15e60302f29db4e",
            "f5f58f402c4b4490936aa46fb5a2a952",
            "79dc4e80a2b644948c82528314b90217",
            "e91af3a14a414d2fb0a78aa516131fa6",
            "db7e1dd321c84b6faf5109655f3d6755",
            "5990ba53ec6e48ccb62eb6e14ba41af9",
            "3c7e3bae84f74b968d607e96089cd912",
            "9ef1233e93c841118b0e3ef865228c1d",
            "fcd8866fee0e4b9bb3bbbe22a0276e58",
            "b3bc2c633df14843bdc2a7cc656e5211",
            "a164ddcc08634b69bd00f5c95cd1dbc9",
            "5213e685f4d14f6486e01f9bb7da7258",
            "a9600cb4ea3b47d3b99dc387b34bee53",
            "23d68494bd664971b360b364fe812997",
            "41020980a5c94995b006a8f825cf3d0e",
            "82bf802a461f41119f050b5fb0357a0e",
            "39f28a0785c14793aa2c7aa45992edf1",
            "ee7afe8bcfeb41c7ada52984be1b6e64",
            "6c7796eb28e946688f40ea193654df8f",
            "e5778e3eac42488881faf64a74a52d54",
            "3ab07a4013a74c338cef64d9439a3b0d",
            "eec628cc045c4a5d9e52f950725678a8",
            "397f3896a7b34f01bcb3f3493a49859c",
            "27576ccb62d1405d96db39aefd913468",
            "8ccf77c7390f405ba4a9681baa9fa6bf",
            "c9413334720547039a104ad9a99e317c",
            "7e9e66aa548f4461befce7af87b40d13",
            "b58f0bf2477043f8b96d97310d6ebd31",
            "817820748aac480a8d4a33594de9afa6",
            "a026306d171c47b8b1aa068d115d6627",
            "1cbcf9ef87824e259dc9606c5455721a",
            "30363b86e2c84a1493cf7a74ee82f049",
            "51e51d2bfae34536a8c5a394acd4c4ee",
            "d0042151f5b44304a7505d5a2f6385be",
            "6cf7985a0dc949a289f000e58969c3a4",
            "f9885cbe6bac41e7b816ac2a4d29bb8d",
            "6ddf8860f89f485f874cd9bd15e5fae4",
            "61cbe2270ab94cf8a13e35108a87d38b",
            "e6a7691182564d7dbc235981de0d9d52",
            "72d98d22b4ad4463989818ecf65e2690"
          ]
        },
        "id": "3bsfOok-4zcK",
        "outputId": "ba77c94c-bc91-4727-ceee-034392993e99"
      },
      "execution_count": 25,
      "outputs": [
        {
          "output_type": "display_data",
          "data": {
            "text/plain": [
              "config.json:   0%|          | 0.00/1.26k [00:00<?, ?B/s]"
            ],
            "application/vnd.jupyter.widget-view+json": {
              "version_major": 2,
              "version_minor": 0,
              "model_id": "e1fcde68f43d426f9d93009acdeeef2f"
            }
          },
          "metadata": {}
        },
        {
          "output_type": "display_data",
          "data": {
            "text/plain": [
              "model.safetensors:   0%|          | 0.00/438M [00:00<?, ?B/s]"
            ],
            "application/vnd.jupyter.widget-view+json": {
              "version_major": 2,
              "version_minor": 0,
              "model_id": "c7e7fb06f2dd4511b2a357b73f646caa"
            }
          },
          "metadata": {}
        },
        {
          "output_type": "stream",
          "name": "stderr",
          "text": [
            "Some weights of the model checkpoint at dslim/bert-base-NER-uncased were not used when initializing BertForTokenClassification: ['bert.pooler.dense.bias', 'bert.pooler.dense.weight']\n",
            "- This IS expected if you are initializing BertForTokenClassification from the checkpoint of a model trained on another task or with another architecture (e.g. initializing a BertForSequenceClassification model from a BertForPreTraining model).\n",
            "- This IS NOT expected if you are initializing BertForTokenClassification from the checkpoint of a model that you expect to be exactly identical (initializing a BertForSequenceClassification model from a BertForSequenceClassification model).\n"
          ]
        },
        {
          "output_type": "display_data",
          "data": {
            "text/plain": [
              "tokenizer_config.json:   0%|          | 0.00/39.0 [00:00<?, ?B/s]"
            ],
            "application/vnd.jupyter.widget-view+json": {
              "version_major": 2,
              "version_minor": 0,
              "model_id": "9ef1233e93c841118b0e3ef865228c1d"
            }
          },
          "metadata": {}
        },
        {
          "output_type": "display_data",
          "data": {
            "text/plain": [
              "vocab.txt:   0%|          | 0.00/232k [00:00<?, ?B/s]"
            ],
            "application/vnd.jupyter.widget-view+json": {
              "version_major": 2,
              "version_minor": 0,
              "model_id": "6c7796eb28e946688f40ea193654df8f"
            }
          },
          "metadata": {}
        },
        {
          "output_type": "display_data",
          "data": {
            "text/plain": [
              "special_tokens_map.json:   0%|          | 0.00/112 [00:00<?, ?B/s]"
            ],
            "application/vnd.jupyter.widget-view+json": {
              "version_major": 2,
              "version_minor": 0,
              "model_id": "a026306d171c47b8b1aa068d115d6627"
            }
          },
          "metadata": {}
        },
        {
          "output_type": "stream",
          "name": "stderr",
          "text": [
            "Device set to use cpu\n"
          ]
        }
      ]
    },
    {
      "cell_type": "code",
      "source": [
        "text = \"bill gates founded microsoft\"\n",
        "ner_transformer(text)"
      ],
      "metadata": {
        "colab": {
          "base_uri": "https://localhost:8080/"
        },
        "id": "EERDno3a5IFF",
        "outputId": "8793c897-ff04-4fe9-dd9d-5fe7d010e391"
      },
      "execution_count": 26,
      "outputs": [
        {
          "output_type": "execute_result",
          "data": {
            "text/plain": [
              "[{'entity': 'B-PER',\n",
              "  'score': np.float32(0.99582714),\n",
              "  'index': 1,\n",
              "  'word': 'bill',\n",
              "  'start': 0,\n",
              "  'end': 4},\n",
              " {'entity': 'I-PER',\n",
              "  'score': np.float32(0.99281466),\n",
              "  'index': 2,\n",
              "  'word': 'gates',\n",
              "  'start': 5,\n",
              "  'end': 10},\n",
              " {'entity': 'B-ORG',\n",
              "  'score': np.float32(0.98988754),\n",
              "  'index': 4,\n",
              "  'word': 'microsoft',\n",
              "  'start': 19,\n",
              "  'end': 28}]"
            ]
          },
          "metadata": {},
          "execution_count": 26
        }
      ]
    },
    {
      "cell_type": "code",
      "source": [
        "\"\"\"\n",
        "[{'entity': 'B-PER',\n",
        "  'score': np.float32(0.99582714),\n",
        "  'index': 1,\n",
        "  'word': 'bill',\n",
        "  'start': 0,\n",
        "  'end': 4},\n",
        " {'entity': 'I-PER',\n",
        "  'score': np.float32(0.99281466),\n",
        "  'index': 2,\n",
        "  'word': 'gates',\n",
        "  'start': 5,\n",
        "  'end': 10},\n",
        " {'entity': 'B-ORG',\n",
        "  'score': np.float32(0.98988754),\n",
        "  'index': 4,\n",
        "  'word': 'microsoft',\n",
        "  'start': 19,\n",
        "  'end': 28}]\n",
        "\"\"\"\n",
        "\n",
        "# here we can see that the given entities are like \"B-PER\",\"I-PER\",\"B-ORG\"\n",
        "  #this is a format of tagging named as IOB format\n",
        "  # I --> inside\n",
        "  # o --> outside\n",
        "  # B --> begining\n",
        "\n",
        "  # bill --> B-PER --> begining of the name of the person\n",
        "  # gates --> I-PER -->inside the name of the person\n",
        "  # founded --> this was not tagged as any we can see above, so it is assigned as outside"
      ],
      "metadata": {
        "id": "1p3LhReX5Tik"
      },
      "execution_count": null,
      "outputs": []
    },
    {
      "cell_type": "code",
      "source": [
        "text = \" narayan murthy founded infosys\"\n",
        "ner_transformer(text)\n",
        "# earlier we saw that model was not able to identify this text but with Transformer , it is able to do"
      ],
      "metadata": {
        "colab": {
          "base_uri": "https://localhost:8080/"
        },
        "id": "kMwID_MN6esF",
        "outputId": "7294a133-72fd-47eb-ec12-e184a310a915"
      },
      "execution_count": 27,
      "outputs": [
        {
          "output_type": "execute_result",
          "data": {
            "text/plain": [
              "[{'entity': 'B-PER',\n",
              "  'score': np.float32(0.99548846),\n",
              "  'index': 1,\n",
              "  'word': 'narayan',\n",
              "  'start': 1,\n",
              "  'end': 8},\n",
              " {'entity': 'I-PER',\n",
              "  'score': np.float32(0.9973943),\n",
              "  'index': 2,\n",
              "  'word': 'mu',\n",
              "  'start': 9,\n",
              "  'end': 11},\n",
              " {'entity': 'I-PER',\n",
              "  'score': np.float32(0.984729),\n",
              "  'index': 3,\n",
              "  'word': '##rth',\n",
              "  'start': 11,\n",
              "  'end': 14},\n",
              " {'entity': 'I-PER',\n",
              "  'score': np.float32(0.98603475),\n",
              "  'index': 4,\n",
              "  'word': '##y',\n",
              "  'start': 14,\n",
              "  'end': 15},\n",
              " {'entity': 'B-ORG',\n",
              "  'score': np.float32(0.99705446),\n",
              "  'index': 6,\n",
              "  'word': 'info',\n",
              "  'start': 24,\n",
              "  'end': 28},\n",
              " {'entity': 'I-ORG',\n",
              "  'score': np.float32(0.9965019),\n",
              "  'index': 7,\n",
              "  'word': '##sy',\n",
              "  'start': 28,\n",
              "  'end': 30},\n",
              " {'entity': 'I-ORG',\n",
              "  'score': np.float32(0.9972197),\n",
              "  'index': 8,\n",
              "  'word': '##s',\n",
              "  'start': 30,\n",
              "  'end': 31}]"
            ]
          },
          "metadata": {},
          "execution_count": 27
        }
      ]
    },
    {
      "cell_type": "code",
      "source": [],
      "metadata": {
        "id": "Yf7zUMIl6nQN"
      },
      "execution_count": null,
      "outputs": []
    }
  ]
}